{
 "cells": [
  {
   "cell_type": "code",
   "execution_count": 2,
   "id": "2e05c94e-e2ba-4709-bd14-674eb1627c46",
   "metadata": {},
   "outputs": [
    {
     "data": {
      "text/plain": [
       "True"
      ]
     },
     "execution_count": 2,
     "metadata": {},
     "output_type": "execute_result"
    }
   ],
   "source": [
    "import torch\n",
    "import torch.nn as nn\n",
    "import torch.optim as optim\n",
    "from torchvision import transforms, datasets\n",
    "from torch.utils.data import DataLoader, random_split\n",
    "\n",
    "import torch.backends.cudnn as cudnn\n",
    "cudnn.benchmark = True\n",
    "\n",
    "import wandb\n",
    "wandb.login()"
   ]
  },
  {
   "cell_type": "code",
   "execution_count": 3,
   "id": "09d549cb-57d5-4ded-870a-47dcc0b9808c",
   "metadata": {},
   "outputs": [
    {
     "name": "stdout",
     "output_type": "stream",
     "text": [
      "Using device: cuda\n"
     ]
    }
   ],
   "source": [
    "\n",
    "# Check for GPU availability\n",
    "device = torch.device(\"cuda\" if torch.cuda.is_available() else \"cpu\")\n",
    "print(f\"Using device: {device}\")\n",
    "\n",
    "# Define transforms for preprocessing and data augmentation\n",
    "transform = transforms.Compose([\n",
    "    transforms.Resize((256, 256)),\n",
    "    transforms.ToTensor(),\n",
    "    transforms.Normalize(mean=[0.5, 0.5, 0.5], std=[0.5, 0.5, 0.5])\n",
    "])"
   ]
  },
  {
   "cell_type": "code",
   "execution_count": 4,
   "id": "fba79ef2-5b67-43c9-a2df-338920664737",
   "metadata": {},
   "outputs": [],
   "source": [
    "sweep_config = {\n",
    "    \"name\": \"CNN - HyperParameter Search\",\n",
    "    \"metric\": {\"name\": \"val_accuracy\", \n",
    "            \"goal\": \"maximize\"},\n",
    "    \"method\": \"random\",\n",
    "    \"parameters\": {\n",
    "        \"learning_rate\": {\n",
    "            \"values\": [0.001, 0.005, 0.01]\n",
    "            },\n",
    "        \"num_conv_layer\": {\n",
    "            \"values\": [3, 5, 7]\n",
    "            },\n",
    "        \"num_conv_filter\": {\n",
    "            \"values\": [16, 32]\n",
    "            },\n",
    "        \"filter_org\":{\n",
    "            \"values\": [0.5, 1, 2]\n",
    "        },\n",
    "        \"batch_norm\": {\n",
    "            \"values\": [True, False]\n",
    "            },\n",
    "        \"dropout\": {\n",
    "            \"values\": [0.0, 0.2, 0.3, 0.4]\n",
    "            },\n",
    "        \"num_dense_layers\": {\n",
    "            \"values\": [1, 2]\n",
    "            },\n",
    "        \"dense_neurons\": {\n",
    "            \"values\": [256, 512]\n",
    "            },\n",
    "        \"kernel_size\":{\n",
    "            \"values\":[3, 5]\n",
    "        },\n",
    "        \"activation_func\":{\n",
    "            \"values\": [\"relu\", \"gelu\", \"silu\", \"mish\", \"tanh\"]\n",
    "        }\n",
    "    }\n",
    "}"
   ]
  },
  {
   "cell_type": "code",
   "execution_count": 5,
   "id": "58f52d22-8bb3-45a8-b406-367da49e4d56",
   "metadata": {},
   "outputs": [
    {
     "name": "stdout",
     "output_type": "stream",
     "text": [
      "Training set size: 7999\n",
      "Validation set size: 2000\n",
      "Test set size: 2000\n"
     ]
    }
   ],
   "source": [
    "dataset_path = \"inaturalist_12K/\"\n",
    "train_data = datasets.ImageFolder(root=f\"{dataset_path}/train\", transform=transform)\n",
    "test_data = datasets.ImageFolder(root=f\"{dataset_path}/val\", transform=transform)\n",
    "\n",
    "train_size = int(0.8 * len(train_data))\n",
    "val_size = len(train_data) - train_size\n",
    "train_subset, val_subset = random_split(train_data, [train_size, val_size])\n",
    "\n",
    "# Define DataLoaders\n",
    "batch_size = 64\n",
    "\n",
    "# Loading data onto ram\n",
    "class PreloadDataset(torch.utils.data.Dataset):\n",
    "    def __init__(self, dataset):\n",
    "        self.data = [(img, label) for img, label in dataset]\n",
    "\n",
    "    def __len__(self):\n",
    "        return len(self.data)\n",
    "\n",
    "    def __getitem__(self, idx):\n",
    "        return self.data[idx]\n",
    "\n",
    "train_subset = PreloadDataset(train_subset)\n",
    "val_subset = PreloadDataset(val_subset)\n",
    "test_data = PreloadDataset(test_data)\n",
    "\n",
    "train_loader = DataLoader(train_subset, batch_size=batch_size, shuffle=True)\n",
    "val_loader = DataLoader(val_subset, batch_size=batch_size, shuffle=False)\n",
    "test_loader = DataLoader(test_data, batch_size=batch_size, shuffle=False)\n",
    "\n",
    "print(f\"Training set size: {len(train_subset)}\")\n",
    "print(f\"Validation set size: {len(val_subset)}\")\n",
    "print(f\"Test set size: {len(test_data)}\")"
   ]
  },
  {
   "cell_type": "code",
   "execution_count": 6,
   "id": "3b29077a-993a-43ea-bd45-7c87eb53649b",
   "metadata": {},
   "outputs": [],
   "source": [
    "\n",
    "class CNN(nn.Module):\n",
    "    def __init__(self,\n",
    "                num_conv_layer=5,\n",
    "                num_conv_filter=32,\n",
    "                filter_org=2,\n",
    "                batch_norm=False,\n",
    "                dropout=0.25,\n",
    "                kernel_size=3,\n",
    "                activation_func='relu',\n",
    "                num_dense_layers=1,\n",
    "                dense_neurons=512):\n",
    "        super().__init__()\n",
    "        self.cnn_blocks = nn.Sequential()\n",
    "        self.conv_output_dim = None\n",
    "        \n",
    "        input_channel = 3\n",
    "        k = 0 # To keep track of the depth of the last conv layer\n",
    "        output_channel = num_conv_filter\n",
    "        \n",
    "        for _ in range(num_conv_layer):\n",
    "            layers = [nn.Conv2d(input_channel, output_channel, kernel_size, padding=(kernel_size-1)//2)]\n",
    "            if batch_norm:\n",
    "                layers.append(nn.BatchNorm2d(output_channel))\n",
    "            if activation_func == 'relu':\n",
    "                layers.append(nn.ReLU())\n",
    "            elif activation_func == 'gelu':\n",
    "                layers.append(nn.GELU())\n",
    "            elif activation_func == 'silu':\n",
    "                layers.append(nn.SiLU())\n",
    "            elif activation_func == 'mish':\n",
    "                layers.append(nn.Mish())\n",
    "            elif activation_func == 'tanh':\n",
    "                layers.append(nn.Tanh())\n",
    "            \n",
    "                \n",
    "            layers.append(nn.MaxPool2d((2, 2)))\n",
    "            self.cnn_blocks.append(nn.Sequential(*layers))\n",
    "            \n",
    "            input_channel = output_channel\n",
    "            K = output_channel\n",
    "            output_channel = int(output_channel * filter_org)\n",
    "\n",
    "            if output_channel == 0:\n",
    "                output_channel = 1\n",
    "        \n",
    "        conv_flatten = int(256/ 2**num_conv_layer) # The images are resized to 256 x 256\n",
    "        self.conv_output_dim = conv_flatten*conv_flatten*K\n",
    "        \n",
    "        self.dense_layer = nn.Sequential(\n",
    "            nn.Flatten(),\n",
    "            nn.Linear(self.conv_output_dim, dense_neurons),\n",
    "            nn.Tanh(),\n",
    "            # *[nn.Linear(dense_neurons, dense_neurons) for _ in range(num_dense_layers - 1)],\n",
    "            *[nn.Sequential(nn.Linear(dense_neurons, dense_neurons), nn.Tanh()) for _ in range(num_dense_layers - 1)],\n",
    "            nn.Dropout(dropout),\n",
    "            nn.Linear(dense_neurons, 10)\n",
    "        )\n",
    "\n",
    "    \n",
    "    def forward(self, x):\n",
    "        x = self.cnn_blocks(x)\n",
    "        x = x.view(x.size(0), -1)\n",
    "        x = self.dense_layer(x)\n",
    "        return x\n",
    "        \n"
   ]
  },
  {
   "cell_type": "code",
   "execution_count": 7,
   "id": "ad79fa7a-749c-4422-b626-50c1df913444",
   "metadata": {},
   "outputs": [
    {
     "name": "stdout",
     "output_type": "stream",
     "text": [
      "Create sweep with ID: 8301demb\n",
      "Sweep URL: https://wandb.ai/manoj_da24s018-iit-madras/CNN-inaturalist_12K-HyperParameterSweep-Trail1/sweeps/8301demb\n"
     ]
    },
    {
     "name": "stderr",
     "output_type": "stream",
     "text": [
      "\u001b[34m\u001b[1mwandb\u001b[0m: Agent Starting Run: ljj2a8rq with config:\n",
      "\u001b[34m\u001b[1mwandb\u001b[0m: \tactivation_func: silu\n",
      "\u001b[34m\u001b[1mwandb\u001b[0m: \tbatch_norm: True\n",
      "\u001b[34m\u001b[1mwandb\u001b[0m: \tdense_neurons: 256\n",
      "\u001b[34m\u001b[1mwandb\u001b[0m: \tdropout: 0.2\n",
      "\u001b[34m\u001b[1mwandb\u001b[0m: \tfilter_org: 2\n",
      "\u001b[34m\u001b[1mwandb\u001b[0m: \tkernel_size: 5\n",
      "\u001b[34m\u001b[1mwandb\u001b[0m: \tlearning_rate: 0.005\n",
      "\u001b[34m\u001b[1mwandb\u001b[0m: \tnum_conv_filter: 16\n",
      "\u001b[34m\u001b[1mwandb\u001b[0m: \tnum_conv_layer: 5\n",
      "\u001b[34m\u001b[1mwandb\u001b[0m: \tnum_dense_layers: 1\n"
     ]
    },
    {
     "data": {
      "text/html": [
       "Tracking run with wandb version 0.19.9"
      ],
      "text/plain": [
       "<IPython.core.display.HTML object>"
      ]
     },
     "metadata": {},
     "output_type": "display_data"
    },
    {
     "data": {
      "text/html": [
       "Run data is saved locally in <code>/home/student/DL/wandb/run-20250404_215458-ljj2a8rq</code>"
      ],
      "text/plain": [
       "<IPython.core.display.HTML object>"
      ]
     },
     "metadata": {},
     "output_type": "display_data"
    },
    {
     "data": {
      "text/html": [
       "Syncing run <strong><a href='https://wandb.ai/manoj_da24s018-iit-madras/CNN-inaturalist_12K-HyperParameterSweep-Trail1/runs/ljj2a8rq' target=\"_blank\">azure-sweep-1</a></strong> to <a href='https://wandb.ai/manoj_da24s018-iit-madras/CNN-inaturalist_12K-HyperParameterSweep-Trail1' target=\"_blank\">Weights & Biases</a> (<a href='https://wandb.me/developer-guide' target=\"_blank\">docs</a>)<br>Sweep page: <a href='https://wandb.ai/manoj_da24s018-iit-madras/CNN-inaturalist_12K-HyperParameterSweep-Trail1/sweeps/8301demb' target=\"_blank\">https://wandb.ai/manoj_da24s018-iit-madras/CNN-inaturalist_12K-HyperParameterSweep-Trail1/sweeps/8301demb</a>"
      ],
      "text/plain": [
       "<IPython.core.display.HTML object>"
      ]
     },
     "metadata": {},
     "output_type": "display_data"
    },
    {
     "data": {
      "text/html": [
       " View project at <a href='https://wandb.ai/manoj_da24s018-iit-madras/CNN-inaturalist_12K-HyperParameterSweep-Trail1' target=\"_blank\">https://wandb.ai/manoj_da24s018-iit-madras/CNN-inaturalist_12K-HyperParameterSweep-Trail1</a>"
      ],
      "text/plain": [
       "<IPython.core.display.HTML object>"
      ]
     },
     "metadata": {},
     "output_type": "display_data"
    },
    {
     "data": {
      "text/html": [
       " View sweep at <a href='https://wandb.ai/manoj_da24s018-iit-madras/CNN-inaturalist_12K-HyperParameterSweep-Trail1/sweeps/8301demb' target=\"_blank\">https://wandb.ai/manoj_da24s018-iit-madras/CNN-inaturalist_12K-HyperParameterSweep-Trail1/sweeps/8301demb</a>"
      ],
      "text/plain": [
       "<IPython.core.display.HTML object>"
      ]
     },
     "metadata": {},
     "output_type": "display_data"
    },
    {
     "data": {
      "text/html": [
       " View run at <a href='https://wandb.ai/manoj_da24s018-iit-madras/CNN-inaturalist_12K-HyperParameterSweep-Trail1/runs/ljj2a8rq' target=\"_blank\">https://wandb.ai/manoj_da24s018-iit-madras/CNN-inaturalist_12K-HyperParameterSweep-Trail1/runs/ljj2a8rq</a>"
      ],
      "text/plain": [
       "<IPython.core.display.HTML object>"
      ]
     },
     "metadata": {},
     "output_type": "display_data"
    },
    {
     "name": "stdout",
     "output_type": "stream",
     "text": [
      "Sweep Name:  Conv_Blocks: 5, Num_Filters:16, Filter_org:2, Kernel_size:5, AFunc: silu, Dense_Layers:1, Neurons_Dense_layer:256\n",
      "Model is on: cuda:0\n",
      "\n",
      "Epoch [1/10]\n",
      "Train Loss: 2.3848 | Train Acc: 14.19% | Val Loss: 2.2796 | Val Acc: 14.60%\n",
      "\n",
      "Epoch [2/10]\n",
      "Train Loss: 2.3456 | Train Acc: 14.18% | Val Loss: 2.3294 | Val Acc: 14.35%\n",
      "\n",
      "Epoch [3/10]\n",
      "Train Loss: 2.3247 | Train Acc: 15.06% | Val Loss: 2.2892 | Val Acc: 19.30%\n",
      "\n",
      "Epoch [4/10]\n",
      "Train Loss: 2.2800 | Train Acc: 16.81% | Val Loss: 2.2627 | Val Acc: 19.05%\n",
      "\n",
      "Epoch [5/10]\n",
      "Train Loss: 2.2934 | Train Acc: 16.76% | Val Loss: 2.2028 | Val Acc: 18.30%\n",
      "\n",
      "Epoch [6/10]\n",
      "Train Loss: 2.2484 | Train Acc: 17.80% | Val Loss: 2.2161 | Val Acc: 18.60%\n",
      "\n",
      "Epoch [7/10]\n",
      "Train Loss: 2.2498 | Train Acc: 17.83% | Val Loss: 2.1662 | Val Acc: 20.50%\n",
      "\n",
      "Epoch [8/10]\n",
      "Train Loss: 2.2547 | Train Acc: 18.61% | Val Loss: 2.1851 | Val Acc: 21.20%\n",
      "\n",
      "Epoch [9/10]\n",
      "Train Loss: 2.2285 | Train Acc: 19.79% | Val Loss: 2.1918 | Val Acc: 19.85%\n",
      "\n",
      "Epoch [10/10]\n"
     ]
    },
    {
     "name": "stderr",
     "output_type": "stream",
     "text": [
      "\u001b[34m\u001b[1mwandb\u001b[0m: \u001b[33mWARNING\u001b[0m Calling wandb.run.save without any arguments is deprecated.Changes to attributes are automatically persisted.\n"
     ]
    },
    {
     "name": "stdout",
     "output_type": "stream",
     "text": [
      "Train Loss: 2.2233 | Train Acc: 19.80% | Val Loss: 2.4018 | Val Acc: 17.60%\n"
     ]
    },
    {
     "data": {
      "text/html": [],
      "text/plain": [
       "<IPython.core.display.HTML object>"
      ]
     },
     "metadata": {},
     "output_type": "display_data"
    },
    {
     "data": {
      "text/html": [
       "<br>    <style><br>        .wandb-row {<br>            display: flex;<br>            flex-direction: row;<br>            flex-wrap: wrap;<br>            justify-content: flex-start;<br>            width: 100%;<br>        }<br>        .wandb-col {<br>            display: flex;<br>            flex-direction: column;<br>            flex-basis: 100%;<br>            flex: 1;<br>            padding: 10px;<br>        }<br>    </style><br><div class=\"wandb-row\"><div class=\"wandb-col\"><h3>Run history:</h3><br/><table class=\"wandb\"><tr><td>epoch</td><td>▁▂▃▃▄▅▆▆▇█</td></tr><tr><td>train_accuracy</td><td>▁▁▂▄▄▆▆▇██</td></tr><tr><td>train_loss</td><td>█▆▅▃▄▂▂▂▁▁</td></tr><tr><td>val_accuracy</td><td>▁▁▆▆▅▅▇█▇▄</td></tr><tr><td>val_loss</td><td>▄▆▅▄▂▂▁▂▂█</td></tr></table><br/></div><div class=\"wandb-col\"><h3>Run summary:</h3><br/><table class=\"wandb\"><tr><td>epoch</td><td>9</td></tr><tr><td>train_accuracy</td><td>19.80248</td></tr><tr><td>train_loss</td><td>2.22332</td></tr><tr><td>val_accuracy</td><td>17.6</td></tr><tr><td>val_loss</td><td>2.40179</td></tr></table><br/></div></div>"
      ],
      "text/plain": [
       "<IPython.core.display.HTML object>"
      ]
     },
     "metadata": {},
     "output_type": "display_data"
    },
    {
     "data": {
      "text/html": [
       " View run <strong style=\"color:#cdcd00\">Conv_Blocks: 5, Num_Filters:16, Filter_org:2, Kernel_size:5, AFunc: silu, Dense_Layers:1, Neurons_Dense_layer:256</strong> at: <a href='https://wandb.ai/manoj_da24s018-iit-madras/CNN-inaturalist_12K-HyperParameterSweep-Trail1/runs/ljj2a8rq' target=\"_blank\">https://wandb.ai/manoj_da24s018-iit-madras/CNN-inaturalist_12K-HyperParameterSweep-Trail1/runs/ljj2a8rq</a><br> View project at: <a href='https://wandb.ai/manoj_da24s018-iit-madras/CNN-inaturalist_12K-HyperParameterSweep-Trail1' target=\"_blank\">https://wandb.ai/manoj_da24s018-iit-madras/CNN-inaturalist_12K-HyperParameterSweep-Trail1</a><br>Synced 5 W&B file(s), 0 media file(s), 0 artifact file(s) and 0 other file(s)"
      ],
      "text/plain": [
       "<IPython.core.display.HTML object>"
      ]
     },
     "metadata": {},
     "output_type": "display_data"
    },
    {
     "data": {
      "text/html": [
       "Find logs at: <code>./wandb/run-20250404_215458-ljj2a8rq/logs</code>"
      ],
      "text/plain": [
       "<IPython.core.display.HTML object>"
      ]
     },
     "metadata": {},
     "output_type": "display_data"
    },
    {
     "name": "stderr",
     "output_type": "stream",
     "text": [
      "\u001b[34m\u001b[1mwandb\u001b[0m: Agent Starting Run: tpse5h9j with config:\n",
      "\u001b[34m\u001b[1mwandb\u001b[0m: \tactivation_func: gelu\n",
      "\u001b[34m\u001b[1mwandb\u001b[0m: \tbatch_norm: False\n",
      "\u001b[34m\u001b[1mwandb\u001b[0m: \tdense_neurons: 512\n",
      "\u001b[34m\u001b[1mwandb\u001b[0m: \tdropout: 0.2\n",
      "\u001b[34m\u001b[1mwandb\u001b[0m: \tfilter_org: 0.5\n",
      "\u001b[34m\u001b[1mwandb\u001b[0m: \tkernel_size: 3\n",
      "\u001b[34m\u001b[1mwandb\u001b[0m: \tlearning_rate: 0.01\n",
      "\u001b[34m\u001b[1mwandb\u001b[0m: \tnum_conv_filter: 16\n",
      "\u001b[34m\u001b[1mwandb\u001b[0m: \tnum_conv_layer: 3\n",
      "\u001b[34m\u001b[1mwandb\u001b[0m: \tnum_dense_layers: 1\n"
     ]
    },
    {
     "data": {
      "text/html": [
       "Tracking run with wandb version 0.19.9"
      ],
      "text/plain": [
       "<IPython.core.display.HTML object>"
      ]
     },
     "metadata": {},
     "output_type": "display_data"
    },
    {
     "data": {
      "text/html": [
       "Run data is saved locally in <code>/home/student/DL/wandb/run-20250404_215642-tpse5h9j</code>"
      ],
      "text/plain": [
       "<IPython.core.display.HTML object>"
      ]
     },
     "metadata": {},
     "output_type": "display_data"
    },
    {
     "data": {
      "text/html": [
       "Syncing run <strong><a href='https://wandb.ai/manoj_da24s018-iit-madras/CNN-inaturalist_12K-HyperParameterSweep-Trail1/runs/tpse5h9j' target=\"_blank\">resilient-sweep-2</a></strong> to <a href='https://wandb.ai/manoj_da24s018-iit-madras/CNN-inaturalist_12K-HyperParameterSweep-Trail1' target=\"_blank\">Weights & Biases</a> (<a href='https://wandb.me/developer-guide' target=\"_blank\">docs</a>)<br>Sweep page: <a href='https://wandb.ai/manoj_da24s018-iit-madras/CNN-inaturalist_12K-HyperParameterSweep-Trail1/sweeps/8301demb' target=\"_blank\">https://wandb.ai/manoj_da24s018-iit-madras/CNN-inaturalist_12K-HyperParameterSweep-Trail1/sweeps/8301demb</a>"
      ],
      "text/plain": [
       "<IPython.core.display.HTML object>"
      ]
     },
     "metadata": {},
     "output_type": "display_data"
    },
    {
     "data": {
      "text/html": [
       " View project at <a href='https://wandb.ai/manoj_da24s018-iit-madras/CNN-inaturalist_12K-HyperParameterSweep-Trail1' target=\"_blank\">https://wandb.ai/manoj_da24s018-iit-madras/CNN-inaturalist_12K-HyperParameterSweep-Trail1</a>"
      ],
      "text/plain": [
       "<IPython.core.display.HTML object>"
      ]
     },
     "metadata": {},
     "output_type": "display_data"
    },
    {
     "data": {
      "text/html": [
       " View sweep at <a href='https://wandb.ai/manoj_da24s018-iit-madras/CNN-inaturalist_12K-HyperParameterSweep-Trail1/sweeps/8301demb' target=\"_blank\">https://wandb.ai/manoj_da24s018-iit-madras/CNN-inaturalist_12K-HyperParameterSweep-Trail1/sweeps/8301demb</a>"
      ],
      "text/plain": [
       "<IPython.core.display.HTML object>"
      ]
     },
     "metadata": {},
     "output_type": "display_data"
    },
    {
     "data": {
      "text/html": [
       " View run at <a href='https://wandb.ai/manoj_da24s018-iit-madras/CNN-inaturalist_12K-HyperParameterSweep-Trail1/runs/tpse5h9j' target=\"_blank\">https://wandb.ai/manoj_da24s018-iit-madras/CNN-inaturalist_12K-HyperParameterSweep-Trail1/runs/tpse5h9j</a>"
      ],
      "text/plain": [
       "<IPython.core.display.HTML object>"
      ]
     },
     "metadata": {},
     "output_type": "display_data"
    },
    {
     "name": "stdout",
     "output_type": "stream",
     "text": [
      "Sweep Name:  Conv_Blocks: 3, Num_Filters:16, Filter_org:0.5, Kernel_size:3, AFunc: gelu, Dense_Layers:1, Neurons_Dense_layer:512\n",
      "Model is on: cuda:0\n",
      "\n",
      "Epoch [1/10]\n",
      "Train Loss: 2.3459 | Train Acc: 18.24% | Val Loss: 2.1558 | Val Acc: 21.60%\n",
      "\n",
      "Epoch [2/10]\n",
      "Train Loss: 2.1082 | Train Acc: 25.03% | Val Loss: 2.1637 | Val Acc: 21.55%\n",
      "\n",
      "Epoch [3/10]\n",
      "Train Loss: 2.0234 | Train Acc: 29.35% | Val Loss: 2.3012 | Val Acc: 21.10%\n",
      "\n",
      "Epoch [4/10]\n",
      "Train Loss: 1.8183 | Train Acc: 37.53% | Val Loss: 2.4951 | Val Acc: 20.10%\n",
      "\n",
      "Epoch [5/10]\n",
      "Train Loss: 1.6408 | Train Acc: 45.17% | Val Loss: 2.6615 | Val Acc: 21.35%\n",
      "\n",
      "Epoch [6/10]\n",
      "Train Loss: 1.6059 | Train Acc: 48.32% | Val Loss: 3.2728 | Val Acc: 18.85%\n",
      "\n",
      "Epoch [7/10]\n",
      "Train Loss: 1.3137 | Train Acc: 57.68% | Val Loss: 3.9236 | Val Acc: 18.20%\n",
      "\n",
      "Epoch [8/10]\n",
      "Train Loss: 1.1819 | Train Acc: 62.85% | Val Loss: 4.8941 | Val Acc: 18.15%\n",
      "\n",
      "Epoch [9/10]\n",
      "Train Loss: 1.2947 | Train Acc: 63.50% | Val Loss: 5.8336 | Val Acc: 17.10%\n",
      "\n",
      "Epoch [10/10]\n",
      "Train Loss: 1.0957 | Train Acc: 70.06% | Val Loss: 6.4570 | Val Acc: 18.35%\n"
     ]
    },
    {
     "data": {
      "text/html": [],
      "text/plain": [
       "<IPython.core.display.HTML object>"
      ]
     },
     "metadata": {},
     "output_type": "display_data"
    },
    {
     "data": {
      "text/html": [
       "<br>    <style><br>        .wandb-row {<br>            display: flex;<br>            flex-direction: row;<br>            flex-wrap: wrap;<br>            justify-content: flex-start;<br>            width: 100%;<br>        }<br>        .wandb-col {<br>            display: flex;<br>            flex-direction: column;<br>            flex-basis: 100%;<br>            flex: 1;<br>            padding: 10px;<br>        }<br>    </style><br><div class=\"wandb-row\"><div class=\"wandb-col\"><h3>Run history:</h3><br/><table class=\"wandb\"><tr><td>epoch</td><td>▁▂▃▃▄▅▆▆▇█</td></tr><tr><td>train_accuracy</td><td>▁▂▃▄▅▅▆▇▇█</td></tr><tr><td>train_loss</td><td>█▇▆▅▄▄▂▁▂▁</td></tr><tr><td>val_accuracy</td><td>██▇▆█▄▃▃▁▃</td></tr><tr><td>val_loss</td><td>▁▁▁▂▂▃▄▅▇█</td></tr></table><br/></div><div class=\"wandb-col\"><h3>Run summary:</h3><br/><table class=\"wandb\"><tr><td>epoch</td><td>9</td></tr><tr><td>train_accuracy</td><td>70.05876</td></tr><tr><td>train_loss</td><td>1.09569</td></tr><tr><td>val_accuracy</td><td>18.35</td></tr><tr><td>val_loss</td><td>6.45704</td></tr></table><br/></div></div>"
      ],
      "text/plain": [
       "<IPython.core.display.HTML object>"
      ]
     },
     "metadata": {},
     "output_type": "display_data"
    },
    {
     "data": {
      "text/html": [
       " View run <strong style=\"color:#cdcd00\">Conv_Blocks: 3, Num_Filters:16, Filter_org:0.5, Kernel_size:3, AFunc: gelu, Dense_Layers:1, Neurons_Dense_layer:512</strong> at: <a href='https://wandb.ai/manoj_da24s018-iit-madras/CNN-inaturalist_12K-HyperParameterSweep-Trail1/runs/tpse5h9j' target=\"_blank\">https://wandb.ai/manoj_da24s018-iit-madras/CNN-inaturalist_12K-HyperParameterSweep-Trail1/runs/tpse5h9j</a><br> View project at: <a href='https://wandb.ai/manoj_da24s018-iit-madras/CNN-inaturalist_12K-HyperParameterSweep-Trail1' target=\"_blank\">https://wandb.ai/manoj_da24s018-iit-madras/CNN-inaturalist_12K-HyperParameterSweep-Trail1</a><br>Synced 5 W&B file(s), 0 media file(s), 0 artifact file(s) and 0 other file(s)"
      ],
      "text/plain": [
       "<IPython.core.display.HTML object>"
      ]
     },
     "metadata": {},
     "output_type": "display_data"
    },
    {
     "data": {
      "text/html": [
       "Find logs at: <code>./wandb/run-20250404_215642-tpse5h9j/logs</code>"
      ],
      "text/plain": [
       "<IPython.core.display.HTML object>"
      ]
     },
     "metadata": {},
     "output_type": "display_data"
    },
    {
     "name": "stderr",
     "output_type": "stream",
     "text": [
      "\u001b[34m\u001b[1mwandb\u001b[0m: Sweep Agent: Waiting for job.\n",
      "\u001b[34m\u001b[1mwandb\u001b[0m: Job received.\n",
      "\u001b[34m\u001b[1mwandb\u001b[0m: Agent Starting Run: 175ptk06 with config:\n",
      "\u001b[34m\u001b[1mwandb\u001b[0m: \tactivation_func: gelu\n",
      "\u001b[34m\u001b[1mwandb\u001b[0m: \tbatch_norm: False\n",
      "\u001b[34m\u001b[1mwandb\u001b[0m: \tdense_neurons: 256\n",
      "\u001b[34m\u001b[1mwandb\u001b[0m: \tdropout: 0.2\n",
      "\u001b[34m\u001b[1mwandb\u001b[0m: \tfilter_org: 2\n",
      "\u001b[34m\u001b[1mwandb\u001b[0m: \tkernel_size: 3\n",
      "\u001b[34m\u001b[1mwandb\u001b[0m: \tlearning_rate: 0.001\n",
      "\u001b[34m\u001b[1mwandb\u001b[0m: \tnum_conv_filter: 16\n",
      "\u001b[34m\u001b[1mwandb\u001b[0m: \tnum_conv_layer: 7\n",
      "\u001b[34m\u001b[1mwandb\u001b[0m: \tnum_dense_layers: 1\n"
     ]
    },
    {
     "data": {
      "text/html": [
       "Tracking run with wandb version 0.19.9"
      ],
      "text/plain": [
       "<IPython.core.display.HTML object>"
      ]
     },
     "metadata": {},
     "output_type": "display_data"
    },
    {
     "data": {
      "text/html": [
       "Run data is saved locally in <code>/home/student/DL/wandb/run-20250404_215750-175ptk06</code>"
      ],
      "text/plain": [
       "<IPython.core.display.HTML object>"
      ]
     },
     "metadata": {},
     "output_type": "display_data"
    },
    {
     "data": {
      "text/html": [
       "Syncing run <strong><a href='https://wandb.ai/manoj_da24s018-iit-madras/CNN-inaturalist_12K-HyperParameterSweep-Trail1/runs/175ptk06' target=\"_blank\">winter-sweep-3</a></strong> to <a href='https://wandb.ai/manoj_da24s018-iit-madras/CNN-inaturalist_12K-HyperParameterSweep-Trail1' target=\"_blank\">Weights & Biases</a> (<a href='https://wandb.me/developer-guide' target=\"_blank\">docs</a>)<br>Sweep page: <a href='https://wandb.ai/manoj_da24s018-iit-madras/CNN-inaturalist_12K-HyperParameterSweep-Trail1/sweeps/8301demb' target=\"_blank\">https://wandb.ai/manoj_da24s018-iit-madras/CNN-inaturalist_12K-HyperParameterSweep-Trail1/sweeps/8301demb</a>"
      ],
      "text/plain": [
       "<IPython.core.display.HTML object>"
      ]
     },
     "metadata": {},
     "output_type": "display_data"
    },
    {
     "data": {
      "text/html": [
       " View project at <a href='https://wandb.ai/manoj_da24s018-iit-madras/CNN-inaturalist_12K-HyperParameterSweep-Trail1' target=\"_blank\">https://wandb.ai/manoj_da24s018-iit-madras/CNN-inaturalist_12K-HyperParameterSweep-Trail1</a>"
      ],
      "text/plain": [
       "<IPython.core.display.HTML object>"
      ]
     },
     "metadata": {},
     "output_type": "display_data"
    },
    {
     "data": {
      "text/html": [
       " View sweep at <a href='https://wandb.ai/manoj_da24s018-iit-madras/CNN-inaturalist_12K-HyperParameterSweep-Trail1/sweeps/8301demb' target=\"_blank\">https://wandb.ai/manoj_da24s018-iit-madras/CNN-inaturalist_12K-HyperParameterSweep-Trail1/sweeps/8301demb</a>"
      ],
      "text/plain": [
       "<IPython.core.display.HTML object>"
      ]
     },
     "metadata": {},
     "output_type": "display_data"
    },
    {
     "data": {
      "text/html": [
       " View run at <a href='https://wandb.ai/manoj_da24s018-iit-madras/CNN-inaturalist_12K-HyperParameterSweep-Trail1/runs/175ptk06' target=\"_blank\">https://wandb.ai/manoj_da24s018-iit-madras/CNN-inaturalist_12K-HyperParameterSweep-Trail1/runs/175ptk06</a>"
      ],
      "text/plain": [
       "<IPython.core.display.HTML object>"
      ]
     },
     "metadata": {},
     "output_type": "display_data"
    },
    {
     "name": "stdout",
     "output_type": "stream",
     "text": [
      "Sweep Name:  Conv_Blocks: 7, Num_Filters:16, Filter_org:2, Kernel_size:3, AFunc: gelu, Dense_Layers:1, Neurons_Dense_layer:256\n",
      "Model is on: cuda:0\n",
      "\n",
      "Epoch [1/10]\n",
      "Train Loss: 2.2492 | Train Acc: 15.61% | Val Loss: 2.2038 | Val Acc: 18.75%\n",
      "\n",
      "Epoch [2/10]\n",
      "Train Loss: 2.1502 | Train Acc: 21.24% | Val Loss: 2.0895 | Val Acc: 24.85%\n",
      "\n",
      "Epoch [3/10]\n",
      "Train Loss: 2.0650 | Train Acc: 25.18% | Val Loss: 2.0138 | Val Acc: 27.10%\n",
      "\n",
      "Epoch [4/10]\n",
      "Train Loss: 1.9958 | Train Acc: 28.20% | Val Loss: 2.0251 | Val Acc: 27.05%\n",
      "\n",
      "Epoch [5/10]\n",
      "Train Loss: 1.9132 | Train Acc: 31.70% | Val Loss: 1.9718 | Val Acc: 29.35%\n",
      "\n",
      "Epoch [6/10]\n",
      "Train Loss: 1.8477 | Train Acc: 34.12% | Val Loss: 1.9210 | Val Acc: 32.60%\n",
      "\n",
      "Epoch [7/10]\n",
      "Train Loss: 1.7105 | Train Acc: 39.24% | Val Loss: 1.9133 | Val Acc: 34.30%\n",
      "\n",
      "Epoch [8/10]\n",
      "Train Loss: 1.5506 | Train Acc: 45.82% | Val Loss: 1.9177 | Val Acc: 35.45%\n",
      "\n",
      "Epoch [9/10]\n",
      "Train Loss: 1.2675 | Train Acc: 56.86% | Val Loss: 2.0826 | Val Acc: 31.85%\n",
      "\n",
      "Epoch [10/10]\n",
      "Train Loss: 0.8179 | Train Acc: 73.57% | Val Loss: 2.2638 | Val Acc: 33.95%\n"
     ]
    },
    {
     "data": {
      "text/html": [],
      "text/plain": [
       "<IPython.core.display.HTML object>"
      ]
     },
     "metadata": {},
     "output_type": "display_data"
    },
    {
     "data": {
      "text/html": [
       "<br>    <style><br>        .wandb-row {<br>            display: flex;<br>            flex-direction: row;<br>            flex-wrap: wrap;<br>            justify-content: flex-start;<br>            width: 100%;<br>        }<br>        .wandb-col {<br>            display: flex;<br>            flex-direction: column;<br>            flex-basis: 100%;<br>            flex: 1;<br>            padding: 10px;<br>        }<br>    </style><br><div class=\"wandb-row\"><div class=\"wandb-col\"><h3>Run history:</h3><br/><table class=\"wandb\"><tr><td>epoch</td><td>▁▂▃▃▄▅▆▆▇█</td></tr><tr><td>train_accuracy</td><td>▁▂▂▃▃▃▄▅▆█</td></tr><tr><td>train_loss</td><td>██▇▇▆▆▅▅▃▁</td></tr><tr><td>val_accuracy</td><td>▁▄▅▄▅▇██▆▇</td></tr><tr><td>val_loss</td><td>▇▅▃▃▂▁▁▁▄█</td></tr></table><br/></div><div class=\"wandb-col\"><h3>Run summary:</h3><br/><table class=\"wandb\"><tr><td>epoch</td><td>9</td></tr><tr><td>train_accuracy</td><td>73.5717</td></tr><tr><td>train_loss</td><td>0.81791</td></tr><tr><td>val_accuracy</td><td>33.95</td></tr><tr><td>val_loss</td><td>2.26379</td></tr></table><br/></div></div>"
      ],
      "text/plain": [
       "<IPython.core.display.HTML object>"
      ]
     },
     "metadata": {},
     "output_type": "display_data"
    },
    {
     "data": {
      "text/html": [
       " View run <strong style=\"color:#cdcd00\">Conv_Blocks: 7, Num_Filters:16, Filter_org:2, Kernel_size:3, AFunc: gelu, Dense_Layers:1, Neurons_Dense_layer:256</strong> at: <a href='https://wandb.ai/manoj_da24s018-iit-madras/CNN-inaturalist_12K-HyperParameterSweep-Trail1/runs/175ptk06' target=\"_blank\">https://wandb.ai/manoj_da24s018-iit-madras/CNN-inaturalist_12K-HyperParameterSweep-Trail1/runs/175ptk06</a><br> View project at: <a href='https://wandb.ai/manoj_da24s018-iit-madras/CNN-inaturalist_12K-HyperParameterSweep-Trail1' target=\"_blank\">https://wandb.ai/manoj_da24s018-iit-madras/CNN-inaturalist_12K-HyperParameterSweep-Trail1</a><br>Synced 5 W&B file(s), 0 media file(s), 0 artifact file(s) and 0 other file(s)"
      ],
      "text/plain": [
       "<IPython.core.display.HTML object>"
      ]
     },
     "metadata": {},
     "output_type": "display_data"
    },
    {
     "data": {
      "text/html": [
       "Find logs at: <code>./wandb/run-20250404_215750-175ptk06/logs</code>"
      ],
      "text/plain": [
       "<IPython.core.display.HTML object>"
      ]
     },
     "metadata": {},
     "output_type": "display_data"
    },
    {
     "name": "stderr",
     "output_type": "stream",
     "text": [
      "\u001b[34m\u001b[1mwandb\u001b[0m: Agent Starting Run: gy6t49b1 with config:\n",
      "\u001b[34m\u001b[1mwandb\u001b[0m: \tactivation_func: gelu\n",
      "\u001b[34m\u001b[1mwandb\u001b[0m: \tbatch_norm: True\n",
      "\u001b[34m\u001b[1mwandb\u001b[0m: \tdense_neurons: 512\n",
      "\u001b[34m\u001b[1mwandb\u001b[0m: \tdropout: 0.3\n",
      "\u001b[34m\u001b[1mwandb\u001b[0m: \tfilter_org: 2\n",
      "\u001b[34m\u001b[1mwandb\u001b[0m: \tkernel_size: 5\n",
      "\u001b[34m\u001b[1mwandb\u001b[0m: \tlearning_rate: 0.001\n",
      "\u001b[34m\u001b[1mwandb\u001b[0m: \tnum_conv_filter: 32\n",
      "\u001b[34m\u001b[1mwandb\u001b[0m: \tnum_conv_layer: 3\n",
      "\u001b[34m\u001b[1mwandb\u001b[0m: \tnum_dense_layers: 2\n"
     ]
    },
    {
     "data": {
      "text/html": [
       "Tracking run with wandb version 0.19.9"
      ],
      "text/plain": [
       "<IPython.core.display.HTML object>"
      ]
     },
     "metadata": {},
     "output_type": "display_data"
    },
    {
     "data": {
      "text/html": [
       "Run data is saved locally in <code>/home/student/DL/wandb/run-20250404_215859-gy6t49b1</code>"
      ],
      "text/plain": [
       "<IPython.core.display.HTML object>"
      ]
     },
     "metadata": {},
     "output_type": "display_data"
    },
    {
     "data": {
      "text/html": [
       "Syncing run <strong><a href='https://wandb.ai/manoj_da24s018-iit-madras/CNN-inaturalist_12K-HyperParameterSweep-Trail1/runs/gy6t49b1' target=\"_blank\">bumbling-sweep-4</a></strong> to <a href='https://wandb.ai/manoj_da24s018-iit-madras/CNN-inaturalist_12K-HyperParameterSweep-Trail1' target=\"_blank\">Weights & Biases</a> (<a href='https://wandb.me/developer-guide' target=\"_blank\">docs</a>)<br>Sweep page: <a href='https://wandb.ai/manoj_da24s018-iit-madras/CNN-inaturalist_12K-HyperParameterSweep-Trail1/sweeps/8301demb' target=\"_blank\">https://wandb.ai/manoj_da24s018-iit-madras/CNN-inaturalist_12K-HyperParameterSweep-Trail1/sweeps/8301demb</a>"
      ],
      "text/plain": [
       "<IPython.core.display.HTML object>"
      ]
     },
     "metadata": {},
     "output_type": "display_data"
    },
    {
     "data": {
      "text/html": [
       " View project at <a href='https://wandb.ai/manoj_da24s018-iit-madras/CNN-inaturalist_12K-HyperParameterSweep-Trail1' target=\"_blank\">https://wandb.ai/manoj_da24s018-iit-madras/CNN-inaturalist_12K-HyperParameterSweep-Trail1</a>"
      ],
      "text/plain": [
       "<IPython.core.display.HTML object>"
      ]
     },
     "metadata": {},
     "output_type": "display_data"
    },
    {
     "data": {
      "text/html": [
       " View sweep at <a href='https://wandb.ai/manoj_da24s018-iit-madras/CNN-inaturalist_12K-HyperParameterSweep-Trail1/sweeps/8301demb' target=\"_blank\">https://wandb.ai/manoj_da24s018-iit-madras/CNN-inaturalist_12K-HyperParameterSweep-Trail1/sweeps/8301demb</a>"
      ],
      "text/plain": [
       "<IPython.core.display.HTML object>"
      ]
     },
     "metadata": {},
     "output_type": "display_data"
    },
    {
     "data": {
      "text/html": [
       " View run at <a href='https://wandb.ai/manoj_da24s018-iit-madras/CNN-inaturalist_12K-HyperParameterSweep-Trail1/runs/gy6t49b1' target=\"_blank\">https://wandb.ai/manoj_da24s018-iit-madras/CNN-inaturalist_12K-HyperParameterSweep-Trail1/runs/gy6t49b1</a>"
      ],
      "text/plain": [
       "<IPython.core.display.HTML object>"
      ]
     },
     "metadata": {},
     "output_type": "display_data"
    },
    {
     "name": "stdout",
     "output_type": "stream",
     "text": [
      "Sweep Name:  Conv_Blocks: 3, Num_Filters:32, Filter_org:2, Kernel_size:5, AFunc: gelu, Dense_Layers:2, Neurons_Dense_layer:512\n",
      "Model is on: cuda:0\n",
      "\n",
      "Epoch [1/10]\n",
      "Train Loss: 2.2723 | Train Acc: 17.66% | Val Loss: 2.2320 | Val Acc: 18.00%\n",
      "\n",
      "Epoch [2/10]\n",
      "Train Loss: 2.1971 | Train Acc: 19.24% | Val Loss: 2.1822 | Val Acc: 21.45%\n",
      "\n",
      "Epoch [3/10]\n",
      "Train Loss: 2.1862 | Train Acc: 20.72% | Val Loss: 2.1964 | Val Acc: 18.15%\n",
      "\n",
      "Epoch [4/10]\n",
      "Train Loss: 2.1882 | Train Acc: 20.45% | Val Loss: 2.1480 | Val Acc: 21.90%\n",
      "\n",
      "Epoch [5/10]\n",
      "Train Loss: 2.1449 | Train Acc: 22.97% | Val Loss: 2.1878 | Val Acc: 22.00%\n",
      "\n",
      "Epoch [6/10]\n",
      "Train Loss: 2.1511 | Train Acc: 21.68% | Val Loss: 2.1507 | Val Acc: 21.80%\n",
      "\n",
      "Epoch [7/10]\n",
      "Train Loss: 2.1343 | Train Acc: 22.32% | Val Loss: 2.1008 | Val Acc: 22.95%\n",
      "\n",
      "Epoch [8/10]\n",
      "Train Loss: 2.1309 | Train Acc: 22.32% | Val Loss: 2.1231 | Val Acc: 23.90%\n",
      "\n",
      "Epoch [9/10]\n",
      "Train Loss: 2.1313 | Train Acc: 22.47% | Val Loss: 2.0897 | Val Acc: 23.35%\n",
      "\n",
      "Epoch [10/10]\n",
      "Train Loss: 2.1262 | Train Acc: 23.08% | Val Loss: 2.1106 | Val Acc: 23.75%\n"
     ]
    },
    {
     "data": {
      "text/html": [],
      "text/plain": [
       "<IPython.core.display.HTML object>"
      ]
     },
     "metadata": {},
     "output_type": "display_data"
    },
    {
     "data": {
      "text/html": [
       "<br>    <style><br>        .wandb-row {<br>            display: flex;<br>            flex-direction: row;<br>            flex-wrap: wrap;<br>            justify-content: flex-start;<br>            width: 100%;<br>        }<br>        .wandb-col {<br>            display: flex;<br>            flex-direction: column;<br>            flex-basis: 100%;<br>            flex: 1;<br>            padding: 10px;<br>        }<br>    </style><br><div class=\"wandb-row\"><div class=\"wandb-col\"><h3>Run history:</h3><br/><table class=\"wandb\"><tr><td>epoch</td><td>▁▂▃▃▄▅▆▆▇█</td></tr><tr><td>train_accuracy</td><td>▁▃▅▅█▆▇▇▇█</td></tr><tr><td>train_loss</td><td>█▄▄▄▂▂▁▁▁▁</td></tr><tr><td>val_accuracy</td><td>▁▅▁▆▆▆▇█▇█</td></tr><tr><td>val_loss</td><td>█▆▆▄▆▄▂▃▁▂</td></tr></table><br/></div><div class=\"wandb-col\"><h3>Run summary:</h3><br/><table class=\"wandb\"><tr><td>epoch</td><td>9</td></tr><tr><td>train_accuracy</td><td>23.07788</td></tr><tr><td>train_loss</td><td>2.12618</td></tr><tr><td>val_accuracy</td><td>23.75</td></tr><tr><td>val_loss</td><td>2.11063</td></tr></table><br/></div></div>"
      ],
      "text/plain": [
       "<IPython.core.display.HTML object>"
      ]
     },
     "metadata": {},
     "output_type": "display_data"
    },
    {
     "data": {
      "text/html": [
       " View run <strong style=\"color:#cdcd00\">Conv_Blocks: 3, Num_Filters:32, Filter_org:2, Kernel_size:5, AFunc: gelu, Dense_Layers:2, Neurons_Dense_layer:512</strong> at: <a href='https://wandb.ai/manoj_da24s018-iit-madras/CNN-inaturalist_12K-HyperParameterSweep-Trail1/runs/gy6t49b1' target=\"_blank\">https://wandb.ai/manoj_da24s018-iit-madras/CNN-inaturalist_12K-HyperParameterSweep-Trail1/runs/gy6t49b1</a><br> View project at: <a href='https://wandb.ai/manoj_da24s018-iit-madras/CNN-inaturalist_12K-HyperParameterSweep-Trail1' target=\"_blank\">https://wandb.ai/manoj_da24s018-iit-madras/CNN-inaturalist_12K-HyperParameterSweep-Trail1</a><br>Synced 5 W&B file(s), 0 media file(s), 0 artifact file(s) and 0 other file(s)"
      ],
      "text/plain": [
       "<IPython.core.display.HTML object>"
      ]
     },
     "metadata": {},
     "output_type": "display_data"
    },
    {
     "data": {
      "text/html": [
       "Find logs at: <code>./wandb/run-20250404_215859-gy6t49b1/logs</code>"
      ],
      "text/plain": [
       "<IPython.core.display.HTML object>"
      ]
     },
     "metadata": {},
     "output_type": "display_data"
    },
    {
     "name": "stderr",
     "output_type": "stream",
     "text": [
      "\u001b[34m\u001b[1mwandb\u001b[0m: Agent Starting Run: w5if1vmq with config:\n",
      "\u001b[34m\u001b[1mwandb\u001b[0m: \tactivation_func: mish\n",
      "\u001b[34m\u001b[1mwandb\u001b[0m: \tbatch_norm: True\n",
      "\u001b[34m\u001b[1mwandb\u001b[0m: \tdense_neurons: 256\n",
      "\u001b[34m\u001b[1mwandb\u001b[0m: \tdropout: 0.3\n",
      "\u001b[34m\u001b[1mwandb\u001b[0m: \tfilter_org: 2\n",
      "\u001b[34m\u001b[1mwandb\u001b[0m: \tkernel_size: 5\n",
      "\u001b[34m\u001b[1mwandb\u001b[0m: \tlearning_rate: 0.005\n",
      "\u001b[34m\u001b[1mwandb\u001b[0m: \tnum_conv_filter: 16\n",
      "\u001b[34m\u001b[1mwandb\u001b[0m: \tnum_conv_layer: 5\n",
      "\u001b[34m\u001b[1mwandb\u001b[0m: \tnum_dense_layers: 2\n"
     ]
    },
    {
     "data": {
      "text/html": [
       "Tracking run with wandb version 0.19.9"
      ],
      "text/plain": [
       "<IPython.core.display.HTML object>"
      ]
     },
     "metadata": {},
     "output_type": "display_data"
    },
    {
     "data": {
      "text/html": [
       "Run data is saved locally in <code>/home/student/DL/wandb/run-20250404_220139-w5if1vmq</code>"
      ],
      "text/plain": [
       "<IPython.core.display.HTML object>"
      ]
     },
     "metadata": {},
     "output_type": "display_data"
    },
    {
     "data": {
      "text/html": [
       "Syncing run <strong><a href='https://wandb.ai/manoj_da24s018-iit-madras/CNN-inaturalist_12K-HyperParameterSweep-Trail1/runs/w5if1vmq' target=\"_blank\">peach-sweep-5</a></strong> to <a href='https://wandb.ai/manoj_da24s018-iit-madras/CNN-inaturalist_12K-HyperParameterSweep-Trail1' target=\"_blank\">Weights & Biases</a> (<a href='https://wandb.me/developer-guide' target=\"_blank\">docs</a>)<br>Sweep page: <a href='https://wandb.ai/manoj_da24s018-iit-madras/CNN-inaturalist_12K-HyperParameterSweep-Trail1/sweeps/8301demb' target=\"_blank\">https://wandb.ai/manoj_da24s018-iit-madras/CNN-inaturalist_12K-HyperParameterSweep-Trail1/sweeps/8301demb</a>"
      ],
      "text/plain": [
       "<IPython.core.display.HTML object>"
      ]
     },
     "metadata": {},
     "output_type": "display_data"
    },
    {
     "data": {
      "text/html": [
       " View project at <a href='https://wandb.ai/manoj_da24s018-iit-madras/CNN-inaturalist_12K-HyperParameterSweep-Trail1' target=\"_blank\">https://wandb.ai/manoj_da24s018-iit-madras/CNN-inaturalist_12K-HyperParameterSweep-Trail1</a>"
      ],
      "text/plain": [
       "<IPython.core.display.HTML object>"
      ]
     },
     "metadata": {},
     "output_type": "display_data"
    },
    {
     "data": {
      "text/html": [
       " View sweep at <a href='https://wandb.ai/manoj_da24s018-iit-madras/CNN-inaturalist_12K-HyperParameterSweep-Trail1/sweeps/8301demb' target=\"_blank\">https://wandb.ai/manoj_da24s018-iit-madras/CNN-inaturalist_12K-HyperParameterSweep-Trail1/sweeps/8301demb</a>"
      ],
      "text/plain": [
       "<IPython.core.display.HTML object>"
      ]
     },
     "metadata": {},
     "output_type": "display_data"
    },
    {
     "data": {
      "text/html": [
       " View run at <a href='https://wandb.ai/manoj_da24s018-iit-madras/CNN-inaturalist_12K-HyperParameterSweep-Trail1/runs/w5if1vmq' target=\"_blank\">https://wandb.ai/manoj_da24s018-iit-madras/CNN-inaturalist_12K-HyperParameterSweep-Trail1/runs/w5if1vmq</a>"
      ],
      "text/plain": [
       "<IPython.core.display.HTML object>"
      ]
     },
     "metadata": {},
     "output_type": "display_data"
    },
    {
     "name": "stdout",
     "output_type": "stream",
     "text": [
      "Sweep Name:  Conv_Blocks: 5, Num_Filters:16, Filter_org:2, Kernel_size:5, AFunc: mish, Dense_Layers:2, Neurons_Dense_layer:256\n",
      "Model is on: cuda:0\n",
      "\n",
      "Epoch [1/10]\n",
      "Train Loss: 2.3583 | Train Acc: 14.80% | Val Loss: 2.3891 | Val Acc: 15.80%\n",
      "\n",
      "Epoch [2/10]\n",
      "Train Loss: 2.3028 | Train Acc: 16.33% | Val Loss: 2.3413 | Val Acc: 14.15%\n",
      "\n",
      "Epoch [3/10]\n",
      "Train Loss: 2.3008 | Train Acc: 15.83% | Val Loss: 2.2684 | Val Acc: 17.95%\n",
      "\n",
      "Epoch [4/10]\n",
      "Train Loss: 2.2849 | Train Acc: 16.78% | Val Loss: 2.3351 | Val Acc: 11.10%\n",
      "\n",
      "Epoch [5/10]\n",
      "Train Loss: 2.2839 | Train Acc: 16.76% | Val Loss: 2.2478 | Val Acc: 18.50%\n",
      "\n",
      "Epoch [6/10]\n",
      "Train Loss: 2.2875 | Train Acc: 17.55% | Val Loss: 2.2290 | Val Acc: 18.60%\n",
      "\n",
      "Epoch [7/10]\n",
      "Train Loss: 2.2833 | Train Acc: 17.26% | Val Loss: 2.2621 | Val Acc: 17.75%\n",
      "\n",
      "Epoch [8/10]\n",
      "Train Loss: 2.2856 | Train Acc: 17.31% | Val Loss: 2.3174 | Val Acc: 17.20%\n",
      "\n",
      "Epoch [9/10]\n",
      "Train Loss: 2.2696 | Train Acc: 18.06% | Val Loss: 2.2760 | Val Acc: 17.50%\n",
      "\n",
      "Epoch [10/10]\n",
      "Train Loss: 2.2923 | Train Acc: 17.94% | Val Loss: 2.2516 | Val Acc: 18.60%\n"
     ]
    },
    {
     "data": {
      "text/html": [],
      "text/plain": [
       "<IPython.core.display.HTML object>"
      ]
     },
     "metadata": {},
     "output_type": "display_data"
    },
    {
     "data": {
      "text/html": [
       "<br>    <style><br>        .wandb-row {<br>            display: flex;<br>            flex-direction: row;<br>            flex-wrap: wrap;<br>            justify-content: flex-start;<br>            width: 100%;<br>        }<br>        .wandb-col {<br>            display: flex;<br>            flex-direction: column;<br>            flex-basis: 100%;<br>            flex: 1;<br>            padding: 10px;<br>        }<br>    </style><br><div class=\"wandb-row\"><div class=\"wandb-col\"><h3>Run history:</h3><br/><table class=\"wandb\"><tr><td>epoch</td><td>▁▂▃▃▄▅▆▆▇█</td></tr><tr><td>train_accuracy</td><td>▁▄▃▅▅▇▆▆██</td></tr><tr><td>train_loss</td><td>█▄▃▂▂▂▂▂▁▃</td></tr><tr><td>val_accuracy</td><td>▅▄▇▁██▇▇▇█</td></tr><tr><td>val_loss</td><td>█▆▃▆▂▁▂▅▃▂</td></tr></table><br/></div><div class=\"wandb-col\"><h3>Run summary:</h3><br/><table class=\"wandb\"><tr><td>epoch</td><td>9</td></tr><tr><td>train_accuracy</td><td>17.93974</td></tr><tr><td>train_loss</td><td>2.29234</td></tr><tr><td>val_accuracy</td><td>18.6</td></tr><tr><td>val_loss</td><td>2.25164</td></tr></table><br/></div></div>"
      ],
      "text/plain": [
       "<IPython.core.display.HTML object>"
      ]
     },
     "metadata": {},
     "output_type": "display_data"
    },
    {
     "data": {
      "text/html": [
       " View run <strong style=\"color:#cdcd00\">Conv_Blocks: 5, Num_Filters:16, Filter_org:2, Kernel_size:5, AFunc: mish, Dense_Layers:2, Neurons_Dense_layer:256</strong> at: <a href='https://wandb.ai/manoj_da24s018-iit-madras/CNN-inaturalist_12K-HyperParameterSweep-Trail1/runs/w5if1vmq' target=\"_blank\">https://wandb.ai/manoj_da24s018-iit-madras/CNN-inaturalist_12K-HyperParameterSweep-Trail1/runs/w5if1vmq</a><br> View project at: <a href='https://wandb.ai/manoj_da24s018-iit-madras/CNN-inaturalist_12K-HyperParameterSweep-Trail1' target=\"_blank\">https://wandb.ai/manoj_da24s018-iit-madras/CNN-inaturalist_12K-HyperParameterSweep-Trail1</a><br>Synced 5 W&B file(s), 0 media file(s), 0 artifact file(s) and 0 other file(s)"
      ],
      "text/plain": [
       "<IPython.core.display.HTML object>"
      ]
     },
     "metadata": {},
     "output_type": "display_data"
    },
    {
     "data": {
      "text/html": [
       "Find logs at: <code>./wandb/run-20250404_220139-w5if1vmq/logs</code>"
      ],
      "text/plain": [
       "<IPython.core.display.HTML object>"
      ]
     },
     "metadata": {},
     "output_type": "display_data"
    },
    {
     "name": "stderr",
     "output_type": "stream",
     "text": [
      "\u001b[34m\u001b[1mwandb\u001b[0m: Agent Starting Run: uis4vdkn with config:\n",
      "\u001b[34m\u001b[1mwandb\u001b[0m: \tactivation_func: silu\n",
      "\u001b[34m\u001b[1mwandb\u001b[0m: \tbatch_norm: True\n",
      "\u001b[34m\u001b[1mwandb\u001b[0m: \tdense_neurons: 256\n",
      "\u001b[34m\u001b[1mwandb\u001b[0m: \tdropout: 0.2\n",
      "\u001b[34m\u001b[1mwandb\u001b[0m: \tfilter_org: 0.5\n",
      "\u001b[34m\u001b[1mwandb\u001b[0m: \tkernel_size: 5\n",
      "\u001b[34m\u001b[1mwandb\u001b[0m: \tlearning_rate: 0.01\n",
      "\u001b[34m\u001b[1mwandb\u001b[0m: \tnum_conv_filter: 16\n",
      "\u001b[34m\u001b[1mwandb\u001b[0m: \tnum_conv_layer: 7\n",
      "\u001b[34m\u001b[1mwandb\u001b[0m: \tnum_dense_layers: 2\n"
     ]
    },
    {
     "data": {
      "text/html": [
       "Tracking run with wandb version 0.19.9"
      ],
      "text/plain": [
       "<IPython.core.display.HTML object>"
      ]
     },
     "metadata": {},
     "output_type": "display_data"
    },
    {
     "data": {
      "text/html": [
       "Run data is saved locally in <code>/home/student/DL/wandb/run-20250404_220320-uis4vdkn</code>"
      ],
      "text/plain": [
       "<IPython.core.display.HTML object>"
      ]
     },
     "metadata": {},
     "output_type": "display_data"
    },
    {
     "data": {
      "text/html": [
       "Syncing run <strong><a href='https://wandb.ai/manoj_da24s018-iit-madras/CNN-inaturalist_12K-HyperParameterSweep-Trail1/runs/uis4vdkn' target=\"_blank\">fallen-sweep-6</a></strong> to <a href='https://wandb.ai/manoj_da24s018-iit-madras/CNN-inaturalist_12K-HyperParameterSweep-Trail1' target=\"_blank\">Weights & Biases</a> (<a href='https://wandb.me/developer-guide' target=\"_blank\">docs</a>)<br>Sweep page: <a href='https://wandb.ai/manoj_da24s018-iit-madras/CNN-inaturalist_12K-HyperParameterSweep-Trail1/sweeps/8301demb' target=\"_blank\">https://wandb.ai/manoj_da24s018-iit-madras/CNN-inaturalist_12K-HyperParameterSweep-Trail1/sweeps/8301demb</a>"
      ],
      "text/plain": [
       "<IPython.core.display.HTML object>"
      ]
     },
     "metadata": {},
     "output_type": "display_data"
    },
    {
     "data": {
      "text/html": [
       " View project at <a href='https://wandb.ai/manoj_da24s018-iit-madras/CNN-inaturalist_12K-HyperParameterSweep-Trail1' target=\"_blank\">https://wandb.ai/manoj_da24s018-iit-madras/CNN-inaturalist_12K-HyperParameterSweep-Trail1</a>"
      ],
      "text/plain": [
       "<IPython.core.display.HTML object>"
      ]
     },
     "metadata": {},
     "output_type": "display_data"
    },
    {
     "data": {
      "text/html": [
       " View sweep at <a href='https://wandb.ai/manoj_da24s018-iit-madras/CNN-inaturalist_12K-HyperParameterSweep-Trail1/sweeps/8301demb' target=\"_blank\">https://wandb.ai/manoj_da24s018-iit-madras/CNN-inaturalist_12K-HyperParameterSweep-Trail1/sweeps/8301demb</a>"
      ],
      "text/plain": [
       "<IPython.core.display.HTML object>"
      ]
     },
     "metadata": {},
     "output_type": "display_data"
    },
    {
     "data": {
      "text/html": [
       " View run at <a href='https://wandb.ai/manoj_da24s018-iit-madras/CNN-inaturalist_12K-HyperParameterSweep-Trail1/runs/uis4vdkn' target=\"_blank\">https://wandb.ai/manoj_da24s018-iit-madras/CNN-inaturalist_12K-HyperParameterSweep-Trail1/runs/uis4vdkn</a>"
      ],
      "text/plain": [
       "<IPython.core.display.HTML object>"
      ]
     },
     "metadata": {},
     "output_type": "display_data"
    },
    {
     "name": "stdout",
     "output_type": "stream",
     "text": [
      "Sweep Name:  Conv_Blocks: 7, Num_Filters:16, Filter_org:0.5, Kernel_size:5, AFunc: silu, Dense_Layers:2, Neurons_Dense_layer:256\n",
      "Model is on: cuda:0\n",
      "\n",
      "Epoch [1/10]\n",
      "Train Loss: 2.3660 | Train Acc: 11.83% | Val Loss: 2.2809 | Val Acc: 11.40%\n",
      "\n",
      "Epoch [2/10]\n",
      "Train Loss: 2.2657 | Train Acc: 14.46% | Val Loss: 2.2835 | Val Acc: 13.15%\n",
      "\n",
      "Epoch [3/10]\n",
      "Train Loss: 2.2092 | Train Acc: 17.20% | Val Loss: 2.2010 | Val Acc: 18.10%\n",
      "\n",
      "Epoch [4/10]\n",
      "Train Loss: 2.1964 | Train Acc: 18.08% | Val Loss: 2.1753 | Val Acc: 20.70%\n",
      "\n",
      "Epoch [5/10]\n",
      "Train Loss: 2.1862 | Train Acc: 18.80% | Val Loss: 2.1896 | Val Acc: 17.80%\n",
      "\n",
      "Epoch [6/10]\n",
      "Train Loss: 2.1779 | Train Acc: 19.59% | Val Loss: 2.1806 | Val Acc: 19.90%\n",
      "\n",
      "Epoch [7/10]\n",
      "Train Loss: 2.1729 | Train Acc: 19.93% | Val Loss: 2.2038 | Val Acc: 20.05%\n",
      "\n",
      "Epoch [8/10]\n",
      "Train Loss: 2.1592 | Train Acc: 20.54% | Val Loss: 2.1680 | Val Acc: 19.55%\n",
      "\n",
      "Epoch [9/10]\n",
      "Train Loss: 2.1519 | Train Acc: 21.09% | Val Loss: 2.1693 | Val Acc: 20.15%\n",
      "\n",
      "Epoch [10/10]\n",
      "Train Loss: 2.1498 | Train Acc: 20.97% | Val Loss: 2.1565 | Val Acc: 21.05%\n"
     ]
    },
    {
     "data": {
      "text/html": [],
      "text/plain": [
       "<IPython.core.display.HTML object>"
      ]
     },
     "metadata": {},
     "output_type": "display_data"
    },
    {
     "data": {
      "text/html": [
       "<br>    <style><br>        .wandb-row {<br>            display: flex;<br>            flex-direction: row;<br>            flex-wrap: wrap;<br>            justify-content: flex-start;<br>            width: 100%;<br>        }<br>        .wandb-col {<br>            display: flex;<br>            flex-direction: column;<br>            flex-basis: 100%;<br>            flex: 1;<br>            padding: 10px;<br>        }<br>    </style><br><div class=\"wandb-row\"><div class=\"wandb-col\"><h3>Run history:</h3><br/><table class=\"wandb\"><tr><td>epoch</td><td>▁▂▃▃▄▅▆▆▇█</td></tr><tr><td>train_accuracy</td><td>▁▃▅▆▆▇▇███</td></tr><tr><td>train_loss</td><td>█▅▃▃▂▂▂▁▁▁</td></tr><tr><td>val_accuracy</td><td>▁▂▆█▆▇▇▇▇█</td></tr><tr><td>val_loss</td><td>██▃▂▃▂▄▂▂▁</td></tr></table><br/></div><div class=\"wandb-col\"><h3>Run summary:</h3><br/><table class=\"wandb\"><tr><td>epoch</td><td>9</td></tr><tr><td>train_accuracy</td><td>20.96512</td></tr><tr><td>train_loss</td><td>2.14976</td></tr><tr><td>val_accuracy</td><td>21.05</td></tr><tr><td>val_loss</td><td>2.15652</td></tr></table><br/></div></div>"
      ],
      "text/plain": [
       "<IPython.core.display.HTML object>"
      ]
     },
     "metadata": {},
     "output_type": "display_data"
    },
    {
     "data": {
      "text/html": [
       " View run <strong style=\"color:#cdcd00\">Conv_Blocks: 7, Num_Filters:16, Filter_org:0.5, Kernel_size:5, AFunc: silu, Dense_Layers:2, Neurons_Dense_layer:256</strong> at: <a href='https://wandb.ai/manoj_da24s018-iit-madras/CNN-inaturalist_12K-HyperParameterSweep-Trail1/runs/uis4vdkn' target=\"_blank\">https://wandb.ai/manoj_da24s018-iit-madras/CNN-inaturalist_12K-HyperParameterSweep-Trail1/runs/uis4vdkn</a><br> View project at: <a href='https://wandb.ai/manoj_da24s018-iit-madras/CNN-inaturalist_12K-HyperParameterSweep-Trail1' target=\"_blank\">https://wandb.ai/manoj_da24s018-iit-madras/CNN-inaturalist_12K-HyperParameterSweep-Trail1</a><br>Synced 5 W&B file(s), 0 media file(s), 0 artifact file(s) and 0 other file(s)"
      ],
      "text/plain": [
       "<IPython.core.display.HTML object>"
      ]
     },
     "metadata": {},
     "output_type": "display_data"
    },
    {
     "data": {
      "text/html": [
       "Find logs at: <code>./wandb/run-20250404_220320-uis4vdkn/logs</code>"
      ],
      "text/plain": [
       "<IPython.core.display.HTML object>"
      ]
     },
     "metadata": {},
     "output_type": "display_data"
    },
    {
     "name": "stderr",
     "output_type": "stream",
     "text": [
      "\u001b[34m\u001b[1mwandb\u001b[0m: Agent Starting Run: asc9dl90 with config:\n",
      "\u001b[34m\u001b[1mwandb\u001b[0m: \tactivation_func: silu\n",
      "\u001b[34m\u001b[1mwandb\u001b[0m: \tbatch_norm: True\n",
      "\u001b[34m\u001b[1mwandb\u001b[0m: \tdense_neurons: 256\n",
      "\u001b[34m\u001b[1mwandb\u001b[0m: \tdropout: 0.2\n",
      "\u001b[34m\u001b[1mwandb\u001b[0m: \tfilter_org: 1\n",
      "\u001b[34m\u001b[1mwandb\u001b[0m: \tkernel_size: 3\n",
      "\u001b[34m\u001b[1mwandb\u001b[0m: \tlearning_rate: 0.01\n",
      "\u001b[34m\u001b[1mwandb\u001b[0m: \tnum_conv_filter: 16\n",
      "\u001b[34m\u001b[1mwandb\u001b[0m: \tnum_conv_layer: 3\n",
      "\u001b[34m\u001b[1mwandb\u001b[0m: \tnum_dense_layers: 2\n"
     ]
    },
    {
     "data": {
      "text/html": [
       "Tracking run with wandb version 0.19.9"
      ],
      "text/plain": [
       "<IPython.core.display.HTML object>"
      ]
     },
     "metadata": {},
     "output_type": "display_data"
    },
    {
     "data": {
      "text/html": [
       "Run data is saved locally in <code>/home/student/DL/wandb/run-20250404_220428-asc9dl90</code>"
      ],
      "text/plain": [
       "<IPython.core.display.HTML object>"
      ]
     },
     "metadata": {},
     "output_type": "display_data"
    },
    {
     "data": {
      "text/html": [
       "Syncing run <strong><a href='https://wandb.ai/manoj_da24s018-iit-madras/CNN-inaturalist_12K-HyperParameterSweep-Trail1/runs/asc9dl90' target=\"_blank\">cool-sweep-7</a></strong> to <a href='https://wandb.ai/manoj_da24s018-iit-madras/CNN-inaturalist_12K-HyperParameterSweep-Trail1' target=\"_blank\">Weights & Biases</a> (<a href='https://wandb.me/developer-guide' target=\"_blank\">docs</a>)<br>Sweep page: <a href='https://wandb.ai/manoj_da24s018-iit-madras/CNN-inaturalist_12K-HyperParameterSweep-Trail1/sweeps/8301demb' target=\"_blank\">https://wandb.ai/manoj_da24s018-iit-madras/CNN-inaturalist_12K-HyperParameterSweep-Trail1/sweeps/8301demb</a>"
      ],
      "text/plain": [
       "<IPython.core.display.HTML object>"
      ]
     },
     "metadata": {},
     "output_type": "display_data"
    },
    {
     "data": {
      "text/html": [
       " View project at <a href='https://wandb.ai/manoj_da24s018-iit-madras/CNN-inaturalist_12K-HyperParameterSweep-Trail1' target=\"_blank\">https://wandb.ai/manoj_da24s018-iit-madras/CNN-inaturalist_12K-HyperParameterSweep-Trail1</a>"
      ],
      "text/plain": [
       "<IPython.core.display.HTML object>"
      ]
     },
     "metadata": {},
     "output_type": "display_data"
    },
    {
     "data": {
      "text/html": [
       " View sweep at <a href='https://wandb.ai/manoj_da24s018-iit-madras/CNN-inaturalist_12K-HyperParameterSweep-Trail1/sweeps/8301demb' target=\"_blank\">https://wandb.ai/manoj_da24s018-iit-madras/CNN-inaturalist_12K-HyperParameterSweep-Trail1/sweeps/8301demb</a>"
      ],
      "text/plain": [
       "<IPython.core.display.HTML object>"
      ]
     },
     "metadata": {},
     "output_type": "display_data"
    },
    {
     "data": {
      "text/html": [
       " View run at <a href='https://wandb.ai/manoj_da24s018-iit-madras/CNN-inaturalist_12K-HyperParameterSweep-Trail1/runs/asc9dl90' target=\"_blank\">https://wandb.ai/manoj_da24s018-iit-madras/CNN-inaturalist_12K-HyperParameterSweep-Trail1/runs/asc9dl90</a>"
      ],
      "text/plain": [
       "<IPython.core.display.HTML object>"
      ]
     },
     "metadata": {},
     "output_type": "display_data"
    },
    {
     "name": "stdout",
     "output_type": "stream",
     "text": [
      "Sweep Name:  Conv_Blocks: 3, Num_Filters:16, Filter_org:1, Kernel_size:3, AFunc: silu, Dense_Layers:2, Neurons_Dense_layer:256\n",
      "Model is on: cuda:0\n",
      "\n",
      "Epoch [1/10]\n",
      "Train Loss: 2.4766 | Train Acc: 13.43% | Val Loss: 2.3396 | Val Acc: 16.15%\n",
      "\n",
      "Epoch [2/10]\n",
      "Train Loss: 2.3756 | Train Acc: 14.79% | Val Loss: 2.3279 | Val Acc: 17.50%\n",
      "\n",
      "Epoch [3/10]\n",
      "Train Loss: 2.4074 | Train Acc: 15.30% | Val Loss: 2.3439 | Val Acc: 13.00%\n",
      "\n",
      "Epoch [4/10]\n",
      "Train Loss: 2.3786 | Train Acc: 15.84% | Val Loss: 2.4350 | Val Acc: 15.00%\n",
      "\n",
      "Epoch [5/10]\n",
      "Train Loss: 2.4237 | Train Acc: 15.01% | Val Loss: 2.5054 | Val Acc: 12.90%\n",
      "\n",
      "Epoch [6/10]\n",
      "Train Loss: 2.3482 | Train Acc: 15.55% | Val Loss: 2.2271 | Val Acc: 17.90%\n",
      "\n",
      "Epoch [7/10]\n",
      "Train Loss: 2.3459 | Train Acc: 16.43% | Val Loss: 2.2939 | Val Acc: 17.10%\n",
      "\n",
      "Epoch [8/10]\n",
      "Train Loss: 2.3699 | Train Acc: 15.66% | Val Loss: 2.2853 | Val Acc: 15.85%\n",
      "\n",
      "Epoch [9/10]\n",
      "Train Loss: 2.4343 | Train Acc: 15.26% | Val Loss: 2.5982 | Val Acc: 13.70%\n",
      "\n",
      "Epoch [10/10]\n",
      "Train Loss: 2.3887 | Train Acc: 15.50% | Val Loss: 2.2606 | Val Acc: 18.25%\n"
     ]
    },
    {
     "data": {
      "text/html": [],
      "text/plain": [
       "<IPython.core.display.HTML object>"
      ]
     },
     "metadata": {},
     "output_type": "display_data"
    },
    {
     "data": {
      "text/html": [
       "<br>    <style><br>        .wandb-row {<br>            display: flex;<br>            flex-direction: row;<br>            flex-wrap: wrap;<br>            justify-content: flex-start;<br>            width: 100%;<br>        }<br>        .wandb-col {<br>            display: flex;<br>            flex-direction: column;<br>            flex-basis: 100%;<br>            flex: 1;<br>            padding: 10px;<br>        }<br>    </style><br><div class=\"wandb-row\"><div class=\"wandb-col\"><h3>Run history:</h3><br/><table class=\"wandb\"><tr><td>epoch</td><td>▁▂▃▃▄▅▆▆▇█</td></tr><tr><td>train_accuracy</td><td>▁▄▅▇▅▆█▆▅▆</td></tr><tr><td>train_loss</td><td>█▃▄▃▅▁▁▂▆▃</td></tr><tr><td>val_accuracy</td><td>▅▇▁▄▁█▆▅▂█</td></tr><tr><td>val_loss</td><td>▃▃▃▅▆▁▂▂█▂</td></tr></table><br/></div><div class=\"wandb-col\"><h3>Run summary:</h3><br/><table class=\"wandb\"><tr><td>epoch</td><td>9</td></tr><tr><td>train_accuracy</td><td>15.50194</td></tr><tr><td>train_loss</td><td>2.38866</td></tr><tr><td>val_accuracy</td><td>18.25</td></tr><tr><td>val_loss</td><td>2.2606</td></tr></table><br/></div></div>"
      ],
      "text/plain": [
       "<IPython.core.display.HTML object>"
      ]
     },
     "metadata": {},
     "output_type": "display_data"
    },
    {
     "data": {
      "text/html": [
       " View run <strong style=\"color:#cdcd00\">Conv_Blocks: 3, Num_Filters:16, Filter_org:1, Kernel_size:3, AFunc: silu, Dense_Layers:2, Neurons_Dense_layer:256</strong> at: <a href='https://wandb.ai/manoj_da24s018-iit-madras/CNN-inaturalist_12K-HyperParameterSweep-Trail1/runs/asc9dl90' target=\"_blank\">https://wandb.ai/manoj_da24s018-iit-madras/CNN-inaturalist_12K-HyperParameterSweep-Trail1/runs/asc9dl90</a><br> View project at: <a href='https://wandb.ai/manoj_da24s018-iit-madras/CNN-inaturalist_12K-HyperParameterSweep-Trail1' target=\"_blank\">https://wandb.ai/manoj_da24s018-iit-madras/CNN-inaturalist_12K-HyperParameterSweep-Trail1</a><br>Synced 5 W&B file(s), 0 media file(s), 0 artifact file(s) and 0 other file(s)"
      ],
      "text/plain": [
       "<IPython.core.display.HTML object>"
      ]
     },
     "metadata": {},
     "output_type": "display_data"
    },
    {
     "data": {
      "text/html": [
       "Find logs at: <code>./wandb/run-20250404_220428-asc9dl90/logs</code>"
      ],
      "text/plain": [
       "<IPython.core.display.HTML object>"
      ]
     },
     "metadata": {},
     "output_type": "display_data"
    },
    {
     "name": "stderr",
     "output_type": "stream",
     "text": [
      "\u001b[34m\u001b[1mwandb\u001b[0m: Agent Starting Run: 6uh8510e with config:\n",
      "\u001b[34m\u001b[1mwandb\u001b[0m: \tactivation_func: silu\n",
      "\u001b[34m\u001b[1mwandb\u001b[0m: \tbatch_norm: True\n",
      "\u001b[34m\u001b[1mwandb\u001b[0m: \tdense_neurons: 512\n",
      "\u001b[34m\u001b[1mwandb\u001b[0m: \tdropout: 0.2\n",
      "\u001b[34m\u001b[1mwandb\u001b[0m: \tfilter_org: 1\n",
      "\u001b[34m\u001b[1mwandb\u001b[0m: \tkernel_size: 3\n",
      "\u001b[34m\u001b[1mwandb\u001b[0m: \tlearning_rate: 0.01\n",
      "\u001b[34m\u001b[1mwandb\u001b[0m: \tnum_conv_filter: 16\n",
      "\u001b[34m\u001b[1mwandb\u001b[0m: \tnum_conv_layer: 5\n",
      "\u001b[34m\u001b[1mwandb\u001b[0m: \tnum_dense_layers: 2\n"
     ]
    },
    {
     "data": {
      "text/html": [
       "Tracking run with wandb version 0.19.9"
      ],
      "text/plain": [
       "<IPython.core.display.HTML object>"
      ]
     },
     "metadata": {},
     "output_type": "display_data"
    },
    {
     "data": {
      "text/html": [
       "Run data is saved locally in <code>/home/student/DL/wandb/run-20250404_220528-6uh8510e</code>"
      ],
      "text/plain": [
       "<IPython.core.display.HTML object>"
      ]
     },
     "metadata": {},
     "output_type": "display_data"
    },
    {
     "data": {
      "text/html": [
       "Syncing run <strong><a href='https://wandb.ai/manoj_da24s018-iit-madras/CNN-inaturalist_12K-HyperParameterSweep-Trail1/runs/6uh8510e' target=\"_blank\">sandy-sweep-8</a></strong> to <a href='https://wandb.ai/manoj_da24s018-iit-madras/CNN-inaturalist_12K-HyperParameterSweep-Trail1' target=\"_blank\">Weights & Biases</a> (<a href='https://wandb.me/developer-guide' target=\"_blank\">docs</a>)<br>Sweep page: <a href='https://wandb.ai/manoj_da24s018-iit-madras/CNN-inaturalist_12K-HyperParameterSweep-Trail1/sweeps/8301demb' target=\"_blank\">https://wandb.ai/manoj_da24s018-iit-madras/CNN-inaturalist_12K-HyperParameterSweep-Trail1/sweeps/8301demb</a>"
      ],
      "text/plain": [
       "<IPython.core.display.HTML object>"
      ]
     },
     "metadata": {},
     "output_type": "display_data"
    },
    {
     "data": {
      "text/html": [
       " View project at <a href='https://wandb.ai/manoj_da24s018-iit-madras/CNN-inaturalist_12K-HyperParameterSweep-Trail1' target=\"_blank\">https://wandb.ai/manoj_da24s018-iit-madras/CNN-inaturalist_12K-HyperParameterSweep-Trail1</a>"
      ],
      "text/plain": [
       "<IPython.core.display.HTML object>"
      ]
     },
     "metadata": {},
     "output_type": "display_data"
    },
    {
     "data": {
      "text/html": [
       " View sweep at <a href='https://wandb.ai/manoj_da24s018-iit-madras/CNN-inaturalist_12K-HyperParameterSweep-Trail1/sweeps/8301demb' target=\"_blank\">https://wandb.ai/manoj_da24s018-iit-madras/CNN-inaturalist_12K-HyperParameterSweep-Trail1/sweeps/8301demb</a>"
      ],
      "text/plain": [
       "<IPython.core.display.HTML object>"
      ]
     },
     "metadata": {},
     "output_type": "display_data"
    },
    {
     "data": {
      "text/html": [
       " View run at <a href='https://wandb.ai/manoj_da24s018-iit-madras/CNN-inaturalist_12K-HyperParameterSweep-Trail1/runs/6uh8510e' target=\"_blank\">https://wandb.ai/manoj_da24s018-iit-madras/CNN-inaturalist_12K-HyperParameterSweep-Trail1/runs/6uh8510e</a>"
      ],
      "text/plain": [
       "<IPython.core.display.HTML object>"
      ]
     },
     "metadata": {},
     "output_type": "display_data"
    },
    {
     "name": "stdout",
     "output_type": "stream",
     "text": [
      "Sweep Name:  Conv_Blocks: 5, Num_Filters:16, Filter_org:1, Kernel_size:3, AFunc: silu, Dense_Layers:2, Neurons_Dense_layer:512\n",
      "Model is on: cuda:0\n",
      "\n",
      "Epoch [1/10]\n",
      "Train Loss: 2.7236 | Train Acc: 11.30% | Val Loss: 2.7951 | Val Acc: 9.00%\n",
      "\n",
      "Epoch [2/10]\n",
      "Train Loss: 2.5689 | Train Acc: 12.03% | Val Loss: 2.5361 | Val Acc: 11.00%\n",
      "\n",
      "Epoch [3/10]\n",
      "Train Loss: 2.6055 | Train Acc: 11.28% | Val Loss: 2.4667 | Val Acc: 11.10%\n",
      "\n",
      "Epoch [4/10]\n",
      "Train Loss: 2.6222 | Train Acc: 10.88% | Val Loss: 2.4021 | Val Acc: 11.05%\n",
      "\n",
      "Epoch [5/10]\n",
      "Train Loss: 2.6250 | Train Acc: 10.38% | Val Loss: 2.4765 | Val Acc: 9.50%\n",
      "\n",
      "Epoch [6/10]\n",
      "Train Loss: 2.6231 | Train Acc: 10.83% | Val Loss: 2.4580 | Val Acc: 10.65%\n",
      "\n",
      "Epoch [7/10]\n",
      "Train Loss: 2.6351 | Train Acc: 9.85% | Val Loss: 2.5385 | Val Acc: 9.45%\n",
      "\n",
      "Epoch [8/10]\n",
      "Train Loss: 2.6105 | Train Acc: 10.23% | Val Loss: 2.8275 | Val Acc: 9.50%\n",
      "\n",
      "Epoch [9/10]\n",
      "Train Loss: 2.6214 | Train Acc: 10.16% | Val Loss: 2.5156 | Val Acc: 11.00%\n",
      "\n",
      "Epoch [10/10]\n",
      "Train Loss: 2.6677 | Train Acc: 10.59% | Val Loss: 2.5137 | Val Acc: 9.70%\n"
     ]
    },
    {
     "data": {
      "text/html": [],
      "text/plain": [
       "<IPython.core.display.HTML object>"
      ]
     },
     "metadata": {},
     "output_type": "display_data"
    },
    {
     "data": {
      "text/html": [
       "<br>    <style><br>        .wandb-row {<br>            display: flex;<br>            flex-direction: row;<br>            flex-wrap: wrap;<br>            justify-content: flex-start;<br>            width: 100%;<br>        }<br>        .wandb-col {<br>            display: flex;<br>            flex-direction: column;<br>            flex-basis: 100%;<br>            flex: 1;<br>            padding: 10px;<br>        }<br>    </style><br><div class=\"wandb-row\"><div class=\"wandb-col\"><h3>Run history:</h3><br/><table class=\"wandb\"><tr><td>epoch</td><td>▁▂▃▃▄▅▆▆▇█</td></tr><tr><td>train_accuracy</td><td>▆█▆▄▃▄▁▂▂▃</td></tr><tr><td>train_loss</td><td>█▁▃▃▄▃▄▃▃▅</td></tr><tr><td>val_accuracy</td><td>▁███▃▆▂▃█▃</td></tr><tr><td>val_loss</td><td>▇▃▂▁▂▂▃█▃▃</td></tr></table><br/></div><div class=\"wandb-col\"><h3>Run summary:</h3><br/><table class=\"wandb\"><tr><td>epoch</td><td>9</td></tr><tr><td>train_accuracy</td><td>10.58882</td></tr><tr><td>train_loss</td><td>2.66772</td></tr><tr><td>val_accuracy</td><td>9.7</td></tr><tr><td>val_loss</td><td>2.51369</td></tr></table><br/></div></div>"
      ],
      "text/plain": [
       "<IPython.core.display.HTML object>"
      ]
     },
     "metadata": {},
     "output_type": "display_data"
    },
    {
     "data": {
      "text/html": [
       " View run <strong style=\"color:#cdcd00\">Conv_Blocks: 5, Num_Filters:16, Filter_org:1, Kernel_size:3, AFunc: silu, Dense_Layers:2, Neurons_Dense_layer:512</strong> at: <a href='https://wandb.ai/manoj_da24s018-iit-madras/CNN-inaturalist_12K-HyperParameterSweep-Trail1/runs/6uh8510e' target=\"_blank\">https://wandb.ai/manoj_da24s018-iit-madras/CNN-inaturalist_12K-HyperParameterSweep-Trail1/runs/6uh8510e</a><br> View project at: <a href='https://wandb.ai/manoj_da24s018-iit-madras/CNN-inaturalist_12K-HyperParameterSweep-Trail1' target=\"_blank\">https://wandb.ai/manoj_da24s018-iit-madras/CNN-inaturalist_12K-HyperParameterSweep-Trail1</a><br>Synced 5 W&B file(s), 0 media file(s), 0 artifact file(s) and 0 other file(s)"
      ],
      "text/plain": [
       "<IPython.core.display.HTML object>"
      ]
     },
     "metadata": {},
     "output_type": "display_data"
    },
    {
     "data": {
      "text/html": [
       "Find logs at: <code>./wandb/run-20250404_220528-6uh8510e/logs</code>"
      ],
      "text/plain": [
       "<IPython.core.display.HTML object>"
      ]
     },
     "metadata": {},
     "output_type": "display_data"
    },
    {
     "name": "stderr",
     "output_type": "stream",
     "text": [
      "\u001b[34m\u001b[1mwandb\u001b[0m: Agent Starting Run: s4nlnnzs with config:\n",
      "\u001b[34m\u001b[1mwandb\u001b[0m: \tactivation_func: mish\n",
      "\u001b[34m\u001b[1mwandb\u001b[0m: \tbatch_norm: True\n",
      "\u001b[34m\u001b[1mwandb\u001b[0m: \tdense_neurons: 512\n",
      "\u001b[34m\u001b[1mwandb\u001b[0m: \tdropout: 0.2\n",
      "\u001b[34m\u001b[1mwandb\u001b[0m: \tfilter_org: 0.5\n",
      "\u001b[34m\u001b[1mwandb\u001b[0m: \tkernel_size: 5\n",
      "\u001b[34m\u001b[1mwandb\u001b[0m: \tlearning_rate: 0.01\n",
      "\u001b[34m\u001b[1mwandb\u001b[0m: \tnum_conv_filter: 32\n",
      "\u001b[34m\u001b[1mwandb\u001b[0m: \tnum_conv_layer: 5\n",
      "\u001b[34m\u001b[1mwandb\u001b[0m: \tnum_dense_layers: 1\n"
     ]
    },
    {
     "data": {
      "text/html": [
       "Tracking run with wandb version 0.19.9"
      ],
      "text/plain": [
       "<IPython.core.display.HTML object>"
      ]
     },
     "metadata": {},
     "output_type": "display_data"
    },
    {
     "data": {
      "text/html": [
       "Run data is saved locally in <code>/home/student/DL/wandb/run-20250404_220632-s4nlnnzs</code>"
      ],
      "text/plain": [
       "<IPython.core.display.HTML object>"
      ]
     },
     "metadata": {},
     "output_type": "display_data"
    },
    {
     "data": {
      "text/html": [
       "Syncing run <strong><a href='https://wandb.ai/manoj_da24s018-iit-madras/CNN-inaturalist_12K-HyperParameterSweep-Trail1/runs/s4nlnnzs' target=\"_blank\">earnest-sweep-9</a></strong> to <a href='https://wandb.ai/manoj_da24s018-iit-madras/CNN-inaturalist_12K-HyperParameterSweep-Trail1' target=\"_blank\">Weights & Biases</a> (<a href='https://wandb.me/developer-guide' target=\"_blank\">docs</a>)<br>Sweep page: <a href='https://wandb.ai/manoj_da24s018-iit-madras/CNN-inaturalist_12K-HyperParameterSweep-Trail1/sweeps/8301demb' target=\"_blank\">https://wandb.ai/manoj_da24s018-iit-madras/CNN-inaturalist_12K-HyperParameterSweep-Trail1/sweeps/8301demb</a>"
      ],
      "text/plain": [
       "<IPython.core.display.HTML object>"
      ]
     },
     "metadata": {},
     "output_type": "display_data"
    },
    {
     "data": {
      "text/html": [
       " View project at <a href='https://wandb.ai/manoj_da24s018-iit-madras/CNN-inaturalist_12K-HyperParameterSweep-Trail1' target=\"_blank\">https://wandb.ai/manoj_da24s018-iit-madras/CNN-inaturalist_12K-HyperParameterSweep-Trail1</a>"
      ],
      "text/plain": [
       "<IPython.core.display.HTML object>"
      ]
     },
     "metadata": {},
     "output_type": "display_data"
    },
    {
     "data": {
      "text/html": [
       " View sweep at <a href='https://wandb.ai/manoj_da24s018-iit-madras/CNN-inaturalist_12K-HyperParameterSweep-Trail1/sweeps/8301demb' target=\"_blank\">https://wandb.ai/manoj_da24s018-iit-madras/CNN-inaturalist_12K-HyperParameterSweep-Trail1/sweeps/8301demb</a>"
      ],
      "text/plain": [
       "<IPython.core.display.HTML object>"
      ]
     },
     "metadata": {},
     "output_type": "display_data"
    },
    {
     "data": {
      "text/html": [
       " View run at <a href='https://wandb.ai/manoj_da24s018-iit-madras/CNN-inaturalist_12K-HyperParameterSweep-Trail1/runs/s4nlnnzs' target=\"_blank\">https://wandb.ai/manoj_da24s018-iit-madras/CNN-inaturalist_12K-HyperParameterSweep-Trail1/runs/s4nlnnzs</a>"
      ],
      "text/plain": [
       "<IPython.core.display.HTML object>"
      ]
     },
     "metadata": {},
     "output_type": "display_data"
    },
    {
     "name": "stdout",
     "output_type": "stream",
     "text": [
      "Sweep Name:  Conv_Blocks: 5, Num_Filters:32, Filter_org:0.5, Kernel_size:5, AFunc: mish, Dense_Layers:1, Neurons_Dense_layer:512\n",
      "Model is on: cuda:0\n",
      "\n",
      "Epoch [1/10]\n",
      "Train Loss: 2.3613 | Train Acc: 14.93% | Val Loss: 2.3749 | Val Acc: 16.45%\n",
      "\n",
      "Epoch [2/10]\n",
      "Train Loss: 2.1716 | Train Acc: 20.72% | Val Loss: 2.2108 | Val Acc: 18.75%\n",
      "\n",
      "Epoch [3/10]\n",
      "Train Loss: 2.1472 | Train Acc: 22.27% | Val Loss: 2.1424 | Val Acc: 21.85%\n",
      "\n",
      "Epoch [4/10]\n",
      "Train Loss: 2.1216 | Train Acc: 23.22% | Val Loss: 2.1640 | Val Acc: 24.05%\n",
      "\n",
      "Epoch [5/10]\n",
      "Train Loss: 2.0901 | Train Acc: 24.17% | Val Loss: 2.2020 | Val Acc: 21.05%\n",
      "\n",
      "Epoch [6/10]\n",
      "Train Loss: 2.0883 | Train Acc: 24.23% | Val Loss: 2.1523 | Val Acc: 19.70%\n",
      "\n",
      "Epoch [7/10]\n",
      "Train Loss: 2.0555 | Train Acc: 25.99% | Val Loss: 2.0415 | Val Acc: 26.45%\n",
      "\n",
      "Epoch [8/10]\n",
      "Train Loss: 2.0161 | Train Acc: 27.27% | Val Loss: 2.1052 | Val Acc: 24.45%\n",
      "\n",
      "Epoch [9/10]\n",
      "Train Loss: 1.9911 | Train Acc: 28.77% | Val Loss: 2.0696 | Val Acc: 25.15%\n",
      "\n",
      "Epoch [10/10]\n",
      "Train Loss: 1.9805 | Train Acc: 28.67% | Val Loss: 2.1249 | Val Acc: 23.65%\n"
     ]
    },
    {
     "data": {
      "text/html": [],
      "text/plain": [
       "<IPython.core.display.HTML object>"
      ]
     },
     "metadata": {},
     "output_type": "display_data"
    },
    {
     "data": {
      "text/html": [
       "<br>    <style><br>        .wandb-row {<br>            display: flex;<br>            flex-direction: row;<br>            flex-wrap: wrap;<br>            justify-content: flex-start;<br>            width: 100%;<br>        }<br>        .wandb-col {<br>            display: flex;<br>            flex-direction: column;<br>            flex-basis: 100%;<br>            flex: 1;<br>            padding: 10px;<br>        }<br>    </style><br><div class=\"wandb-row\"><div class=\"wandb-col\"><h3>Run history:</h3><br/><table class=\"wandb\"><tr><td>epoch</td><td>▁▂▃▃▄▅▆▆▇█</td></tr><tr><td>train_accuracy</td><td>▁▄▅▅▆▆▇▇██</td></tr><tr><td>train_loss</td><td>█▅▄▄▃▃▂▂▁▁</td></tr><tr><td>val_accuracy</td><td>▁▃▅▆▄▃█▇▇▆</td></tr><tr><td>val_loss</td><td>█▅▃▄▄▃▁▂▂▃</td></tr></table><br/></div><div class=\"wandb-col\"><h3>Run summary:</h3><br/><table class=\"wandb\"><tr><td>epoch</td><td>9</td></tr><tr><td>train_accuracy</td><td>28.66608</td></tr><tr><td>train_loss</td><td>1.98048</td></tr><tr><td>val_accuracy</td><td>23.65</td></tr><tr><td>val_loss</td><td>2.1249</td></tr></table><br/></div></div>"
      ],
      "text/plain": [
       "<IPython.core.display.HTML object>"
      ]
     },
     "metadata": {},
     "output_type": "display_data"
    },
    {
     "data": {
      "text/html": [
       " View run <strong style=\"color:#cdcd00\">Conv_Blocks: 5, Num_Filters:32, Filter_org:0.5, Kernel_size:5, AFunc: mish, Dense_Layers:1, Neurons_Dense_layer:512</strong> at: <a href='https://wandb.ai/manoj_da24s018-iit-madras/CNN-inaturalist_12K-HyperParameterSweep-Trail1/runs/s4nlnnzs' target=\"_blank\">https://wandb.ai/manoj_da24s018-iit-madras/CNN-inaturalist_12K-HyperParameterSweep-Trail1/runs/s4nlnnzs</a><br> View project at: <a href='https://wandb.ai/manoj_da24s018-iit-madras/CNN-inaturalist_12K-HyperParameterSweep-Trail1' target=\"_blank\">https://wandb.ai/manoj_da24s018-iit-madras/CNN-inaturalist_12K-HyperParameterSweep-Trail1</a><br>Synced 5 W&B file(s), 0 media file(s), 0 artifact file(s) and 0 other file(s)"
      ],
      "text/plain": [
       "<IPython.core.display.HTML object>"
      ]
     },
     "metadata": {},
     "output_type": "display_data"
    },
    {
     "data": {
      "text/html": [
       "Find logs at: <code>./wandb/run-20250404_220632-s4nlnnzs/logs</code>"
      ],
      "text/plain": [
       "<IPython.core.display.HTML object>"
      ]
     },
     "metadata": {},
     "output_type": "display_data"
    },
    {
     "name": "stderr",
     "output_type": "stream",
     "text": [
      "\u001b[34m\u001b[1mwandb\u001b[0m: Agent Starting Run: mky5m6co with config:\n",
      "\u001b[34m\u001b[1mwandb\u001b[0m: \tactivation_func: tanh\n",
      "\u001b[34m\u001b[1mwandb\u001b[0m: \tbatch_norm: False\n",
      "\u001b[34m\u001b[1mwandb\u001b[0m: \tdense_neurons: 512\n",
      "\u001b[34m\u001b[1mwandb\u001b[0m: \tdropout: 0.3\n",
      "\u001b[34m\u001b[1mwandb\u001b[0m: \tfilter_org: 1\n",
      "\u001b[34m\u001b[1mwandb\u001b[0m: \tkernel_size: 5\n",
      "\u001b[34m\u001b[1mwandb\u001b[0m: \tlearning_rate: 0.005\n",
      "\u001b[34m\u001b[1mwandb\u001b[0m: \tnum_conv_filter: 16\n",
      "\u001b[34m\u001b[1mwandb\u001b[0m: \tnum_conv_layer: 3\n",
      "\u001b[34m\u001b[1mwandb\u001b[0m: \tnum_dense_layers: 2\n"
     ]
    },
    {
     "data": {
      "text/html": [
       "Tracking run with wandb version 0.19.9"
      ],
      "text/plain": [
       "<IPython.core.display.HTML object>"
      ]
     },
     "metadata": {},
     "output_type": "display_data"
    },
    {
     "data": {
      "text/html": [
       "Run data is saved locally in <code>/home/student/DL/wandb/run-20250404_220804-mky5m6co</code>"
      ],
      "text/plain": [
       "<IPython.core.display.HTML object>"
      ]
     },
     "metadata": {},
     "output_type": "display_data"
    },
    {
     "data": {
      "text/html": [
       "Syncing run <strong><a href='https://wandb.ai/manoj_da24s018-iit-madras/CNN-inaturalist_12K-HyperParameterSweep-Trail1/runs/mky5m6co' target=\"_blank\">swept-sweep-10</a></strong> to <a href='https://wandb.ai/manoj_da24s018-iit-madras/CNN-inaturalist_12K-HyperParameterSweep-Trail1' target=\"_blank\">Weights & Biases</a> (<a href='https://wandb.me/developer-guide' target=\"_blank\">docs</a>)<br>Sweep page: <a href='https://wandb.ai/manoj_da24s018-iit-madras/CNN-inaturalist_12K-HyperParameterSweep-Trail1/sweeps/8301demb' target=\"_blank\">https://wandb.ai/manoj_da24s018-iit-madras/CNN-inaturalist_12K-HyperParameterSweep-Trail1/sweeps/8301demb</a>"
      ],
      "text/plain": [
       "<IPython.core.display.HTML object>"
      ]
     },
     "metadata": {},
     "output_type": "display_data"
    },
    {
     "data": {
      "text/html": [
       " View project at <a href='https://wandb.ai/manoj_da24s018-iit-madras/CNN-inaturalist_12K-HyperParameterSweep-Trail1' target=\"_blank\">https://wandb.ai/manoj_da24s018-iit-madras/CNN-inaturalist_12K-HyperParameterSweep-Trail1</a>"
      ],
      "text/plain": [
       "<IPython.core.display.HTML object>"
      ]
     },
     "metadata": {},
     "output_type": "display_data"
    },
    {
     "data": {
      "text/html": [
       " View sweep at <a href='https://wandb.ai/manoj_da24s018-iit-madras/CNN-inaturalist_12K-HyperParameterSweep-Trail1/sweeps/8301demb' target=\"_blank\">https://wandb.ai/manoj_da24s018-iit-madras/CNN-inaturalist_12K-HyperParameterSweep-Trail1/sweeps/8301demb</a>"
      ],
      "text/plain": [
       "<IPython.core.display.HTML object>"
      ]
     },
     "metadata": {},
     "output_type": "display_data"
    },
    {
     "data": {
      "text/html": [
       " View run at <a href='https://wandb.ai/manoj_da24s018-iit-madras/CNN-inaturalist_12K-HyperParameterSweep-Trail1/runs/mky5m6co' target=\"_blank\">https://wandb.ai/manoj_da24s018-iit-madras/CNN-inaturalist_12K-HyperParameterSweep-Trail1/runs/mky5m6co</a>"
      ],
      "text/plain": [
       "<IPython.core.display.HTML object>"
      ]
     },
     "metadata": {},
     "output_type": "display_data"
    },
    {
     "name": "stdout",
     "output_type": "stream",
     "text": [
      "Sweep Name:  Conv_Blocks: 3, Num_Filters:16, Filter_org:1, Kernel_size:5, AFunc: tanh, Dense_Layers:2, Neurons_Dense_layer:512\n",
      "Model is on: cuda:0\n",
      "\n",
      "Epoch [1/10]\n",
      "Train Loss: 2.5231 | Train Acc: 11.88% | Val Loss: 2.3627 | Val Acc: 9.80%\n",
      "\n",
      "Epoch [2/10]\n",
      "Train Loss: 2.4501 | Train Acc: 13.99% | Val Loss: 2.3625 | Val Acc: 13.45%\n",
      "\n",
      "Epoch [3/10]\n",
      "Train Loss: 2.4654 | Train Acc: 13.01% | Val Loss: 2.4756 | Val Acc: 11.25%\n",
      "\n",
      "Epoch [4/10]\n",
      "Train Loss: 2.4597 | Train Acc: 13.05% | Val Loss: 2.3824 | Val Acc: 12.70%\n",
      "\n",
      "Epoch [5/10]\n",
      "Train Loss: 2.4326 | Train Acc: 13.04% | Val Loss: 2.3413 | Val Acc: 15.35%\n",
      "\n",
      "Epoch [6/10]\n",
      "Train Loss: 2.4761 | Train Acc: 13.54% | Val Loss: 2.3106 | Val Acc: 15.55%\n",
      "\n",
      "Epoch [7/10]\n",
      "Train Loss: 2.4540 | Train Acc: 13.35% | Val Loss: 2.4657 | Val Acc: 10.40%\n",
      "\n",
      "Epoch [8/10]\n",
      "Train Loss: 2.4629 | Train Acc: 13.46% | Val Loss: 2.3988 | Val Acc: 14.05%\n",
      "\n",
      "Epoch [9/10]\n",
      "Train Loss: 2.4699 | Train Acc: 13.83% | Val Loss: 2.3443 | Val Acc: 13.45%\n",
      "\n",
      "Epoch [10/10]\n",
      "Train Loss: 2.4526 | Train Acc: 13.49% | Val Loss: 2.4547 | Val Acc: 12.75%\n"
     ]
    },
    {
     "data": {
      "text/html": [],
      "text/plain": [
       "<IPython.core.display.HTML object>"
      ]
     },
     "metadata": {},
     "output_type": "display_data"
    },
    {
     "data": {
      "text/html": [
       "<br>    <style><br>        .wandb-row {<br>            display: flex;<br>            flex-direction: row;<br>            flex-wrap: wrap;<br>            justify-content: flex-start;<br>            width: 100%;<br>        }<br>        .wandb-col {<br>            display: flex;<br>            flex-direction: column;<br>            flex-basis: 100%;<br>            flex: 1;<br>            padding: 10px;<br>        }<br>    </style><br><div class=\"wandb-row\"><div class=\"wandb-col\"><h3>Run history:</h3><br/><table class=\"wandb\"><tr><td>epoch</td><td>▁▂▃▃▄▅▆▆▇█</td></tr><tr><td>train_accuracy</td><td>▁█▅▅▅▇▆▆▇▆</td></tr><tr><td>train_loss</td><td>█▂▄▃▁▄▃▃▄▃</td></tr><tr><td>val_accuracy</td><td>▁▅▃▅██▂▆▅▅</td></tr><tr><td>val_loss</td><td>▃▃█▄▂▁█▅▂▇</td></tr></table><br/></div><div class=\"wandb-col\"><h3>Run summary:</h3><br/><table class=\"wandb\"><tr><td>epoch</td><td>9</td></tr><tr><td>train_accuracy</td><td>13.48919</td></tr><tr><td>train_loss</td><td>2.45257</td></tr><tr><td>val_accuracy</td><td>12.75</td></tr><tr><td>val_loss</td><td>2.45473</td></tr></table><br/></div></div>"
      ],
      "text/plain": [
       "<IPython.core.display.HTML object>"
      ]
     },
     "metadata": {},
     "output_type": "display_data"
    },
    {
     "data": {
      "text/html": [
       " View run <strong style=\"color:#cdcd00\">Conv_Blocks: 3, Num_Filters:16, Filter_org:1, Kernel_size:5, AFunc: tanh, Dense_Layers:2, Neurons_Dense_layer:512</strong> at: <a href='https://wandb.ai/manoj_da24s018-iit-madras/CNN-inaturalist_12K-HyperParameterSweep-Trail1/runs/mky5m6co' target=\"_blank\">https://wandb.ai/manoj_da24s018-iit-madras/CNN-inaturalist_12K-HyperParameterSweep-Trail1/runs/mky5m6co</a><br> View project at: <a href='https://wandb.ai/manoj_da24s018-iit-madras/CNN-inaturalist_12K-HyperParameterSweep-Trail1' target=\"_blank\">https://wandb.ai/manoj_da24s018-iit-madras/CNN-inaturalist_12K-HyperParameterSweep-Trail1</a><br>Synced 5 W&B file(s), 0 media file(s), 0 artifact file(s) and 0 other file(s)"
      ],
      "text/plain": [
       "<IPython.core.display.HTML object>"
      ]
     },
     "metadata": {},
     "output_type": "display_data"
    },
    {
     "data": {
      "text/html": [
       "Find logs at: <code>./wandb/run-20250404_220804-mky5m6co/logs</code>"
      ],
      "text/plain": [
       "<IPython.core.display.HTML object>"
      ]
     },
     "metadata": {},
     "output_type": "display_data"
    },
    {
     "name": "stderr",
     "output_type": "stream",
     "text": [
      "\u001b[34m\u001b[1mwandb\u001b[0m: Agent Starting Run: c1p1su9a with config:\n",
      "\u001b[34m\u001b[1mwandb\u001b[0m: \tactivation_func: gelu\n",
      "\u001b[34m\u001b[1mwandb\u001b[0m: \tbatch_norm: False\n",
      "\u001b[34m\u001b[1mwandb\u001b[0m: \tdense_neurons: 256\n",
      "\u001b[34m\u001b[1mwandb\u001b[0m: \tdropout: 0.4\n",
      "\u001b[34m\u001b[1mwandb\u001b[0m: \tfilter_org: 1\n",
      "\u001b[34m\u001b[1mwandb\u001b[0m: \tkernel_size: 5\n",
      "\u001b[34m\u001b[1mwandb\u001b[0m: \tlearning_rate: 0.001\n",
      "\u001b[34m\u001b[1mwandb\u001b[0m: \tnum_conv_filter: 16\n",
      "\u001b[34m\u001b[1mwandb\u001b[0m: \tnum_conv_layer: 7\n",
      "\u001b[34m\u001b[1mwandb\u001b[0m: \tnum_dense_layers: 1\n"
     ]
    },
    {
     "data": {
      "text/html": [
       "Tracking run with wandb version 0.19.9"
      ],
      "text/plain": [
       "<IPython.core.display.HTML object>"
      ]
     },
     "metadata": {},
     "output_type": "display_data"
    },
    {
     "data": {
      "text/html": [
       "Run data is saved locally in <code>/home/student/DL/wandb/run-20250404_220912-c1p1su9a</code>"
      ],
      "text/plain": [
       "<IPython.core.display.HTML object>"
      ]
     },
     "metadata": {},
     "output_type": "display_data"
    },
    {
     "data": {
      "text/html": [
       "Syncing run <strong><a href='https://wandb.ai/manoj_da24s018-iit-madras/CNN-inaturalist_12K-HyperParameterSweep-Trail1/runs/c1p1su9a' target=\"_blank\">swift-sweep-11</a></strong> to <a href='https://wandb.ai/manoj_da24s018-iit-madras/CNN-inaturalist_12K-HyperParameterSweep-Trail1' target=\"_blank\">Weights & Biases</a> (<a href='https://wandb.me/developer-guide' target=\"_blank\">docs</a>)<br>Sweep page: <a href='https://wandb.ai/manoj_da24s018-iit-madras/CNN-inaturalist_12K-HyperParameterSweep-Trail1/sweeps/8301demb' target=\"_blank\">https://wandb.ai/manoj_da24s018-iit-madras/CNN-inaturalist_12K-HyperParameterSweep-Trail1/sweeps/8301demb</a>"
      ],
      "text/plain": [
       "<IPython.core.display.HTML object>"
      ]
     },
     "metadata": {},
     "output_type": "display_data"
    },
    {
     "data": {
      "text/html": [
       " View project at <a href='https://wandb.ai/manoj_da24s018-iit-madras/CNN-inaturalist_12K-HyperParameterSweep-Trail1' target=\"_blank\">https://wandb.ai/manoj_da24s018-iit-madras/CNN-inaturalist_12K-HyperParameterSweep-Trail1</a>"
      ],
      "text/plain": [
       "<IPython.core.display.HTML object>"
      ]
     },
     "metadata": {},
     "output_type": "display_data"
    },
    {
     "data": {
      "text/html": [
       " View sweep at <a href='https://wandb.ai/manoj_da24s018-iit-madras/CNN-inaturalist_12K-HyperParameterSweep-Trail1/sweeps/8301demb' target=\"_blank\">https://wandb.ai/manoj_da24s018-iit-madras/CNN-inaturalist_12K-HyperParameterSweep-Trail1/sweeps/8301demb</a>"
      ],
      "text/plain": [
       "<IPython.core.display.HTML object>"
      ]
     },
     "metadata": {},
     "output_type": "display_data"
    },
    {
     "data": {
      "text/html": [
       " View run at <a href='https://wandb.ai/manoj_da24s018-iit-madras/CNN-inaturalist_12K-HyperParameterSweep-Trail1/runs/c1p1su9a' target=\"_blank\">https://wandb.ai/manoj_da24s018-iit-madras/CNN-inaturalist_12K-HyperParameterSweep-Trail1/runs/c1p1su9a</a>"
      ],
      "text/plain": [
       "<IPython.core.display.HTML object>"
      ]
     },
     "metadata": {},
     "output_type": "display_data"
    },
    {
     "name": "stdout",
     "output_type": "stream",
     "text": [
      "Sweep Name:  Conv_Blocks: 7, Num_Filters:16, Filter_org:1, Kernel_size:5, AFunc: gelu, Dense_Layers:1, Neurons_Dense_layer:256\n",
      "Model is on: cuda:0\n",
      "\n",
      "Epoch [1/10]\n",
      "Train Loss: 2.2909 | Train Acc: 12.21% | Val Loss: 2.2446 | Val Acc: 15.65%\n",
      "\n",
      "Epoch [2/10]\n",
      "Train Loss: 2.2213 | Train Acc: 17.29% | Val Loss: 2.1672 | Val Acc: 19.80%\n",
      "\n",
      "Epoch [3/10]\n",
      "Train Loss: 2.1468 | Train Acc: 21.29% | Val Loss: 2.1037 | Val Acc: 22.35%\n",
      "\n",
      "Epoch [4/10]\n",
      "Train Loss: 2.0881 | Train Acc: 24.19% | Val Loss: 2.0571 | Val Acc: 26.00%\n",
      "\n",
      "Epoch [5/10]\n",
      "Train Loss: 2.0263 | Train Acc: 26.28% | Val Loss: 2.0451 | Val Acc: 25.35%\n",
      "\n",
      "Epoch [6/10]\n",
      "Train Loss: 1.9882 | Train Acc: 28.70% | Val Loss: 1.9963 | Val Acc: 28.10%\n",
      "\n",
      "Epoch [7/10]\n",
      "Train Loss: 1.9490 | Train Acc: 30.32% | Val Loss: 2.0030 | Val Acc: 29.05%\n",
      "\n",
      "Epoch [8/10]\n",
      "Train Loss: 1.8945 | Train Acc: 32.79% | Val Loss: 2.0073 | Val Acc: 28.35%\n",
      "\n",
      "Epoch [9/10]\n",
      "Train Loss: 1.8582 | Train Acc: 34.05% | Val Loss: 2.0017 | Val Acc: 31.05%\n",
      "\n",
      "Epoch [10/10]\n",
      "Train Loss: 1.8142 | Train Acc: 35.13% | Val Loss: 2.0162 | Val Acc: 29.45%\n"
     ]
    },
    {
     "data": {
      "text/html": [],
      "text/plain": [
       "<IPython.core.display.HTML object>"
      ]
     },
     "metadata": {},
     "output_type": "display_data"
    },
    {
     "data": {
      "text/html": [
       "<br>    <style><br>        .wandb-row {<br>            display: flex;<br>            flex-direction: row;<br>            flex-wrap: wrap;<br>            justify-content: flex-start;<br>            width: 100%;<br>        }<br>        .wandb-col {<br>            display: flex;<br>            flex-direction: column;<br>            flex-basis: 100%;<br>            flex: 1;<br>            padding: 10px;<br>        }<br>    </style><br><div class=\"wandb-row\"><div class=\"wandb-col\"><h3>Run history:</h3><br/><table class=\"wandb\"><tr><td>epoch</td><td>▁▂▃▃▄▅▆▆▇█</td></tr><tr><td>train_accuracy</td><td>▁▃▄▅▅▆▇▇██</td></tr><tr><td>train_loss</td><td>█▇▆▅▄▄▃▂▂▁</td></tr><tr><td>val_accuracy</td><td>▁▃▄▆▅▇▇▇█▇</td></tr><tr><td>val_loss</td><td>█▆▄▃▂▁▁▁▁▂</td></tr></table><br/></div><div class=\"wandb-col\"><h3>Run summary:</h3><br/><table class=\"wandb\"><tr><td>epoch</td><td>9</td></tr><tr><td>train_accuracy</td><td>35.12939</td></tr><tr><td>train_loss</td><td>1.81422</td></tr><tr><td>val_accuracy</td><td>29.45</td></tr><tr><td>val_loss</td><td>2.01618</td></tr></table><br/></div></div>"
      ],
      "text/plain": [
       "<IPython.core.display.HTML object>"
      ]
     },
     "metadata": {},
     "output_type": "display_data"
    },
    {
     "data": {
      "text/html": [
       " View run <strong style=\"color:#cdcd00\">Conv_Blocks: 7, Num_Filters:16, Filter_org:1, Kernel_size:5, AFunc: gelu, Dense_Layers:1, Neurons_Dense_layer:256</strong> at: <a href='https://wandb.ai/manoj_da24s018-iit-madras/CNN-inaturalist_12K-HyperParameterSweep-Trail1/runs/c1p1su9a' target=\"_blank\">https://wandb.ai/manoj_da24s018-iit-madras/CNN-inaturalist_12K-HyperParameterSweep-Trail1/runs/c1p1su9a</a><br> View project at: <a href='https://wandb.ai/manoj_da24s018-iit-madras/CNN-inaturalist_12K-HyperParameterSweep-Trail1' target=\"_blank\">https://wandb.ai/manoj_da24s018-iit-madras/CNN-inaturalist_12K-HyperParameterSweep-Trail1</a><br>Synced 5 W&B file(s), 0 media file(s), 0 artifact file(s) and 0 other file(s)"
      ],
      "text/plain": [
       "<IPython.core.display.HTML object>"
      ]
     },
     "metadata": {},
     "output_type": "display_data"
    },
    {
     "data": {
      "text/html": [
       "Find logs at: <code>./wandb/run-20250404_220912-c1p1su9a/logs</code>"
      ],
      "text/plain": [
       "<IPython.core.display.HTML object>"
      ]
     },
     "metadata": {},
     "output_type": "display_data"
    },
    {
     "name": "stderr",
     "output_type": "stream",
     "text": [
      "\u001b[34m\u001b[1mwandb\u001b[0m: Agent Starting Run: d3vd0grl with config:\n",
      "\u001b[34m\u001b[1mwandb\u001b[0m: \tactivation_func: silu\n",
      "\u001b[34m\u001b[1mwandb\u001b[0m: \tbatch_norm: True\n",
      "\u001b[34m\u001b[1mwandb\u001b[0m: \tdense_neurons: 256\n",
      "\u001b[34m\u001b[1mwandb\u001b[0m: \tdropout: 0\n",
      "\u001b[34m\u001b[1mwandb\u001b[0m: \tfilter_org: 0.5\n",
      "\u001b[34m\u001b[1mwandb\u001b[0m: \tkernel_size: 5\n",
      "\u001b[34m\u001b[1mwandb\u001b[0m: \tlearning_rate: 0.001\n",
      "\u001b[34m\u001b[1mwandb\u001b[0m: \tnum_conv_filter: 32\n",
      "\u001b[34m\u001b[1mwandb\u001b[0m: \tnum_conv_layer: 5\n",
      "\u001b[34m\u001b[1mwandb\u001b[0m: \tnum_dense_layers: 1\n"
     ]
    },
    {
     "data": {
      "text/html": [
       "Tracking run with wandb version 0.19.9"
      ],
      "text/plain": [
       "<IPython.core.display.HTML object>"
      ]
     },
     "metadata": {},
     "output_type": "display_data"
    },
    {
     "data": {
      "text/html": [
       "Run data is saved locally in <code>/home/student/DL/wandb/run-20250404_221001-d3vd0grl</code>"
      ],
      "text/plain": [
       "<IPython.core.display.HTML object>"
      ]
     },
     "metadata": {},
     "output_type": "display_data"
    },
    {
     "data": {
      "text/html": [
       "Syncing run <strong><a href='https://wandb.ai/manoj_da24s018-iit-madras/CNN-inaturalist_12K-HyperParameterSweep-Trail1/runs/d3vd0grl' target=\"_blank\">ruby-sweep-12</a></strong> to <a href='https://wandb.ai/manoj_da24s018-iit-madras/CNN-inaturalist_12K-HyperParameterSweep-Trail1' target=\"_blank\">Weights & Biases</a> (<a href='https://wandb.me/developer-guide' target=\"_blank\">docs</a>)<br>Sweep page: <a href='https://wandb.ai/manoj_da24s018-iit-madras/CNN-inaturalist_12K-HyperParameterSweep-Trail1/sweeps/8301demb' target=\"_blank\">https://wandb.ai/manoj_da24s018-iit-madras/CNN-inaturalist_12K-HyperParameterSweep-Trail1/sweeps/8301demb</a>"
      ],
      "text/plain": [
       "<IPython.core.display.HTML object>"
      ]
     },
     "metadata": {},
     "output_type": "display_data"
    },
    {
     "data": {
      "text/html": [
       " View project at <a href='https://wandb.ai/manoj_da24s018-iit-madras/CNN-inaturalist_12K-HyperParameterSweep-Trail1' target=\"_blank\">https://wandb.ai/manoj_da24s018-iit-madras/CNN-inaturalist_12K-HyperParameterSweep-Trail1</a>"
      ],
      "text/plain": [
       "<IPython.core.display.HTML object>"
      ]
     },
     "metadata": {},
     "output_type": "display_data"
    },
    {
     "data": {
      "text/html": [
       " View sweep at <a href='https://wandb.ai/manoj_da24s018-iit-madras/CNN-inaturalist_12K-HyperParameterSweep-Trail1/sweeps/8301demb' target=\"_blank\">https://wandb.ai/manoj_da24s018-iit-madras/CNN-inaturalist_12K-HyperParameterSweep-Trail1/sweeps/8301demb</a>"
      ],
      "text/plain": [
       "<IPython.core.display.HTML object>"
      ]
     },
     "metadata": {},
     "output_type": "display_data"
    },
    {
     "data": {
      "text/html": [
       " View run at <a href='https://wandb.ai/manoj_da24s018-iit-madras/CNN-inaturalist_12K-HyperParameterSweep-Trail1/runs/d3vd0grl' target=\"_blank\">https://wandb.ai/manoj_da24s018-iit-madras/CNN-inaturalist_12K-HyperParameterSweep-Trail1/runs/d3vd0grl</a>"
      ],
      "text/plain": [
       "<IPython.core.display.HTML object>"
      ]
     },
     "metadata": {},
     "output_type": "display_data"
    },
    {
     "name": "stdout",
     "output_type": "stream",
     "text": [
      "Sweep Name:  Conv_Blocks: 5, Num_Filters:32, Filter_org:0.5, Kernel_size:5, AFunc: silu, Dense_Layers:1, Neurons_Dense_layer:256\n",
      "Model is on: cuda:0\n",
      "\n",
      "Epoch [1/10]\n",
      "Train Loss: 2.2186 | Train Acc: 17.88% | Val Loss: 2.1805 | Val Acc: 20.05%\n",
      "\n",
      "Epoch [2/10]\n",
      "Train Loss: 2.0903 | Train Acc: 24.48% | Val Loss: 2.0675 | Val Acc: 25.60%\n",
      "\n",
      "Epoch [3/10]\n",
      "Train Loss: 2.0279 | Train Acc: 27.44% | Val Loss: 2.0296 | Val Acc: 27.00%\n",
      "\n",
      "Epoch [4/10]\n",
      "Train Loss: 1.9677 | Train Acc: 29.15% | Val Loss: 2.0341 | Val Acc: 27.40%\n",
      "\n",
      "Epoch [5/10]\n",
      "Train Loss: 1.9315 | Train Acc: 30.38% | Val Loss: 2.0274 | Val Acc: 27.75%\n",
      "\n",
      "Epoch [6/10]\n",
      "Train Loss: 1.9032 | Train Acc: 32.13% | Val Loss: 2.0414 | Val Acc: 27.05%\n",
      "\n",
      "Epoch [7/10]\n",
      "Train Loss: 1.8790 | Train Acc: 32.22% | Val Loss: 1.9925 | Val Acc: 28.95%\n",
      "\n",
      "Epoch [8/10]\n",
      "Train Loss: 1.8526 | Train Acc: 34.39% | Val Loss: 1.9823 | Val Acc: 30.15%\n",
      "\n",
      "Epoch [9/10]\n",
      "Train Loss: 1.8267 | Train Acc: 35.87% | Val Loss: 1.9864 | Val Acc: 29.80%\n",
      "\n",
      "Epoch [10/10]\n",
      "Train Loss: 1.7922 | Train Acc: 36.35% | Val Loss: 1.9601 | Val Acc: 31.55%\n"
     ]
    },
    {
     "data": {
      "text/html": [],
      "text/plain": [
       "<IPython.core.display.HTML object>"
      ]
     },
     "metadata": {},
     "output_type": "display_data"
    },
    {
     "data": {
      "text/html": [
       "<br>    <style><br>        .wandb-row {<br>            display: flex;<br>            flex-direction: row;<br>            flex-wrap: wrap;<br>            justify-content: flex-start;<br>            width: 100%;<br>        }<br>        .wandb-col {<br>            display: flex;<br>            flex-direction: column;<br>            flex-basis: 100%;<br>            flex: 1;<br>            padding: 10px;<br>        }<br>    </style><br><div class=\"wandb-row\"><div class=\"wandb-col\"><h3>Run history:</h3><br/><table class=\"wandb\"><tr><td>epoch</td><td>▁▂▃▃▄▅▆▆▇█</td></tr><tr><td>train_accuracy</td><td>▁▄▅▅▆▆▆▇██</td></tr><tr><td>train_loss</td><td>█▆▅▄▃▃▂▂▂▁</td></tr><tr><td>val_accuracy</td><td>▁▄▅▅▆▅▆▇▇█</td></tr><tr><td>val_loss</td><td>█▄▃▃▃▄▂▂▂▁</td></tr></table><br/></div><div class=\"wandb-col\"><h3>Run summary:</h3><br/><table class=\"wandb\"><tr><td>epoch</td><td>9</td></tr><tr><td>train_accuracy</td><td>36.35454</td></tr><tr><td>train_loss</td><td>1.79218</td></tr><tr><td>val_accuracy</td><td>31.55</td></tr><tr><td>val_loss</td><td>1.96006</td></tr></table><br/></div></div>"
      ],
      "text/plain": [
       "<IPython.core.display.HTML object>"
      ]
     },
     "metadata": {},
     "output_type": "display_data"
    },
    {
     "data": {
      "text/html": [
       " View run <strong style=\"color:#cdcd00\">Conv_Blocks: 5, Num_Filters:32, Filter_org:0.5, Kernel_size:5, AFunc: silu, Dense_Layers:1, Neurons_Dense_layer:256</strong> at: <a href='https://wandb.ai/manoj_da24s018-iit-madras/CNN-inaturalist_12K-HyperParameterSweep-Trail1/runs/d3vd0grl' target=\"_blank\">https://wandb.ai/manoj_da24s018-iit-madras/CNN-inaturalist_12K-HyperParameterSweep-Trail1/runs/d3vd0grl</a><br> View project at: <a href='https://wandb.ai/manoj_da24s018-iit-madras/CNN-inaturalist_12K-HyperParameterSweep-Trail1' target=\"_blank\">https://wandb.ai/manoj_da24s018-iit-madras/CNN-inaturalist_12K-HyperParameterSweep-Trail1</a><br>Synced 5 W&B file(s), 0 media file(s), 0 artifact file(s) and 0 other file(s)"
      ],
      "text/plain": [
       "<IPython.core.display.HTML object>"
      ]
     },
     "metadata": {},
     "output_type": "display_data"
    },
    {
     "data": {
      "text/html": [
       "Find logs at: <code>./wandb/run-20250404_221001-d3vd0grl/logs</code>"
      ],
      "text/plain": [
       "<IPython.core.display.HTML object>"
      ]
     },
     "metadata": {},
     "output_type": "display_data"
    },
    {
     "name": "stderr",
     "output_type": "stream",
     "text": [
      "\u001b[34m\u001b[1mwandb\u001b[0m: Agent Starting Run: 9up8o1qp with config:\n",
      "\u001b[34m\u001b[1mwandb\u001b[0m: \tactivation_func: silu\n",
      "\u001b[34m\u001b[1mwandb\u001b[0m: \tbatch_norm: True\n",
      "\u001b[34m\u001b[1mwandb\u001b[0m: \tdense_neurons: 256\n",
      "\u001b[34m\u001b[1mwandb\u001b[0m: \tdropout: 0.2\n",
      "\u001b[34m\u001b[1mwandb\u001b[0m: \tfilter_org: 0.5\n",
      "\u001b[34m\u001b[1mwandb\u001b[0m: \tkernel_size: 5\n",
      "\u001b[34m\u001b[1mwandb\u001b[0m: \tlearning_rate: 0.01\n",
      "\u001b[34m\u001b[1mwandb\u001b[0m: \tnum_conv_filter: 32\n",
      "\u001b[34m\u001b[1mwandb\u001b[0m: \tnum_conv_layer: 7\n",
      "\u001b[34m\u001b[1mwandb\u001b[0m: \tnum_dense_layers: 1\n"
     ]
    },
    {
     "data": {
      "text/html": [
       "Tracking run with wandb version 0.19.9"
      ],
      "text/plain": [
       "<IPython.core.display.HTML object>"
      ]
     },
     "metadata": {},
     "output_type": "display_data"
    },
    {
     "data": {
      "text/html": [
       "Run data is saved locally in <code>/home/student/DL/wandb/run-20250404_221142-9up8o1qp</code>"
      ],
      "text/plain": [
       "<IPython.core.display.HTML object>"
      ]
     },
     "metadata": {},
     "output_type": "display_data"
    },
    {
     "data": {
      "text/html": [
       "Syncing run <strong><a href='https://wandb.ai/manoj_da24s018-iit-madras/CNN-inaturalist_12K-HyperParameterSweep-Trail1/runs/9up8o1qp' target=\"_blank\">faithful-sweep-13</a></strong> to <a href='https://wandb.ai/manoj_da24s018-iit-madras/CNN-inaturalist_12K-HyperParameterSweep-Trail1' target=\"_blank\">Weights & Biases</a> (<a href='https://wandb.me/developer-guide' target=\"_blank\">docs</a>)<br>Sweep page: <a href='https://wandb.ai/manoj_da24s018-iit-madras/CNN-inaturalist_12K-HyperParameterSweep-Trail1/sweeps/8301demb' target=\"_blank\">https://wandb.ai/manoj_da24s018-iit-madras/CNN-inaturalist_12K-HyperParameterSweep-Trail1/sweeps/8301demb</a>"
      ],
      "text/plain": [
       "<IPython.core.display.HTML object>"
      ]
     },
     "metadata": {},
     "output_type": "display_data"
    },
    {
     "data": {
      "text/html": [
       " View project at <a href='https://wandb.ai/manoj_da24s018-iit-madras/CNN-inaturalist_12K-HyperParameterSweep-Trail1' target=\"_blank\">https://wandb.ai/manoj_da24s018-iit-madras/CNN-inaturalist_12K-HyperParameterSweep-Trail1</a>"
      ],
      "text/plain": [
       "<IPython.core.display.HTML object>"
      ]
     },
     "metadata": {},
     "output_type": "display_data"
    },
    {
     "data": {
      "text/html": [
       " View sweep at <a href='https://wandb.ai/manoj_da24s018-iit-madras/CNN-inaturalist_12K-HyperParameterSweep-Trail1/sweeps/8301demb' target=\"_blank\">https://wandb.ai/manoj_da24s018-iit-madras/CNN-inaturalist_12K-HyperParameterSweep-Trail1/sweeps/8301demb</a>"
      ],
      "text/plain": [
       "<IPython.core.display.HTML object>"
      ]
     },
     "metadata": {},
     "output_type": "display_data"
    },
    {
     "data": {
      "text/html": [
       " View run at <a href='https://wandb.ai/manoj_da24s018-iit-madras/CNN-inaturalist_12K-HyperParameterSweep-Trail1/runs/9up8o1qp' target=\"_blank\">https://wandb.ai/manoj_da24s018-iit-madras/CNN-inaturalist_12K-HyperParameterSweep-Trail1/runs/9up8o1qp</a>"
      ],
      "text/plain": [
       "<IPython.core.display.HTML object>"
      ]
     },
     "metadata": {},
     "output_type": "display_data"
    },
    {
     "name": "stdout",
     "output_type": "stream",
     "text": [
      "Sweep Name:  Conv_Blocks: 7, Num_Filters:32, Filter_org:0.5, Kernel_size:5, AFunc: silu, Dense_Layers:1, Neurons_Dense_layer:256\n",
      "Model is on: cuda:0\n",
      "\n",
      "Epoch [1/10]\n",
      "Train Loss: 2.3183 | Train Acc: 12.58% | Val Loss: 2.2818 | Val Acc: 14.90%\n",
      "\n",
      "Epoch [2/10]\n",
      "Train Loss: 2.2204 | Train Acc: 16.85% | Val Loss: 2.2112 | Val Acc: 19.10%\n",
      "\n",
      "Epoch [3/10]\n",
      "Train Loss: 2.1797 | Train Acc: 18.64% | Val Loss: 2.1725 | Val Acc: 19.90%\n",
      "\n",
      "Epoch [4/10]\n",
      "Train Loss: 2.1633 | Train Acc: 19.20% | Val Loss: 2.2075 | Val Acc: 16.20%\n",
      "\n",
      "Epoch [5/10]\n",
      "Train Loss: 2.1433 | Train Acc: 20.14% | Val Loss: 2.1359 | Val Acc: 21.50%\n",
      "\n",
      "Epoch [6/10]\n",
      "Train Loss: 2.1234 | Train Acc: 21.28% | Val Loss: 2.1169 | Val Acc: 23.95%\n",
      "\n",
      "Epoch [7/10]\n",
      "Train Loss: 2.1071 | Train Acc: 21.93% | Val Loss: 2.1156 | Val Acc: 23.50%\n",
      "\n",
      "Epoch [8/10]\n",
      "Train Loss: 2.1047 | Train Acc: 22.19% | Val Loss: 2.1614 | Val Acc: 22.55%\n",
      "\n",
      "Epoch [9/10]\n",
      "Train Loss: 2.0880 | Train Acc: 22.90% | Val Loss: 2.1170 | Val Acc: 21.35%\n",
      "\n",
      "Epoch [10/10]\n",
      "Train Loss: 2.0853 | Train Acc: 22.44% | Val Loss: 2.1144 | Val Acc: 22.20%\n"
     ]
    },
    {
     "data": {
      "text/html": [],
      "text/plain": [
       "<IPython.core.display.HTML object>"
      ]
     },
     "metadata": {},
     "output_type": "display_data"
    },
    {
     "data": {
      "text/html": [
       "<br>    <style><br>        .wandb-row {<br>            display: flex;<br>            flex-direction: row;<br>            flex-wrap: wrap;<br>            justify-content: flex-start;<br>            width: 100%;<br>        }<br>        .wandb-col {<br>            display: flex;<br>            flex-direction: column;<br>            flex-basis: 100%;<br>            flex: 1;<br>            padding: 10px;<br>        }<br>    </style><br><div class=\"wandb-row\"><div class=\"wandb-col\"><h3>Run history:</h3><br/><table class=\"wandb\"><tr><td>epoch</td><td>▁▂▃▃▄▅▆▆▇█</td></tr><tr><td>train_accuracy</td><td>▁▄▅▅▆▇▇███</td></tr><tr><td>train_loss</td><td>█▅▄▃▃▂▂▂▁▁</td></tr><tr><td>val_accuracy</td><td>▁▄▅▂▆██▇▆▇</td></tr><tr><td>val_loss</td><td>█▅▃▅▂▁▁▃▁▁</td></tr></table><br/></div><div class=\"wandb-col\"><h3>Run summary:</h3><br/><table class=\"wandb\"><tr><td>epoch</td><td>9</td></tr><tr><td>train_accuracy</td><td>22.44031</td></tr><tr><td>train_loss</td><td>2.08532</td></tr><tr><td>val_accuracy</td><td>22.2</td></tr><tr><td>val_loss</td><td>2.11435</td></tr></table><br/></div></div>"
      ],
      "text/plain": [
       "<IPython.core.display.HTML object>"
      ]
     },
     "metadata": {},
     "output_type": "display_data"
    },
    {
     "data": {
      "text/html": [
       " View run <strong style=\"color:#cdcd00\">Conv_Blocks: 7, Num_Filters:32, Filter_org:0.5, Kernel_size:5, AFunc: silu, Dense_Layers:1, Neurons_Dense_layer:256</strong> at: <a href='https://wandb.ai/manoj_da24s018-iit-madras/CNN-inaturalist_12K-HyperParameterSweep-Trail1/runs/9up8o1qp' target=\"_blank\">https://wandb.ai/manoj_da24s018-iit-madras/CNN-inaturalist_12K-HyperParameterSweep-Trail1/runs/9up8o1qp</a><br> View project at: <a href='https://wandb.ai/manoj_da24s018-iit-madras/CNN-inaturalist_12K-HyperParameterSweep-Trail1' target=\"_blank\">https://wandb.ai/manoj_da24s018-iit-madras/CNN-inaturalist_12K-HyperParameterSweep-Trail1</a><br>Synced 5 W&B file(s), 0 media file(s), 0 artifact file(s) and 0 other file(s)"
      ],
      "text/plain": [
       "<IPython.core.display.HTML object>"
      ]
     },
     "metadata": {},
     "output_type": "display_data"
    },
    {
     "data": {
      "text/html": [
       "Find logs at: <code>./wandb/run-20250404_221142-9up8o1qp/logs</code>"
      ],
      "text/plain": [
       "<IPython.core.display.HTML object>"
      ]
     },
     "metadata": {},
     "output_type": "display_data"
    },
    {
     "name": "stderr",
     "output_type": "stream",
     "text": [
      "\u001b[34m\u001b[1mwandb\u001b[0m: Agent Starting Run: pf404adu with config:\n",
      "\u001b[34m\u001b[1mwandb\u001b[0m: \tactivation_func: gelu\n",
      "\u001b[34m\u001b[1mwandb\u001b[0m: \tbatch_norm: True\n",
      "\u001b[34m\u001b[1mwandb\u001b[0m: \tdense_neurons: 512\n",
      "\u001b[34m\u001b[1mwandb\u001b[0m: \tdropout: 0\n",
      "\u001b[34m\u001b[1mwandb\u001b[0m: \tfilter_org: 2\n",
      "\u001b[34m\u001b[1mwandb\u001b[0m: \tkernel_size: 5\n",
      "\u001b[34m\u001b[1mwandb\u001b[0m: \tlearning_rate: 0.01\n",
      "\u001b[34m\u001b[1mwandb\u001b[0m: \tnum_conv_filter: 16\n",
      "\u001b[34m\u001b[1mwandb\u001b[0m: \tnum_conv_layer: 7\n",
      "\u001b[34m\u001b[1mwandb\u001b[0m: \tnum_dense_layers: 1\n"
     ]
    },
    {
     "data": {
      "text/html": [
       "Tracking run with wandb version 0.19.9"
      ],
      "text/plain": [
       "<IPython.core.display.HTML object>"
      ]
     },
     "metadata": {},
     "output_type": "display_data"
    },
    {
     "data": {
      "text/html": [
       "Run data is saved locally in <code>/home/student/DL/wandb/run-20250404_221304-pf404adu</code>"
      ],
      "text/plain": [
       "<IPython.core.display.HTML object>"
      ]
     },
     "metadata": {},
     "output_type": "display_data"
    },
    {
     "data": {
      "text/html": [
       "Syncing run <strong><a href='https://wandb.ai/manoj_da24s018-iit-madras/CNN-inaturalist_12K-HyperParameterSweep-Trail1/runs/pf404adu' target=\"_blank\">mild-sweep-14</a></strong> to <a href='https://wandb.ai/manoj_da24s018-iit-madras/CNN-inaturalist_12K-HyperParameterSweep-Trail1' target=\"_blank\">Weights & Biases</a> (<a href='https://wandb.me/developer-guide' target=\"_blank\">docs</a>)<br>Sweep page: <a href='https://wandb.ai/manoj_da24s018-iit-madras/CNN-inaturalist_12K-HyperParameterSweep-Trail1/sweeps/8301demb' target=\"_blank\">https://wandb.ai/manoj_da24s018-iit-madras/CNN-inaturalist_12K-HyperParameterSweep-Trail1/sweeps/8301demb</a>"
      ],
      "text/plain": [
       "<IPython.core.display.HTML object>"
      ]
     },
     "metadata": {},
     "output_type": "display_data"
    },
    {
     "data": {
      "text/html": [
       " View project at <a href='https://wandb.ai/manoj_da24s018-iit-madras/CNN-inaturalist_12K-HyperParameterSweep-Trail1' target=\"_blank\">https://wandb.ai/manoj_da24s018-iit-madras/CNN-inaturalist_12K-HyperParameterSweep-Trail1</a>"
      ],
      "text/plain": [
       "<IPython.core.display.HTML object>"
      ]
     },
     "metadata": {},
     "output_type": "display_data"
    },
    {
     "data": {
      "text/html": [
       " View sweep at <a href='https://wandb.ai/manoj_da24s018-iit-madras/CNN-inaturalist_12K-HyperParameterSweep-Trail1/sweeps/8301demb' target=\"_blank\">https://wandb.ai/manoj_da24s018-iit-madras/CNN-inaturalist_12K-HyperParameterSweep-Trail1/sweeps/8301demb</a>"
      ],
      "text/plain": [
       "<IPython.core.display.HTML object>"
      ]
     },
     "metadata": {},
     "output_type": "display_data"
    },
    {
     "data": {
      "text/html": [
       " View run at <a href='https://wandb.ai/manoj_da24s018-iit-madras/CNN-inaturalist_12K-HyperParameterSweep-Trail1/runs/pf404adu' target=\"_blank\">https://wandb.ai/manoj_da24s018-iit-madras/CNN-inaturalist_12K-HyperParameterSweep-Trail1/runs/pf404adu</a>"
      ],
      "text/plain": [
       "<IPython.core.display.HTML object>"
      ]
     },
     "metadata": {},
     "output_type": "display_data"
    },
    {
     "name": "stdout",
     "output_type": "stream",
     "text": [
      "Sweep Name:  Conv_Blocks: 7, Num_Filters:16, Filter_org:2, Kernel_size:5, AFunc: gelu, Dense_Layers:1, Neurons_Dense_layer:512\n",
      "Model is on: cuda:0\n",
      "\n",
      "Epoch [1/10]\n",
      "Train Loss: 2.7654 | Train Acc: 11.19% | Val Loss: 2.5185 | Val Acc: 11.85%\n",
      "\n",
      "Epoch [2/10]\n",
      "Train Loss: 2.5319 | Train Acc: 11.41% | Val Loss: 2.5091 | Val Acc: 9.15%\n",
      "\n",
      "Epoch [3/10]\n",
      "Train Loss: 2.5652 | Train Acc: 10.69% | Val Loss: 2.4168 | Val Acc: 13.45%\n",
      "\n",
      "Epoch [4/10]\n",
      "Train Loss: 2.5812 | Train Acc: 11.69% | Val Loss: 2.6259 | Val Acc: 12.30%\n",
      "\n",
      "Epoch [5/10]\n",
      "Train Loss: 2.6273 | Train Acc: 11.41% | Val Loss: 2.5338 | Val Acc: 13.00%\n",
      "\n",
      "Epoch [6/10]\n",
      "Train Loss: 2.5287 | Train Acc: 11.23% | Val Loss: 2.7161 | Val Acc: 10.65%\n",
      "\n",
      "Epoch [7/10]\n",
      "Train Loss: 2.5591 | Train Acc: 10.98% | Val Loss: 2.3516 | Val Acc: 12.85%\n",
      "\n",
      "Epoch [8/10]\n",
      "Train Loss: 2.5377 | Train Acc: 11.01% | Val Loss: 2.4066 | Val Acc: 9.50%\n",
      "\n",
      "Epoch [9/10]\n",
      "Train Loss: 2.5674 | Train Acc: 11.41% | Val Loss: 2.5888 | Val Acc: 11.35%\n",
      "\n",
      "Epoch [10/10]\n",
      "Train Loss: 2.5658 | Train Acc: 9.83% | Val Loss: 2.5003 | Val Acc: 10.30%\n"
     ]
    },
    {
     "data": {
      "text/html": [],
      "text/plain": [
       "<IPython.core.display.HTML object>"
      ]
     },
     "metadata": {},
     "output_type": "display_data"
    },
    {
     "data": {
      "text/html": [
       "<br>    <style><br>        .wandb-row {<br>            display: flex;<br>            flex-direction: row;<br>            flex-wrap: wrap;<br>            justify-content: flex-start;<br>            width: 100%;<br>        }<br>        .wandb-col {<br>            display: flex;<br>            flex-direction: column;<br>            flex-basis: 100%;<br>            flex: 1;<br>            padding: 10px;<br>        }<br>    </style><br><div class=\"wandb-row\"><div class=\"wandb-col\"><h3>Run history:</h3><br/><table class=\"wandb\"><tr><td>epoch</td><td>▁▂▃▃▄▅▆▆▇█</td></tr><tr><td>train_accuracy</td><td>▆▇▄█▇▆▅▅▇▁</td></tr><tr><td>train_loss</td><td>█▁▂▃▄▁▂▁▂▂</td></tr><tr><td>val_accuracy</td><td>▅▁█▆▇▃▇▂▅▃</td></tr><tr><td>val_loss</td><td>▄▄▂▆▄█▁▂▆▄</td></tr></table><br/></div><div class=\"wandb-col\"><h3>Run summary:</h3><br/><table class=\"wandb\"><tr><td>epoch</td><td>9</td></tr><tr><td>train_accuracy</td><td>9.82623</td></tr><tr><td>train_loss</td><td>2.56576</td></tr><tr><td>val_accuracy</td><td>10.3</td></tr><tr><td>val_loss</td><td>2.50027</td></tr></table><br/></div></div>"
      ],
      "text/plain": [
       "<IPython.core.display.HTML object>"
      ]
     },
     "metadata": {},
     "output_type": "display_data"
    },
    {
     "data": {
      "text/html": [
       " View run <strong style=\"color:#cdcd00\">Conv_Blocks: 7, Num_Filters:16, Filter_org:2, Kernel_size:5, AFunc: gelu, Dense_Layers:1, Neurons_Dense_layer:512</strong> at: <a href='https://wandb.ai/manoj_da24s018-iit-madras/CNN-inaturalist_12K-HyperParameterSweep-Trail1/runs/pf404adu' target=\"_blank\">https://wandb.ai/manoj_da24s018-iit-madras/CNN-inaturalist_12K-HyperParameterSweep-Trail1/runs/pf404adu</a><br> View project at: <a href='https://wandb.ai/manoj_da24s018-iit-madras/CNN-inaturalist_12K-HyperParameterSweep-Trail1' target=\"_blank\">https://wandb.ai/manoj_da24s018-iit-madras/CNN-inaturalist_12K-HyperParameterSweep-Trail1</a><br>Synced 5 W&B file(s), 0 media file(s), 0 artifact file(s) and 0 other file(s)"
      ],
      "text/plain": [
       "<IPython.core.display.HTML object>"
      ]
     },
     "metadata": {},
     "output_type": "display_data"
    },
    {
     "data": {
      "text/html": [
       "Find logs at: <code>./wandb/run-20250404_221304-pf404adu/logs</code>"
      ],
      "text/plain": [
       "<IPython.core.display.HTML object>"
      ]
     },
     "metadata": {},
     "output_type": "display_data"
    },
    {
     "name": "stderr",
     "output_type": "stream",
     "text": [
      "\u001b[34m\u001b[1mwandb\u001b[0m: Agent Starting Run: f20vxy4s with config:\n",
      "\u001b[34m\u001b[1mwandb\u001b[0m: \tactivation_func: relu\n",
      "\u001b[34m\u001b[1mwandb\u001b[0m: \tbatch_norm: True\n",
      "\u001b[34m\u001b[1mwandb\u001b[0m: \tdense_neurons: 256\n",
      "\u001b[34m\u001b[1mwandb\u001b[0m: \tdropout: 0.2\n",
      "\u001b[34m\u001b[1mwandb\u001b[0m: \tfilter_org: 2\n",
      "\u001b[34m\u001b[1mwandb\u001b[0m: \tkernel_size: 5\n",
      "\u001b[34m\u001b[1mwandb\u001b[0m: \tlearning_rate: 0.001\n",
      "\u001b[34m\u001b[1mwandb\u001b[0m: \tnum_conv_filter: 16\n",
      "\u001b[34m\u001b[1mwandb\u001b[0m: \tnum_conv_layer: 3\n",
      "\u001b[34m\u001b[1mwandb\u001b[0m: \tnum_dense_layers: 2\n"
     ]
    },
    {
     "data": {
      "text/html": [
       "Tracking run with wandb version 0.19.9"
      ],
      "text/plain": [
       "<IPython.core.display.HTML object>"
      ]
     },
     "metadata": {},
     "output_type": "display_data"
    },
    {
     "data": {
      "text/html": [
       "Run data is saved locally in <code>/home/student/DL/wandb/run-20250404_221501-f20vxy4s</code>"
      ],
      "text/plain": [
       "<IPython.core.display.HTML object>"
      ]
     },
     "metadata": {},
     "output_type": "display_data"
    },
    {
     "data": {
      "text/html": [
       "Syncing run <strong><a href='https://wandb.ai/manoj_da24s018-iit-madras/CNN-inaturalist_12K-HyperParameterSweep-Trail1/runs/f20vxy4s' target=\"_blank\">lyric-sweep-15</a></strong> to <a href='https://wandb.ai/manoj_da24s018-iit-madras/CNN-inaturalist_12K-HyperParameterSweep-Trail1' target=\"_blank\">Weights & Biases</a> (<a href='https://wandb.me/developer-guide' target=\"_blank\">docs</a>)<br>Sweep page: <a href='https://wandb.ai/manoj_da24s018-iit-madras/CNN-inaturalist_12K-HyperParameterSweep-Trail1/sweeps/8301demb' target=\"_blank\">https://wandb.ai/manoj_da24s018-iit-madras/CNN-inaturalist_12K-HyperParameterSweep-Trail1/sweeps/8301demb</a>"
      ],
      "text/plain": [
       "<IPython.core.display.HTML object>"
      ]
     },
     "metadata": {},
     "output_type": "display_data"
    },
    {
     "data": {
      "text/html": [
       " View project at <a href='https://wandb.ai/manoj_da24s018-iit-madras/CNN-inaturalist_12K-HyperParameterSweep-Trail1' target=\"_blank\">https://wandb.ai/manoj_da24s018-iit-madras/CNN-inaturalist_12K-HyperParameterSweep-Trail1</a>"
      ],
      "text/plain": [
       "<IPython.core.display.HTML object>"
      ]
     },
     "metadata": {},
     "output_type": "display_data"
    },
    {
     "data": {
      "text/html": [
       " View sweep at <a href='https://wandb.ai/manoj_da24s018-iit-madras/CNN-inaturalist_12K-HyperParameterSweep-Trail1/sweeps/8301demb' target=\"_blank\">https://wandb.ai/manoj_da24s018-iit-madras/CNN-inaturalist_12K-HyperParameterSweep-Trail1/sweeps/8301demb</a>"
      ],
      "text/plain": [
       "<IPython.core.display.HTML object>"
      ]
     },
     "metadata": {},
     "output_type": "display_data"
    },
    {
     "data": {
      "text/html": [
       " View run at <a href='https://wandb.ai/manoj_da24s018-iit-madras/CNN-inaturalist_12K-HyperParameterSweep-Trail1/runs/f20vxy4s' target=\"_blank\">https://wandb.ai/manoj_da24s018-iit-madras/CNN-inaturalist_12K-HyperParameterSweep-Trail1/runs/f20vxy4s</a>"
      ],
      "text/plain": [
       "<IPython.core.display.HTML object>"
      ]
     },
     "metadata": {},
     "output_type": "display_data"
    },
    {
     "name": "stdout",
     "output_type": "stream",
     "text": [
      "Sweep Name:  Conv_Blocks: 3, Num_Filters:16, Filter_org:2, Kernel_size:5, AFunc: relu, Dense_Layers:2, Neurons_Dense_layer:256\n",
      "Model is on: cuda:0\n",
      "\n",
      "Epoch [1/10]\n",
      "Train Loss: 2.2628 | Train Acc: 15.71% | Val Loss: 2.2131 | Val Acc: 17.60%\n",
      "\n",
      "Epoch [2/10]\n",
      "Train Loss: 2.2351 | Train Acc: 17.08% | Val Loss: 2.2257 | Val Acc: 16.50%\n",
      "\n",
      "Epoch [3/10]\n",
      "Train Loss: 2.2112 | Train Acc: 18.58% | Val Loss: 2.2154 | Val Acc: 18.15%\n",
      "\n",
      "Epoch [4/10]\n",
      "Train Loss: 2.2218 | Train Acc: 17.19% | Val Loss: 2.2165 | Val Acc: 18.00%\n",
      "\n",
      "Epoch [5/10]\n",
      "Train Loss: 2.2477 | Train Acc: 16.04% | Val Loss: 2.2405 | Val Acc: 16.95%\n",
      "\n",
      "Epoch [6/10]\n",
      "Train Loss: 2.2373 | Train Acc: 16.80% | Val Loss: 2.2266 | Val Acc: 17.15%\n",
      "\n",
      "Epoch [7/10]\n",
      "Train Loss: 2.2187 | Train Acc: 17.56% | Val Loss: 2.2127 | Val Acc: 16.75%\n",
      "\n",
      "Epoch [8/10]\n",
      "Train Loss: 2.2187 | Train Acc: 17.21% | Val Loss: 2.2097 | Val Acc: 16.40%\n",
      "\n",
      "Epoch [9/10]\n",
      "Train Loss: 2.2109 | Train Acc: 17.09% | Val Loss: 2.2181 | Val Acc: 15.65%\n",
      "\n",
      "Epoch [10/10]\n",
      "Train Loss: 2.2399 | Train Acc: 16.05% | Val Loss: 2.2397 | Val Acc: 13.55%\n"
     ]
    },
    {
     "data": {
      "text/html": [],
      "text/plain": [
       "<IPython.core.display.HTML object>"
      ]
     },
     "metadata": {},
     "output_type": "display_data"
    },
    {
     "data": {
      "text/html": [
       "<br>    <style><br>        .wandb-row {<br>            display: flex;<br>            flex-direction: row;<br>            flex-wrap: wrap;<br>            justify-content: flex-start;<br>            width: 100%;<br>        }<br>        .wandb-col {<br>            display: flex;<br>            flex-direction: column;<br>            flex-basis: 100%;<br>            flex: 1;<br>            padding: 10px;<br>        }<br>    </style><br><div class=\"wandb-row\"><div class=\"wandb-col\"><h3>Run history:</h3><br/><table class=\"wandb\"><tr><td>epoch</td><td>▁▂▃▃▄▅▆▆▇█</td></tr><tr><td>train_accuracy</td><td>▁▄█▅▂▄▆▅▄▂</td></tr><tr><td>train_loss</td><td>█▄▁▂▆▅▂▂▁▅</td></tr><tr><td>val_accuracy</td><td>▇▅██▆▆▆▅▄▁</td></tr><tr><td>val_loss</td><td>▂▅▂▃█▅▂▁▃█</td></tr></table><br/></div><div class=\"wandb-col\"><h3>Run summary:</h3><br/><table class=\"wandb\"><tr><td>epoch</td><td>9</td></tr><tr><td>train_accuracy</td><td>16.05201</td></tr><tr><td>train_loss</td><td>2.23987</td></tr><tr><td>val_accuracy</td><td>13.55</td></tr><tr><td>val_loss</td><td>2.23965</td></tr></table><br/></div></div>"
      ],
      "text/plain": [
       "<IPython.core.display.HTML object>"
      ]
     },
     "metadata": {},
     "output_type": "display_data"
    },
    {
     "data": {
      "text/html": [
       " View run <strong style=\"color:#cdcd00\">Conv_Blocks: 3, Num_Filters:16, Filter_org:2, Kernel_size:5, AFunc: relu, Dense_Layers:2, Neurons_Dense_layer:256</strong> at: <a href='https://wandb.ai/manoj_da24s018-iit-madras/CNN-inaturalist_12K-HyperParameterSweep-Trail1/runs/f20vxy4s' target=\"_blank\">https://wandb.ai/manoj_da24s018-iit-madras/CNN-inaturalist_12K-HyperParameterSweep-Trail1/runs/f20vxy4s</a><br> View project at: <a href='https://wandb.ai/manoj_da24s018-iit-madras/CNN-inaturalist_12K-HyperParameterSweep-Trail1' target=\"_blank\">https://wandb.ai/manoj_da24s018-iit-madras/CNN-inaturalist_12K-HyperParameterSweep-Trail1</a><br>Synced 5 W&B file(s), 0 media file(s), 0 artifact file(s) and 0 other file(s)"
      ],
      "text/plain": [
       "<IPython.core.display.HTML object>"
      ]
     },
     "metadata": {},
     "output_type": "display_data"
    },
    {
     "data": {
      "text/html": [
       "Find logs at: <code>./wandb/run-20250404_221501-f20vxy4s/logs</code>"
      ],
      "text/plain": [
       "<IPython.core.display.HTML object>"
      ]
     },
     "metadata": {},
     "output_type": "display_data"
    },
    {
     "name": "stderr",
     "output_type": "stream",
     "text": [
      "\u001b[34m\u001b[1mwandb\u001b[0m: Agent Starting Run: zt7ozqf7 with config:\n",
      "\u001b[34m\u001b[1mwandb\u001b[0m: \tactivation_func: relu\n",
      "\u001b[34m\u001b[1mwandb\u001b[0m: \tbatch_norm: False\n",
      "\u001b[34m\u001b[1mwandb\u001b[0m: \tdense_neurons: 256\n",
      "\u001b[34m\u001b[1mwandb\u001b[0m: \tdropout: 0\n",
      "\u001b[34m\u001b[1mwandb\u001b[0m: \tfilter_org: 2\n",
      "\u001b[34m\u001b[1mwandb\u001b[0m: \tkernel_size: 3\n",
      "\u001b[34m\u001b[1mwandb\u001b[0m: \tlearning_rate: 0.001\n",
      "\u001b[34m\u001b[1mwandb\u001b[0m: \tnum_conv_filter: 16\n",
      "\u001b[34m\u001b[1mwandb\u001b[0m: \tnum_conv_layer: 3\n",
      "\u001b[34m\u001b[1mwandb\u001b[0m: \tnum_dense_layers: 2\n"
     ]
    },
    {
     "data": {
      "text/html": [
       "Tracking run with wandb version 0.19.9"
      ],
      "text/plain": [
       "<IPython.core.display.HTML object>"
      ]
     },
     "metadata": {},
     "output_type": "display_data"
    },
    {
     "data": {
      "text/html": [
       "Run data is saved locally in <code>/home/student/DL/wandb/run-20250404_221635-zt7ozqf7</code>"
      ],
      "text/plain": [
       "<IPython.core.display.HTML object>"
      ]
     },
     "metadata": {},
     "output_type": "display_data"
    },
    {
     "data": {
      "text/html": [
       "Syncing run <strong><a href='https://wandb.ai/manoj_da24s018-iit-madras/CNN-inaturalist_12K-HyperParameterSweep-Trail1/runs/zt7ozqf7' target=\"_blank\">decent-sweep-16</a></strong> to <a href='https://wandb.ai/manoj_da24s018-iit-madras/CNN-inaturalist_12K-HyperParameterSweep-Trail1' target=\"_blank\">Weights & Biases</a> (<a href='https://wandb.me/developer-guide' target=\"_blank\">docs</a>)<br>Sweep page: <a href='https://wandb.ai/manoj_da24s018-iit-madras/CNN-inaturalist_12K-HyperParameterSweep-Trail1/sweeps/8301demb' target=\"_blank\">https://wandb.ai/manoj_da24s018-iit-madras/CNN-inaturalist_12K-HyperParameterSweep-Trail1/sweeps/8301demb</a>"
      ],
      "text/plain": [
       "<IPython.core.display.HTML object>"
      ]
     },
     "metadata": {},
     "output_type": "display_data"
    },
    {
     "data": {
      "text/html": [
       " View project at <a href='https://wandb.ai/manoj_da24s018-iit-madras/CNN-inaturalist_12K-HyperParameterSweep-Trail1' target=\"_blank\">https://wandb.ai/manoj_da24s018-iit-madras/CNN-inaturalist_12K-HyperParameterSweep-Trail1</a>"
      ],
      "text/plain": [
       "<IPython.core.display.HTML object>"
      ]
     },
     "metadata": {},
     "output_type": "display_data"
    },
    {
     "data": {
      "text/html": [
       " View sweep at <a href='https://wandb.ai/manoj_da24s018-iit-madras/CNN-inaturalist_12K-HyperParameterSweep-Trail1/sweeps/8301demb' target=\"_blank\">https://wandb.ai/manoj_da24s018-iit-madras/CNN-inaturalist_12K-HyperParameterSweep-Trail1/sweeps/8301demb</a>"
      ],
      "text/plain": [
       "<IPython.core.display.HTML object>"
      ]
     },
     "metadata": {},
     "output_type": "display_data"
    },
    {
     "data": {
      "text/html": [
       " View run at <a href='https://wandb.ai/manoj_da24s018-iit-madras/CNN-inaturalist_12K-HyperParameterSweep-Trail1/runs/zt7ozqf7' target=\"_blank\">https://wandb.ai/manoj_da24s018-iit-madras/CNN-inaturalist_12K-HyperParameterSweep-Trail1/runs/zt7ozqf7</a>"
      ],
      "text/plain": [
       "<IPython.core.display.HTML object>"
      ]
     },
     "metadata": {},
     "output_type": "display_data"
    },
    {
     "name": "stdout",
     "output_type": "stream",
     "text": [
      "Sweep Name:  Conv_Blocks: 3, Num_Filters:16, Filter_org:2, Kernel_size:3, AFunc: relu, Dense_Layers:2, Neurons_Dense_layer:256\n",
      "Model is on: cuda:0\n",
      "\n",
      "Epoch [1/10]\n",
      "Train Loss: 2.1124 | Train Acc: 23.10% | Val Loss: 2.0088 | Val Acc: 27.95%\n",
      "\n",
      "Epoch [2/10]\n",
      "Train Loss: 1.9171 | Train Acc: 32.38% | Val Loss: 1.9752 | Val Acc: 31.25%\n",
      "\n",
      "Epoch [3/10]\n",
      "Train Loss: 1.7621 | Train Acc: 38.48% | Val Loss: 1.9101 | Val Acc: 33.50%\n",
      "\n",
      "Epoch [4/10]\n",
      "Train Loss: 1.4966 | Train Acc: 48.26% | Val Loss: 2.0008 | Val Acc: 33.05%\n",
      "\n",
      "Epoch [5/10]\n",
      "Train Loss: 0.9378 | Train Acc: 69.28% | Val Loss: 2.4334 | Val Acc: 31.15%\n",
      "\n",
      "Epoch [6/10]\n",
      "Train Loss: 0.3557 | Train Acc: 89.30% | Val Loss: 3.0264 | Val Acc: 30.20%\n",
      "\n",
      "Epoch [7/10]\n",
      "Train Loss: 0.1131 | Train Acc: 97.04% | Val Loss: 3.5228 | Val Acc: 28.40%\n",
      "\n",
      "Epoch [8/10]\n",
      "Train Loss: 0.0270 | Train Acc: 99.61% | Val Loss: 3.8559 | Val Acc: 28.20%\n",
      "\n",
      "Epoch [9/10]\n",
      "Train Loss: 0.0139 | Train Acc: 99.77% | Val Loss: 3.9271 | Val Acc: 28.60%\n",
      "\n",
      "Epoch [10/10]\n",
      "Train Loss: 0.0045 | Train Acc: 99.96% | Val Loss: 3.9870 | Val Acc: 28.35%\n"
     ]
    },
    {
     "data": {
      "text/html": [],
      "text/plain": [
       "<IPython.core.display.HTML object>"
      ]
     },
     "metadata": {},
     "output_type": "display_data"
    },
    {
     "data": {
      "text/html": [
       "<br>    <style><br>        .wandb-row {<br>            display: flex;<br>            flex-direction: row;<br>            flex-wrap: wrap;<br>            justify-content: flex-start;<br>            width: 100%;<br>        }<br>        .wandb-col {<br>            display: flex;<br>            flex-direction: column;<br>            flex-basis: 100%;<br>            flex: 1;<br>            padding: 10px;<br>        }<br>    </style><br><div class=\"wandb-row\"><div class=\"wandb-col\"><h3>Run history:</h3><br/><table class=\"wandb\"><tr><td>epoch</td><td>▁▂▃▃▄▅▆▆▇█</td></tr><tr><td>train_accuracy</td><td>▁▂▂▃▅▇████</td></tr><tr><td>train_loss</td><td>█▇▇▆▄▂▁▁▁▁</td></tr><tr><td>val_accuracy</td><td>▁▅█▇▅▄▂▁▂▂</td></tr><tr><td>val_loss</td><td>▁▁▁▁▃▅▆███</td></tr></table><br/></div><div class=\"wandb-col\"><h3>Run summary:</h3><br/><table class=\"wandb\"><tr><td>epoch</td><td>9</td></tr><tr><td>train_accuracy</td><td>99.9625</td></tr><tr><td>train_loss</td><td>0.00453</td></tr><tr><td>val_accuracy</td><td>28.35</td></tr><tr><td>val_loss</td><td>3.98699</td></tr></table><br/></div></div>"
      ],
      "text/plain": [
       "<IPython.core.display.HTML object>"
      ]
     },
     "metadata": {},
     "output_type": "display_data"
    },
    {
     "data": {
      "text/html": [
       " View run <strong style=\"color:#cdcd00\">Conv_Blocks: 3, Num_Filters:16, Filter_org:2, Kernel_size:3, AFunc: relu, Dense_Layers:2, Neurons_Dense_layer:256</strong> at: <a href='https://wandb.ai/manoj_da24s018-iit-madras/CNN-inaturalist_12K-HyperParameterSweep-Trail1/runs/zt7ozqf7' target=\"_blank\">https://wandb.ai/manoj_da24s018-iit-madras/CNN-inaturalist_12K-HyperParameterSweep-Trail1/runs/zt7ozqf7</a><br> View project at: <a href='https://wandb.ai/manoj_da24s018-iit-madras/CNN-inaturalist_12K-HyperParameterSweep-Trail1' target=\"_blank\">https://wandb.ai/manoj_da24s018-iit-madras/CNN-inaturalist_12K-HyperParameterSweep-Trail1</a><br>Synced 5 W&B file(s), 0 media file(s), 0 artifact file(s) and 0 other file(s)"
      ],
      "text/plain": [
       "<IPython.core.display.HTML object>"
      ]
     },
     "metadata": {},
     "output_type": "display_data"
    },
    {
     "data": {
      "text/html": [
       "Find logs at: <code>./wandb/run-20250404_221635-zt7ozqf7/logs</code>"
      ],
      "text/plain": [
       "<IPython.core.display.HTML object>"
      ]
     },
     "metadata": {},
     "output_type": "display_data"
    },
    {
     "name": "stderr",
     "output_type": "stream",
     "text": [
      "\u001b[34m\u001b[1mwandb\u001b[0m: Agent Starting Run: knkspg33 with config:\n",
      "\u001b[34m\u001b[1mwandb\u001b[0m: \tactivation_func: tanh\n",
      "\u001b[34m\u001b[1mwandb\u001b[0m: \tbatch_norm: False\n",
      "\u001b[34m\u001b[1mwandb\u001b[0m: \tdense_neurons: 512\n",
      "\u001b[34m\u001b[1mwandb\u001b[0m: \tdropout: 0\n",
      "\u001b[34m\u001b[1mwandb\u001b[0m: \tfilter_org: 0.5\n",
      "\u001b[34m\u001b[1mwandb\u001b[0m: \tkernel_size: 5\n",
      "\u001b[34m\u001b[1mwandb\u001b[0m: \tlearning_rate: 0.005\n",
      "\u001b[34m\u001b[1mwandb\u001b[0m: \tnum_conv_filter: 16\n",
      "\u001b[34m\u001b[1mwandb\u001b[0m: \tnum_conv_layer: 7\n",
      "\u001b[34m\u001b[1mwandb\u001b[0m: \tnum_dense_layers: 2\n"
     ]
    },
    {
     "data": {
      "text/html": [
       "Tracking run with wandb version 0.19.9"
      ],
      "text/plain": [
       "<IPython.core.display.HTML object>"
      ]
     },
     "metadata": {},
     "output_type": "display_data"
    },
    {
     "data": {
      "text/html": [
       "Run data is saved locally in <code>/home/student/DL/wandb/run-20250404_221738-knkspg33</code>"
      ],
      "text/plain": [
       "<IPython.core.display.HTML object>"
      ]
     },
     "metadata": {},
     "output_type": "display_data"
    },
    {
     "data": {
      "text/html": [
       "Syncing run <strong><a href='https://wandb.ai/manoj_da24s018-iit-madras/CNN-inaturalist_12K-HyperParameterSweep-Trail1/runs/knkspg33' target=\"_blank\">autumn-sweep-17</a></strong> to <a href='https://wandb.ai/manoj_da24s018-iit-madras/CNN-inaturalist_12K-HyperParameterSweep-Trail1' target=\"_blank\">Weights & Biases</a> (<a href='https://wandb.me/developer-guide' target=\"_blank\">docs</a>)<br>Sweep page: <a href='https://wandb.ai/manoj_da24s018-iit-madras/CNN-inaturalist_12K-HyperParameterSweep-Trail1/sweeps/8301demb' target=\"_blank\">https://wandb.ai/manoj_da24s018-iit-madras/CNN-inaturalist_12K-HyperParameterSweep-Trail1/sweeps/8301demb</a>"
      ],
      "text/plain": [
       "<IPython.core.display.HTML object>"
      ]
     },
     "metadata": {},
     "output_type": "display_data"
    },
    {
     "data": {
      "text/html": [
       " View project at <a href='https://wandb.ai/manoj_da24s018-iit-madras/CNN-inaturalist_12K-HyperParameterSweep-Trail1' target=\"_blank\">https://wandb.ai/manoj_da24s018-iit-madras/CNN-inaturalist_12K-HyperParameterSweep-Trail1</a>"
      ],
      "text/plain": [
       "<IPython.core.display.HTML object>"
      ]
     },
     "metadata": {},
     "output_type": "display_data"
    },
    {
     "data": {
      "text/html": [
       " View sweep at <a href='https://wandb.ai/manoj_da24s018-iit-madras/CNN-inaturalist_12K-HyperParameterSweep-Trail1/sweeps/8301demb' target=\"_blank\">https://wandb.ai/manoj_da24s018-iit-madras/CNN-inaturalist_12K-HyperParameterSweep-Trail1/sweeps/8301demb</a>"
      ],
      "text/plain": [
       "<IPython.core.display.HTML object>"
      ]
     },
     "metadata": {},
     "output_type": "display_data"
    },
    {
     "data": {
      "text/html": [
       " View run at <a href='https://wandb.ai/manoj_da24s018-iit-madras/CNN-inaturalist_12K-HyperParameterSweep-Trail1/runs/knkspg33' target=\"_blank\">https://wandb.ai/manoj_da24s018-iit-madras/CNN-inaturalist_12K-HyperParameterSweep-Trail1/runs/knkspg33</a>"
      ],
      "text/plain": [
       "<IPython.core.display.HTML object>"
      ]
     },
     "metadata": {},
     "output_type": "display_data"
    },
    {
     "name": "stdout",
     "output_type": "stream",
     "text": [
      "Sweep Name:  Conv_Blocks: 7, Num_Filters:16, Filter_org:0.5, Kernel_size:5, AFunc: tanh, Dense_Layers:2, Neurons_Dense_layer:512\n",
      "Model is on: cuda:0\n",
      "\n",
      "Epoch [1/10]\n",
      "Train Loss: 2.3710 | Train Acc: 12.60% | Val Loss: 2.3145 | Val Acc: 11.80%\n",
      "\n",
      "Epoch [2/10]\n",
      "Train Loss: 2.2739 | Train Acc: 13.63% | Val Loss: 2.2611 | Val Acc: 14.15%\n",
      "\n",
      "Epoch [3/10]\n",
      "Train Loss: 2.2543 | Train Acc: 15.15% | Val Loss: 2.2540 | Val Acc: 14.75%\n",
      "\n",
      "Epoch [4/10]\n",
      "Train Loss: 2.2358 | Train Acc: 15.86% | Val Loss: 2.2509 | Val Acc: 16.70%\n",
      "\n",
      "Epoch [5/10]\n",
      "Train Loss: 2.2180 | Train Acc: 17.01% | Val Loss: 2.2559 | Val Acc: 16.55%\n",
      "\n",
      "Epoch [6/10]\n",
      "Train Loss: 2.2092 | Train Acc: 17.80% | Val Loss: 2.2286 | Val Acc: 16.70%\n",
      "\n",
      "Epoch [7/10]\n",
      "Train Loss: 2.2095 | Train Acc: 17.70% | Val Loss: 2.2342 | Val Acc: 17.20%\n",
      "\n",
      "Epoch [8/10]\n",
      "Train Loss: 2.2071 | Train Acc: 16.63% | Val Loss: 2.2099 | Val Acc: 17.05%\n",
      "\n",
      "Epoch [9/10]\n",
      "Train Loss: 2.2045 | Train Acc: 17.85% | Val Loss: 2.2074 | Val Acc: 17.45%\n",
      "\n",
      "Epoch [10/10]\n",
      "Train Loss: 2.1981 | Train Acc: 17.85% | Val Loss: 2.1980 | Val Acc: 17.80%\n"
     ]
    },
    {
     "data": {
      "text/html": [],
      "text/plain": [
       "<IPython.core.display.HTML object>"
      ]
     },
     "metadata": {},
     "output_type": "display_data"
    },
    {
     "data": {
      "text/html": [
       "<br>    <style><br>        .wandb-row {<br>            display: flex;<br>            flex-direction: row;<br>            flex-wrap: wrap;<br>            justify-content: flex-start;<br>            width: 100%;<br>        }<br>        .wandb-col {<br>            display: flex;<br>            flex-direction: column;<br>            flex-basis: 100%;<br>            flex: 1;<br>            padding: 10px;<br>        }<br>    </style><br><div class=\"wandb-row\"><div class=\"wandb-col\"><h3>Run history:</h3><br/><table class=\"wandb\"><tr><td>epoch</td><td>▁▂▃▃▄▅▆▆▇█</td></tr><tr><td>train_accuracy</td><td>▁▂▄▅▇██▆██</td></tr><tr><td>train_loss</td><td>█▄▃▃▂▁▁▁▁▁</td></tr><tr><td>val_accuracy</td><td>▁▄▄▇▇▇▇▇██</td></tr><tr><td>val_loss</td><td>█▅▄▄▄▃▃▂▂▁</td></tr></table><br/></div><div class=\"wandb-col\"><h3>Run summary:</h3><br/><table class=\"wandb\"><tr><td>epoch</td><td>9</td></tr><tr><td>train_accuracy</td><td>17.85223</td></tr><tr><td>train_loss</td><td>2.19808</td></tr><tr><td>val_accuracy</td><td>17.8</td></tr><tr><td>val_loss</td><td>2.19796</td></tr></table><br/></div></div>"
      ],
      "text/plain": [
       "<IPython.core.display.HTML object>"
      ]
     },
     "metadata": {},
     "output_type": "display_data"
    },
    {
     "data": {
      "text/html": [
       " View run <strong style=\"color:#cdcd00\">Conv_Blocks: 7, Num_Filters:16, Filter_org:0.5, Kernel_size:5, AFunc: tanh, Dense_Layers:2, Neurons_Dense_layer:512</strong> at: <a href='https://wandb.ai/manoj_da24s018-iit-madras/CNN-inaturalist_12K-HyperParameterSweep-Trail1/runs/knkspg33' target=\"_blank\">https://wandb.ai/manoj_da24s018-iit-madras/CNN-inaturalist_12K-HyperParameterSweep-Trail1/runs/knkspg33</a><br> View project at: <a href='https://wandb.ai/manoj_da24s018-iit-madras/CNN-inaturalist_12K-HyperParameterSweep-Trail1' target=\"_blank\">https://wandb.ai/manoj_da24s018-iit-madras/CNN-inaturalist_12K-HyperParameterSweep-Trail1</a><br>Synced 5 W&B file(s), 0 media file(s), 0 artifact file(s) and 0 other file(s)"
      ],
      "text/plain": [
       "<IPython.core.display.HTML object>"
      ]
     },
     "metadata": {},
     "output_type": "display_data"
    },
    {
     "data": {
      "text/html": [
       "Find logs at: <code>./wandb/run-20250404_221738-knkspg33/logs</code>"
      ],
      "text/plain": [
       "<IPython.core.display.HTML object>"
      ]
     },
     "metadata": {},
     "output_type": "display_data"
    },
    {
     "name": "stderr",
     "output_type": "stream",
     "text": [
      "\u001b[34m\u001b[1mwandb\u001b[0m: Agent Starting Run: ikd2rfxo with config:\n",
      "\u001b[34m\u001b[1mwandb\u001b[0m: \tactivation_func: tanh\n",
      "\u001b[34m\u001b[1mwandb\u001b[0m: \tbatch_norm: False\n",
      "\u001b[34m\u001b[1mwandb\u001b[0m: \tdense_neurons: 256\n",
      "\u001b[34m\u001b[1mwandb\u001b[0m: \tdropout: 0.4\n",
      "\u001b[34m\u001b[1mwandb\u001b[0m: \tfilter_org: 2\n",
      "\u001b[34m\u001b[1mwandb\u001b[0m: \tkernel_size: 3\n",
      "\u001b[34m\u001b[1mwandb\u001b[0m: \tlearning_rate: 0.01\n",
      "\u001b[34m\u001b[1mwandb\u001b[0m: \tnum_conv_filter: 32\n",
      "\u001b[34m\u001b[1mwandb\u001b[0m: \tnum_conv_layer: 3\n",
      "\u001b[34m\u001b[1mwandb\u001b[0m: \tnum_dense_layers: 1\n"
     ]
    },
    {
     "data": {
      "text/html": [
       "Tracking run with wandb version 0.19.9"
      ],
      "text/plain": [
       "<IPython.core.display.HTML object>"
      ]
     },
     "metadata": {},
     "output_type": "display_data"
    },
    {
     "data": {
      "text/html": [
       "Run data is saved locally in <code>/home/student/DL/wandb/run-20250404_221831-ikd2rfxo</code>"
      ],
      "text/plain": [
       "<IPython.core.display.HTML object>"
      ]
     },
     "metadata": {},
     "output_type": "display_data"
    },
    {
     "data": {
      "text/html": [
       "Syncing run <strong><a href='https://wandb.ai/manoj_da24s018-iit-madras/CNN-inaturalist_12K-HyperParameterSweep-Trail1/runs/ikd2rfxo' target=\"_blank\">valiant-sweep-18</a></strong> to <a href='https://wandb.ai/manoj_da24s018-iit-madras/CNN-inaturalist_12K-HyperParameterSweep-Trail1' target=\"_blank\">Weights & Biases</a> (<a href='https://wandb.me/developer-guide' target=\"_blank\">docs</a>)<br>Sweep page: <a href='https://wandb.ai/manoj_da24s018-iit-madras/CNN-inaturalist_12K-HyperParameterSweep-Trail1/sweeps/8301demb' target=\"_blank\">https://wandb.ai/manoj_da24s018-iit-madras/CNN-inaturalist_12K-HyperParameterSweep-Trail1/sweeps/8301demb</a>"
      ],
      "text/plain": [
       "<IPython.core.display.HTML object>"
      ]
     },
     "metadata": {},
     "output_type": "display_data"
    },
    {
     "data": {
      "text/html": [
       " View project at <a href='https://wandb.ai/manoj_da24s018-iit-madras/CNN-inaturalist_12K-HyperParameterSweep-Trail1' target=\"_blank\">https://wandb.ai/manoj_da24s018-iit-madras/CNN-inaturalist_12K-HyperParameterSweep-Trail1</a>"
      ],
      "text/plain": [
       "<IPython.core.display.HTML object>"
      ]
     },
     "metadata": {},
     "output_type": "display_data"
    },
    {
     "data": {
      "text/html": [
       " View sweep at <a href='https://wandb.ai/manoj_da24s018-iit-madras/CNN-inaturalist_12K-HyperParameterSweep-Trail1/sweeps/8301demb' target=\"_blank\">https://wandb.ai/manoj_da24s018-iit-madras/CNN-inaturalist_12K-HyperParameterSweep-Trail1/sweeps/8301demb</a>"
      ],
      "text/plain": [
       "<IPython.core.display.HTML object>"
      ]
     },
     "metadata": {},
     "output_type": "display_data"
    },
    {
     "data": {
      "text/html": [
       " View run at <a href='https://wandb.ai/manoj_da24s018-iit-madras/CNN-inaturalist_12K-HyperParameterSweep-Trail1/runs/ikd2rfxo' target=\"_blank\">https://wandb.ai/manoj_da24s018-iit-madras/CNN-inaturalist_12K-HyperParameterSweep-Trail1/runs/ikd2rfxo</a>"
      ],
      "text/plain": [
       "<IPython.core.display.HTML object>"
      ]
     },
     "metadata": {},
     "output_type": "display_data"
    },
    {
     "name": "stdout",
     "output_type": "stream",
     "text": [
      "Sweep Name:  Conv_Blocks: 3, Num_Filters:32, Filter_org:2, Kernel_size:3, AFunc: tanh, Dense_Layers:1, Neurons_Dense_layer:256\n",
      "Model is on: cuda:0\n",
      "\n",
      "Epoch [1/10]\n",
      "Train Loss: 2.5665 | Train Acc: 12.11% | Val Loss: 2.3388 | Val Acc: 12.60%\n",
      "\n",
      "Epoch [2/10]\n",
      "Train Loss: 2.5232 | Train Acc: 12.09% | Val Loss: 2.4339 | Val Acc: 12.60%\n",
      "\n",
      "Epoch [3/10]\n",
      "Train Loss: 2.4850 | Train Acc: 13.18% | Val Loss: 2.3720 | Val Acc: 11.80%\n",
      "\n",
      "Epoch [4/10]\n",
      "Train Loss: 2.5117 | Train Acc: 12.44% | Val Loss: 2.4122 | Val Acc: 13.85%\n",
      "\n",
      "Epoch [5/10]\n",
      "Train Loss: 2.5362 | Train Acc: 12.66% | Val Loss: 2.3250 | Val Acc: 13.50%\n",
      "\n",
      "Epoch [6/10]\n",
      "Train Loss: 2.5075 | Train Acc: 13.31% | Val Loss: 2.3457 | Val Acc: 15.65%\n",
      "\n",
      "Epoch [7/10]\n",
      "Train Loss: 2.5199 | Train Acc: 12.96% | Val Loss: 2.5241 | Val Acc: 11.85%\n",
      "\n",
      "Epoch [8/10]\n",
      "Train Loss: 2.5008 | Train Acc: 13.23% | Val Loss: 2.3677 | Val Acc: 12.50%\n",
      "\n",
      "Epoch [9/10]\n",
      "Train Loss: 2.4839 | Train Acc: 13.68% | Val Loss: 2.4079 | Val Acc: 12.65%\n",
      "\n",
      "Epoch [10/10]\n",
      "Train Loss: 2.4954 | Train Acc: 12.83% | Val Loss: 2.4246 | Val Acc: 14.30%\n"
     ]
    },
    {
     "data": {
      "text/html": [],
      "text/plain": [
       "<IPython.core.display.HTML object>"
      ]
     },
     "metadata": {},
     "output_type": "display_data"
    },
    {
     "data": {
      "text/html": [
       "<br>    <style><br>        .wandb-row {<br>            display: flex;<br>            flex-direction: row;<br>            flex-wrap: wrap;<br>            justify-content: flex-start;<br>            width: 100%;<br>        }<br>        .wandb-col {<br>            display: flex;<br>            flex-direction: column;<br>            flex-basis: 100%;<br>            flex: 1;<br>            padding: 10px;<br>        }<br>    </style><br><div class=\"wandb-row\"><div class=\"wandb-col\"><h3>Run history:</h3><br/><table class=\"wandb\"><tr><td>epoch</td><td>▁▂▃▃▄▅▆▆▇█</td></tr><tr><td>train_accuracy</td><td>▁▁▆▃▄▆▅▆█▄</td></tr><tr><td>train_loss</td><td>█▄▁▃▅▃▄▂▁▂</td></tr><tr><td>val_accuracy</td><td>▂▂▁▅▄█▁▂▃▆</td></tr><tr><td>val_loss</td><td>▁▅▃▄▁▂█▃▄▅</td></tr></table><br/></div><div class=\"wandb-col\"><h3>Run summary:</h3><br/><table class=\"wandb\"><tr><td>epoch</td><td>9</td></tr><tr><td>train_accuracy</td><td>12.8266</td></tr><tr><td>train_loss</td><td>2.49541</td></tr><tr><td>val_accuracy</td><td>14.3</td></tr><tr><td>val_loss</td><td>2.42462</td></tr></table><br/></div></div>"
      ],
      "text/plain": [
       "<IPython.core.display.HTML object>"
      ]
     },
     "metadata": {},
     "output_type": "display_data"
    },
    {
     "data": {
      "text/html": [
       " View run <strong style=\"color:#cdcd00\">Conv_Blocks: 3, Num_Filters:32, Filter_org:2, Kernel_size:3, AFunc: tanh, Dense_Layers:1, Neurons_Dense_layer:256</strong> at: <a href='https://wandb.ai/manoj_da24s018-iit-madras/CNN-inaturalist_12K-HyperParameterSweep-Trail1/runs/ikd2rfxo' target=\"_blank\">https://wandb.ai/manoj_da24s018-iit-madras/CNN-inaturalist_12K-HyperParameterSweep-Trail1/runs/ikd2rfxo</a><br> View project at: <a href='https://wandb.ai/manoj_da24s018-iit-madras/CNN-inaturalist_12K-HyperParameterSweep-Trail1' target=\"_blank\">https://wandb.ai/manoj_da24s018-iit-madras/CNN-inaturalist_12K-HyperParameterSweep-Trail1</a><br>Synced 5 W&B file(s), 0 media file(s), 0 artifact file(s) and 0 other file(s)"
      ],
      "text/plain": [
       "<IPython.core.display.HTML object>"
      ]
     },
     "metadata": {},
     "output_type": "display_data"
    },
    {
     "data": {
      "text/html": [
       "Find logs at: <code>./wandb/run-20250404_221831-ikd2rfxo/logs</code>"
      ],
      "text/plain": [
       "<IPython.core.display.HTML object>"
      ]
     },
     "metadata": {},
     "output_type": "display_data"
    },
    {
     "name": "stderr",
     "output_type": "stream",
     "text": [
      "\u001b[34m\u001b[1mwandb\u001b[0m: Agent Starting Run: eoa2ka52 with config:\n",
      "\u001b[34m\u001b[1mwandb\u001b[0m: \tactivation_func: mish\n",
      "\u001b[34m\u001b[1mwandb\u001b[0m: \tbatch_norm: True\n",
      "\u001b[34m\u001b[1mwandb\u001b[0m: \tdense_neurons: 256\n",
      "\u001b[34m\u001b[1mwandb\u001b[0m: \tdropout: 0.2\n",
      "\u001b[34m\u001b[1mwandb\u001b[0m: \tfilter_org: 1\n",
      "\u001b[34m\u001b[1mwandb\u001b[0m: \tkernel_size: 3\n",
      "\u001b[34m\u001b[1mwandb\u001b[0m: \tlearning_rate: 0.001\n",
      "\u001b[34m\u001b[1mwandb\u001b[0m: \tnum_conv_filter: 32\n",
      "\u001b[34m\u001b[1mwandb\u001b[0m: \tnum_conv_layer: 5\n",
      "\u001b[34m\u001b[1mwandb\u001b[0m: \tnum_dense_layers: 2\n"
     ]
    },
    {
     "data": {
      "text/html": [
       "Tracking run with wandb version 0.19.9"
      ],
      "text/plain": [
       "<IPython.core.display.HTML object>"
      ]
     },
     "metadata": {},
     "output_type": "display_data"
    },
    {
     "data": {
      "text/html": [
       "Run data is saved locally in <code>/home/student/DL/wandb/run-20250404_222017-eoa2ka52</code>"
      ],
      "text/plain": [
       "<IPython.core.display.HTML object>"
      ]
     },
     "metadata": {},
     "output_type": "display_data"
    },
    {
     "data": {
      "text/html": [
       "Syncing run <strong><a href='https://wandb.ai/manoj_da24s018-iit-madras/CNN-inaturalist_12K-HyperParameterSweep-Trail1/runs/eoa2ka52' target=\"_blank\">balmy-sweep-19</a></strong> to <a href='https://wandb.ai/manoj_da24s018-iit-madras/CNN-inaturalist_12K-HyperParameterSweep-Trail1' target=\"_blank\">Weights & Biases</a> (<a href='https://wandb.me/developer-guide' target=\"_blank\">docs</a>)<br>Sweep page: <a href='https://wandb.ai/manoj_da24s018-iit-madras/CNN-inaturalist_12K-HyperParameterSweep-Trail1/sweeps/8301demb' target=\"_blank\">https://wandb.ai/manoj_da24s018-iit-madras/CNN-inaturalist_12K-HyperParameterSweep-Trail1/sweeps/8301demb</a>"
      ],
      "text/plain": [
       "<IPython.core.display.HTML object>"
      ]
     },
     "metadata": {},
     "output_type": "display_data"
    },
    {
     "data": {
      "text/html": [
       " View project at <a href='https://wandb.ai/manoj_da24s018-iit-madras/CNN-inaturalist_12K-HyperParameterSweep-Trail1' target=\"_blank\">https://wandb.ai/manoj_da24s018-iit-madras/CNN-inaturalist_12K-HyperParameterSweep-Trail1</a>"
      ],
      "text/plain": [
       "<IPython.core.display.HTML object>"
      ]
     },
     "metadata": {},
     "output_type": "display_data"
    },
    {
     "data": {
      "text/html": [
       " View sweep at <a href='https://wandb.ai/manoj_da24s018-iit-madras/CNN-inaturalist_12K-HyperParameterSweep-Trail1/sweeps/8301demb' target=\"_blank\">https://wandb.ai/manoj_da24s018-iit-madras/CNN-inaturalist_12K-HyperParameterSweep-Trail1/sweeps/8301demb</a>"
      ],
      "text/plain": [
       "<IPython.core.display.HTML object>"
      ]
     },
     "metadata": {},
     "output_type": "display_data"
    },
    {
     "data": {
      "text/html": [
       " View run at <a href='https://wandb.ai/manoj_da24s018-iit-madras/CNN-inaturalist_12K-HyperParameterSweep-Trail1/runs/eoa2ka52' target=\"_blank\">https://wandb.ai/manoj_da24s018-iit-madras/CNN-inaturalist_12K-HyperParameterSweep-Trail1/runs/eoa2ka52</a>"
      ],
      "text/plain": [
       "<IPython.core.display.HTML object>"
      ]
     },
     "metadata": {},
     "output_type": "display_data"
    },
    {
     "name": "stdout",
     "output_type": "stream",
     "text": [
      "Sweep Name:  Conv_Blocks: 5, Num_Filters:32, Filter_org:1, Kernel_size:3, AFunc: mish, Dense_Layers:2, Neurons_Dense_layer:256\n",
      "Model is on: cuda:0\n",
      "\n",
      "Epoch [1/10]\n",
      "Train Loss: 2.0788 | Train Acc: 26.17% | Val Loss: 2.0068 | Val Acc: 28.85%\n",
      "\n",
      "Epoch [2/10]\n",
      "Train Loss: 1.9218 | Train Acc: 32.33% | Val Loss: 1.9213 | Val Acc: 32.10%\n",
      "\n",
      "Epoch [3/10]\n",
      "Train Loss: 1.8455 | Train Acc: 35.20% | Val Loss: 2.0378 | Val Acc: 29.50%\n",
      "\n",
      "Epoch [4/10]\n",
      "Train Loss: 1.7817 | Train Acc: 37.42% | Val Loss: 1.8633 | Val Acc: 34.45%\n",
      "\n",
      "Epoch [5/10]\n",
      "Train Loss: 1.7206 | Train Acc: 39.87% | Val Loss: 1.8109 | Val Acc: 35.45%\n",
      "\n",
      "Epoch [6/10]\n",
      "Train Loss: 1.6456 | Train Acc: 42.89% | Val Loss: 1.8398 | Val Acc: 35.50%\n",
      "\n",
      "Epoch [7/10]\n",
      "Train Loss: 1.5661 | Train Acc: 45.69% | Val Loss: 1.8619 | Val Acc: 35.65%\n",
      "\n",
      "Epoch [8/10]\n",
      "Train Loss: 1.5106 | Train Acc: 47.53% | Val Loss: 1.8527 | Val Acc: 37.25%\n",
      "\n",
      "Epoch [9/10]\n",
      "Train Loss: 1.4254 | Train Acc: 50.99% | Val Loss: 1.8357 | Val Acc: 37.25%\n",
      "\n",
      "Epoch [10/10]\n",
      "Train Loss: 1.3360 | Train Acc: 53.68% | Val Loss: 1.9600 | Val Acc: 34.10%\n"
     ]
    },
    {
     "data": {
      "text/html": [],
      "text/plain": [
       "<IPython.core.display.HTML object>"
      ]
     },
     "metadata": {},
     "output_type": "display_data"
    },
    {
     "data": {
      "text/html": [
       "<br>    <style><br>        .wandb-row {<br>            display: flex;<br>            flex-direction: row;<br>            flex-wrap: wrap;<br>            justify-content: flex-start;<br>            width: 100%;<br>        }<br>        .wandb-col {<br>            display: flex;<br>            flex-direction: column;<br>            flex-basis: 100%;<br>            flex: 1;<br>            padding: 10px;<br>        }<br>    </style><br><div class=\"wandb-row\"><div class=\"wandb-col\"><h3>Run history:</h3><br/><table class=\"wandb\"><tr><td>epoch</td><td>▁▂▃▃▄▅▆▆▇█</td></tr><tr><td>train_accuracy</td><td>▁▃▃▄▄▅▆▆▇█</td></tr><tr><td>train_loss</td><td>█▇▆▅▅▄▃▃▂▁</td></tr><tr><td>val_accuracy</td><td>▁▄▂▆▇▇▇██▅</td></tr><tr><td>val_loss</td><td>▇▄█▃▁▂▃▂▂▆</td></tr></table><br/></div><div class=\"wandb-col\"><h3>Run summary:</h3><br/><table class=\"wandb\"><tr><td>epoch</td><td>9</td></tr><tr><td>train_accuracy</td><td>53.68171</td></tr><tr><td>train_loss</td><td>1.33604</td></tr><tr><td>val_accuracy</td><td>34.1</td></tr><tr><td>val_loss</td><td>1.95998</td></tr></table><br/></div></div>"
      ],
      "text/plain": [
       "<IPython.core.display.HTML object>"
      ]
     },
     "metadata": {},
     "output_type": "display_data"
    },
    {
     "data": {
      "text/html": [
       " View run <strong style=\"color:#cdcd00\">Conv_Blocks: 5, Num_Filters:32, Filter_org:1, Kernel_size:3, AFunc: mish, Dense_Layers:2, Neurons_Dense_layer:256</strong> at: <a href='https://wandb.ai/manoj_da24s018-iit-madras/CNN-inaturalist_12K-HyperParameterSweep-Trail1/runs/eoa2ka52' target=\"_blank\">https://wandb.ai/manoj_da24s018-iit-madras/CNN-inaturalist_12K-HyperParameterSweep-Trail1/runs/eoa2ka52</a><br> View project at: <a href='https://wandb.ai/manoj_da24s018-iit-madras/CNN-inaturalist_12K-HyperParameterSweep-Trail1' target=\"_blank\">https://wandb.ai/manoj_da24s018-iit-madras/CNN-inaturalist_12K-HyperParameterSweep-Trail1</a><br>Synced 5 W&B file(s), 0 media file(s), 0 artifact file(s) and 0 other file(s)"
      ],
      "text/plain": [
       "<IPython.core.display.HTML object>"
      ]
     },
     "metadata": {},
     "output_type": "display_data"
    },
    {
     "data": {
      "text/html": [
       "Find logs at: <code>./wandb/run-20250404_222017-eoa2ka52/logs</code>"
      ],
      "text/plain": [
       "<IPython.core.display.HTML object>"
      ]
     },
     "metadata": {},
     "output_type": "display_data"
    },
    {
     "name": "stderr",
     "output_type": "stream",
     "text": [
      "\u001b[34m\u001b[1mwandb\u001b[0m: Agent Starting Run: jbmhv1l6 with config:\n",
      "\u001b[34m\u001b[1mwandb\u001b[0m: \tactivation_func: tanh\n",
      "\u001b[34m\u001b[1mwandb\u001b[0m: \tbatch_norm: True\n",
      "\u001b[34m\u001b[1mwandb\u001b[0m: \tdense_neurons: 512\n",
      "\u001b[34m\u001b[1mwandb\u001b[0m: \tdropout: 0.4\n",
      "\u001b[34m\u001b[1mwandb\u001b[0m: \tfilter_org: 0.5\n",
      "\u001b[34m\u001b[1mwandb\u001b[0m: \tkernel_size: 3\n",
      "\u001b[34m\u001b[1mwandb\u001b[0m: \tlearning_rate: 0.01\n",
      "\u001b[34m\u001b[1mwandb\u001b[0m: \tnum_conv_filter: 32\n",
      "\u001b[34m\u001b[1mwandb\u001b[0m: \tnum_conv_layer: 7\n",
      "\u001b[34m\u001b[1mwandb\u001b[0m: \tnum_dense_layers: 1\n"
     ]
    },
    {
     "data": {
      "text/html": [
       "Tracking run with wandb version 0.19.9"
      ],
      "text/plain": [
       "<IPython.core.display.HTML object>"
      ]
     },
     "metadata": {},
     "output_type": "display_data"
    },
    {
     "data": {
      "text/html": [
       "Run data is saved locally in <code>/home/student/DL/wandb/run-20250404_222153-jbmhv1l6</code>"
      ],
      "text/plain": [
       "<IPython.core.display.HTML object>"
      ]
     },
     "metadata": {},
     "output_type": "display_data"
    },
    {
     "data": {
      "text/html": [
       "Syncing run <strong><a href='https://wandb.ai/manoj_da24s018-iit-madras/CNN-inaturalist_12K-HyperParameterSweep-Trail1/runs/jbmhv1l6' target=\"_blank\">astral-sweep-20</a></strong> to <a href='https://wandb.ai/manoj_da24s018-iit-madras/CNN-inaturalist_12K-HyperParameterSweep-Trail1' target=\"_blank\">Weights & Biases</a> (<a href='https://wandb.me/developer-guide' target=\"_blank\">docs</a>)<br>Sweep page: <a href='https://wandb.ai/manoj_da24s018-iit-madras/CNN-inaturalist_12K-HyperParameterSweep-Trail1/sweeps/8301demb' target=\"_blank\">https://wandb.ai/manoj_da24s018-iit-madras/CNN-inaturalist_12K-HyperParameterSweep-Trail1/sweeps/8301demb</a>"
      ],
      "text/plain": [
       "<IPython.core.display.HTML object>"
      ]
     },
     "metadata": {},
     "output_type": "display_data"
    },
    {
     "data": {
      "text/html": [
       " View project at <a href='https://wandb.ai/manoj_da24s018-iit-madras/CNN-inaturalist_12K-HyperParameterSweep-Trail1' target=\"_blank\">https://wandb.ai/manoj_da24s018-iit-madras/CNN-inaturalist_12K-HyperParameterSweep-Trail1</a>"
      ],
      "text/plain": [
       "<IPython.core.display.HTML object>"
      ]
     },
     "metadata": {},
     "output_type": "display_data"
    },
    {
     "data": {
      "text/html": [
       " View sweep at <a href='https://wandb.ai/manoj_da24s018-iit-madras/CNN-inaturalist_12K-HyperParameterSweep-Trail1/sweeps/8301demb' target=\"_blank\">https://wandb.ai/manoj_da24s018-iit-madras/CNN-inaturalist_12K-HyperParameterSweep-Trail1/sweeps/8301demb</a>"
      ],
      "text/plain": [
       "<IPython.core.display.HTML object>"
      ]
     },
     "metadata": {},
     "output_type": "display_data"
    },
    {
     "data": {
      "text/html": [
       " View run at <a href='https://wandb.ai/manoj_da24s018-iit-madras/CNN-inaturalist_12K-HyperParameterSweep-Trail1/runs/jbmhv1l6' target=\"_blank\">https://wandb.ai/manoj_da24s018-iit-madras/CNN-inaturalist_12K-HyperParameterSweep-Trail1/runs/jbmhv1l6</a>"
      ],
      "text/plain": [
       "<IPython.core.display.HTML object>"
      ]
     },
     "metadata": {},
     "output_type": "display_data"
    },
    {
     "name": "stdout",
     "output_type": "stream",
     "text": [
      "Sweep Name:  Conv_Blocks: 7, Num_Filters:32, Filter_org:0.5, Kernel_size:3, AFunc: tanh, Dense_Layers:1, Neurons_Dense_layer:512\n",
      "Model is on: cuda:0\n",
      "\n",
      "Epoch [1/10]\n",
      "Train Loss: 2.3552 | Train Acc: 13.06% | Val Loss: 2.3114 | Val Acc: 12.10%\n",
      "\n",
      "Epoch [2/10]\n",
      "Train Loss: 2.2693 | Train Acc: 14.75% | Val Loss: 2.3435 | Val Acc: 11.50%\n",
      "\n",
      "Epoch [3/10]\n",
      "Train Loss: 2.2474 | Train Acc: 15.60% | Val Loss: 2.2354 | Val Acc: 15.45%\n",
      "\n",
      "Epoch [4/10]\n",
      "Train Loss: 2.2263 | Train Acc: 16.14% | Val Loss: 2.2257 | Val Acc: 16.40%\n",
      "\n",
      "Epoch [5/10]\n",
      "Train Loss: 2.2202 | Train Acc: 17.11% | Val Loss: 2.2500 | Val Acc: 14.05%\n",
      "\n",
      "Epoch [6/10]\n",
      "Train Loss: 2.1985 | Train Acc: 17.54% | Val Loss: 2.1980 | Val Acc: 18.75%\n",
      "\n",
      "Epoch [7/10]\n",
      "Train Loss: 2.1720 | Train Acc: 19.48% | Val Loss: 2.1765 | Val Acc: 17.95%\n",
      "\n",
      "Epoch [8/10]\n",
      "Train Loss: 2.1564 | Train Acc: 19.93% | Val Loss: 2.1544 | Val Acc: 19.65%\n",
      "\n",
      "Epoch [9/10]\n",
      "Train Loss: 2.1433 | Train Acc: 20.48% | Val Loss: 2.1563 | Val Acc: 19.20%\n",
      "\n",
      "Epoch [10/10]\n",
      "Train Loss: 2.1423 | Train Acc: 20.50% | Val Loss: 2.1749 | Val Acc: 18.90%\n"
     ]
    },
    {
     "data": {
      "text/html": [],
      "text/plain": [
       "<IPython.core.display.HTML object>"
      ]
     },
     "metadata": {},
     "output_type": "display_data"
    },
    {
     "data": {
      "text/html": [
       "<br>    <style><br>        .wandb-row {<br>            display: flex;<br>            flex-direction: row;<br>            flex-wrap: wrap;<br>            justify-content: flex-start;<br>            width: 100%;<br>        }<br>        .wandb-col {<br>            display: flex;<br>            flex-direction: column;<br>            flex-basis: 100%;<br>            flex: 1;<br>            padding: 10px;<br>        }<br>    </style><br><div class=\"wandb-row\"><div class=\"wandb-col\"><h3>Run history:</h3><br/><table class=\"wandb\"><tr><td>epoch</td><td>▁▂▃▃▄▅▆▆▇█</td></tr><tr><td>train_accuracy</td><td>▁▃▃▄▅▅▇▇██</td></tr><tr><td>train_loss</td><td>█▅▄▄▄▃▂▁▁▁</td></tr><tr><td>val_accuracy</td><td>▂▁▄▅▃▇▇██▇</td></tr><tr><td>val_loss</td><td>▇█▄▄▅▃▂▁▁▂</td></tr></table><br/></div><div class=\"wandb-col\"><h3>Run summary:</h3><br/><table class=\"wandb\"><tr><td>epoch</td><td>9</td></tr><tr><td>train_accuracy</td><td>20.50256</td></tr><tr><td>train_loss</td><td>2.14231</td></tr><tr><td>val_accuracy</td><td>18.9</td></tr><tr><td>val_loss</td><td>2.17486</td></tr></table><br/></div></div>"
      ],
      "text/plain": [
       "<IPython.core.display.HTML object>"
      ]
     },
     "metadata": {},
     "output_type": "display_data"
    },
    {
     "data": {
      "text/html": [
       " View run <strong style=\"color:#cdcd00\">Conv_Blocks: 7, Num_Filters:32, Filter_org:0.5, Kernel_size:3, AFunc: tanh, Dense_Layers:1, Neurons_Dense_layer:512</strong> at: <a href='https://wandb.ai/manoj_da24s018-iit-madras/CNN-inaturalist_12K-HyperParameterSweep-Trail1/runs/jbmhv1l6' target=\"_blank\">https://wandb.ai/manoj_da24s018-iit-madras/CNN-inaturalist_12K-HyperParameterSweep-Trail1/runs/jbmhv1l6</a><br> View project at: <a href='https://wandb.ai/manoj_da24s018-iit-madras/CNN-inaturalist_12K-HyperParameterSweep-Trail1' target=\"_blank\">https://wandb.ai/manoj_da24s018-iit-madras/CNN-inaturalist_12K-HyperParameterSweep-Trail1</a><br>Synced 5 W&B file(s), 0 media file(s), 0 artifact file(s) and 0 other file(s)"
      ],
      "text/plain": [
       "<IPython.core.display.HTML object>"
      ]
     },
     "metadata": {},
     "output_type": "display_data"
    },
    {
     "data": {
      "text/html": [
       "Find logs at: <code>./wandb/run-20250404_222153-jbmhv1l6/logs</code>"
      ],
      "text/plain": [
       "<IPython.core.display.HTML object>"
      ]
     },
     "metadata": {},
     "output_type": "display_data"
    }
   ],
   "source": [
    "def sweep_hyperparameters():\n",
    "    default_config = {\n",
    "        \"learning_rate\": 0.001,\n",
    "        \"num_conv_layer\": 5,\n",
    "        \"num_conv_filter\": 32,\n",
    "        \"filter_org\": 1,\n",
    "        \"batch_norm\": False,\n",
    "        \"dropout\": 0.25,\n",
    "        \"kernel_size\": 3,\n",
    "        \"activation_func\": 'relu',\n",
    "        \"num_dense_layers\": 1,\n",
    "        \"dense_neurons\": 512\n",
    "    }\n",
    "    \n",
    "    wandb.init(config = default_config)\n",
    "    config = wandb.config # To get the Hyper Parameters from sweep_config\n",
    "    \n",
    "    learning_rate = config.learning_rate\n",
    "    dense_neurons = config.dense_neurons\n",
    "    num_dense_layers = config.num_dense_layers\n",
    "    activation_func = config.activation_func\n",
    "    kernel_size = config.kernel_size\n",
    "    dropout = config.dropout\n",
    "    batch_norm = config.batch_norm\n",
    "    filter_org = config.filter_org\n",
    "    num_conv_filter = config.num_conv_filter\n",
    "    num_conv_layer = config.num_conv_layer\n",
    "    \n",
    "    run_name = f\"Conv_Blocks: {num_conv_layer}, Num_Filters:{num_conv_filter}, Filter_org:{filter_org}, Kernel_size:{kernel_size}, AFunc: {activation_func}, Dense_Layers:{num_dense_layers}, Neurons_Dense_layer:{dense_neurons}\"\n",
    "    print(\"Sweep Name: \",run_name)\n",
    "    \n",
    "    model = CNN(num_conv_layer, num_conv_filter, filter_org, batch_norm\n",
    "                ,dropout, kernel_size, activation_func, num_dense_layers, dense_neurons).to(device)\n",
    "    model.to(device)\n",
    "    \n",
    "    criterion = nn.CrossEntropyLoss().to(device)\n",
    "    optimizer = optim.Adam(model.parameters(), lr=learning_rate)\n",
    "    \n",
    "    print(f\"Model is on: {next(model.parameters()).device}\")\n",
    "\n",
    "    epochs = 10\n",
    "    for epoch in range(epochs):\n",
    "        print(f\"\\nEpoch [{epoch+1}/{epochs}]\")\n",
    "\n",
    "        # Training Phase\n",
    "        model.train()\n",
    "        train_loss, correct, total = 0.0, 0, 0\n",
    "\n",
    "        for images, labels in train_loader:\n",
    "            images, labels = images.to(device), labels.to(device)\n",
    "            \n",
    "            optimizer.zero_grad()\n",
    "            outputs = model(images)\n",
    "            loss = criterion(outputs, labels)\n",
    "            loss.backward()\n",
    "            optimizer.step()\n",
    "            \n",
    "            train_loss += loss.item()\n",
    "            _, predicted = torch.max(outputs, 1)\n",
    "            total += labels.size(0)\n",
    "            correct += (predicted == labels).sum().item()\n",
    "\n",
    "        train_accuracy = 100 * correct / total\n",
    "        avg_train_loss = train_loss / len(train_loader)\n",
    "\n",
    "        # Validation Phase\n",
    "        model.eval()\n",
    "        val_loss, correct, total = 0.0, 0, 0\n",
    "\n",
    "        with torch.no_grad():\n",
    "            for images, labels in val_loader:\n",
    "                images, labels = images.to(device), labels.to(device)\n",
    "                outputs = model(images)\n",
    "                loss = criterion(outputs, labels)\n",
    "                val_loss += loss.item()\n",
    "\n",
    "                _, predicted = torch.max(outputs, 1)\n",
    "                total += labels.size(0)\n",
    "                correct += (predicted == labels).sum().item()\n",
    "\n",
    "        val_accuracy = 100 * correct / total\n",
    "        avg_val_loss = val_loss / len(val_loader)\n",
    "\n",
    "        print(f\"Train Loss: {avg_train_loss:.4f} | Train Acc: {train_accuracy:.2f}% | Val Loss: {avg_val_loss:.4f} | Val Acc: {val_accuracy:.2f}%\")\n",
    "        #print(f\"Val Loss: {avg_val_loss:.4f} | Val Acc: {val_accuracy:.2f}%\")\n",
    "        \n",
    "        wandb.log({\n",
    "            \"epoch\": epoch,\n",
    "            \"train_loss\": avg_train_loss, \n",
    "            \"train_accuracy\": train_accuracy,\n",
    "            \"val_loss\": avg_val_loss, \n",
    "            \"val_accuracy\": val_accuracy})\n",
    "    wandb.run.name = run_name\n",
    "    wandb.run.save()\n",
    "    \n",
    "\n",
    "sweep_ID = wandb.sweep(sweep_config, entity=\"manoj_da24s018-iit-madras\", project=\"CNN-inaturalist_12K-HyperParameterSweep-Trail1\")\n",
    "wandb.agent(sweep_ID, sweep_hyperparameters, count=20)"
   ]
  },
  {
   "cell_type": "code",
   "execution_count": null,
   "id": "b82c4420-865c-4563-9976-a7a66dc0eb64",
   "metadata": {},
   "outputs": [],
   "source": []
  }
 ],
 "metadata": {
  "kernelspec": {
   "display_name": "Python 3 (ipykernel)",
   "language": "python",
   "name": "python3"
  },
  "language_info": {
   "codemirror_mode": {
    "name": "ipython",
    "version": 3
   },
   "file_extension": ".py",
   "mimetype": "text/x-python",
   "name": "python",
   "nbconvert_exporter": "python",
   "pygments_lexer": "ipython3",
   "version": "3.12.7"
  }
 },
 "nbformat": 4,
 "nbformat_minor": 5
}
